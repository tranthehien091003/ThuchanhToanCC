{
  "nbformat": 4,
  "nbformat_minor": 0,
  "metadata": {
    "colab": {
      "name": "Chương 3.ipynb",
      "provenance": [],
      "authorship_tag": "ABX9TyM35T2PPSPBIklRN8jJF7tK",
      "include_colab_link": true
    },
    "kernelspec": {
      "name": "python3",
      "display_name": "Python 3"
    },
    "language_info": {
      "name": "python"
    }
  },
  "cells": [
    {
      "cell_type": "markdown",
      "metadata": {
        "id": "view-in-github",
        "colab_type": "text"
      },
      "source": [
        "<a href=\"https://colab.research.google.com/github/tranthehien091003/ThuchanhToanCC/blob/main/Ch%C6%B0%C6%A1ng_3.ipynb\" target=\"_parent\"><img src=\"https://colab.research.google.com/assets/colab-badge.svg\" alt=\"Open In Colab\"/></a>"
      ]
    },
    {
      "cell_type": "markdown",
      "source": [
        "**Chương 3: Đạo hàm và ứng dụng**"
      ],
      "metadata": {
        "id": "64tgPB6KX7VG"
      }
    },
    {
      "cell_type": "markdown",
      "source": [
        "Thực hành 1: Viết hàm từ dấu nhắc lệnh >>> của trình IDLE "
      ],
      "metadata": {
        "id": "Gr8UB1JlYCXl"
      }
    },
    {
      "cell_type": "code",
      "execution_count": null,
      "metadata": {
        "id": "rv_vB9RYX4-n"
      },
      "outputs": [],
      "source": [
        "> def luythua(x, n): \n",
        " ketqua= 1 \n",
        " for i in range(n): \n",
        " ketqua = ketqua *x \n",
        " return ketqua "
      ]
    },
    {
      "cell_type": "code",
      "source": [
        "luythua(2,1) "
      ],
      "metadata": {
        "id": "BrMGgqJaYE6V"
      },
      "execution_count": null,
      "outputs": []
    },
    {
      "cell_type": "code",
      "source": [
        "luythua(2,0)"
      ],
      "metadata": {
        "id": "_eutHHtyYGg2"
      },
      "execution_count": null,
      "outputs": []
    },
    {
      "cell_type": "markdown",
      "source": [
        "Thực hành 2: Lỗi và cơ chế bắt lỗi trong Python "
      ],
      "metadata": {
        "id": "DLyXJzXUYH6q"
      }
    },
    {
      "cell_type": "markdown",
      "source": [
        "while 1 = 2:\n",
        ">>>lỗi: invalid syntax"
      ],
      "metadata": {
        "id": "sQJD2DsTYbRZ"
      }
    },
    {
      "cell_type": "markdown",
      "source": [
        " 10 * (1/0)\n",
        " >>>Lỗi: zeroDivisionError: division by zero"
      ],
      "metadata": {
        "id": "OlI8Ahc4Yiia"
      }
    },
    {
      "cell_type": "markdown",
      "source": [
        " 3 * bien_chua_khai_bao / 4\n",
        " >>> name 'bien_chua_khai_bao' is not defined"
      ],
      "metadata": {
        "id": "jeuPfpPAAjcb"
      }
    },
    {
      "cell_type": "markdown",
      "source": [
        "'ba' + 7\n",
        ">>>> Lỗi : can only concatenate str (not \"int\") to str"
      ],
      "metadata": {
        "id": "AmeGhsm4AXUg"
      }
    },
    {
      "cell_type": "markdown",
      "source": [
        "**Thực hành 3: Xử lý ngoại lệ với cơ chế try… except**"
      ],
      "metadata": {
        "id": "i4264_6wAvC0"
      }
    },
    {
      "cell_type": "code",
      "source": [
        "x = int(input(“Vui long nhap so: ”))\n",
        "while True: \n",
        " try: \n",
        "  x = int(input(“Vui long nhap so: ”)) \n",
        "  break \n",
        "except \n",
        "  print (‘Vui long nhap so. Khong nhap chu!’) \n"
      ],
      "metadata": {
        "id": "-qwQuLkQBYBp"
      },
      "execution_count": null,
      "outputs": []
    },
    {
      "cell_type": "markdown",
      "source": [
        "**Thực hành 4: Xử lý ngoại lệ với cơ chế try… except… else… finally **"
      ],
      "metadata": {
        "id": "S1VDfNdXBV6R"
      }
    },
    {
      "cell_type": "code",
      "source": [
        "while True: \n",
        "  try: \n",
        "    x = int(input('Vui long nhap so: ')) \n",
        "  except: \n",
        "    print ('So vua nhap sai') \n",
        "  else: \n",
        "    print ('so vua nhap la ' + str(x)) \n",
        "    break \n",
        "  finally: \n",
        "    print ('Da hoan thanh chuong trinh') \n"
      ],
      "metadata": {
        "colab": {
          "base_uri": "https://localhost:8080/"
        },
        "id": "AGK6zC5vBd6U",
        "outputId": "53001312-394b-4c4a-eb62-0dadc3d0e265"
      },
      "execution_count": null,
      "outputs": [
        {
          "output_type": "stream",
          "name": "stdout",
          "text": [
            "Vui long nhap so: a\n",
            "So vua nhap sai\n",
            "Da hoan thanh chuong trinh\n",
            "Vui long nhap so: 1\n",
            "so vua nhap la 1\n",
            "Da hoan thanh chuong trinh\n"
          ]
        }
      ]
    },
    {
      "cell_type": "markdown",
      "source": [
        "**Thực hành 5: Tạo hàm phát sinh dãy số thực đều**"
      ],
      "metadata": {
        "id": "edL1Oj2IBxtl"
      }
    },
    {
      "cell_type": "code",
      "source": [
        "def frange(batdau, ketthuc, buocnhay):\n",
        "  day_ketqua = [] \n",
        "  while batdau < ketthuc: \n",
        "    day_ketqua.append(batdau) \n",
        "    batdau = batdau + buocnhay \n",
        "  return day_ketqua"
      ],
      "metadata": {
        "id": "OVFbKeISB4iA"
      },
      "execution_count": null,
      "outputs": []
    },
    {
      "cell_type": "code",
      "source": [
        "x = frange( 0, 3, 0.2)\n",
        "x"
      ],
      "metadata": {
        "colab": {
          "base_uri": "https://localhost:8080/"
        },
        "id": "jsqSsg78B_xk",
        "outputId": "92cb8c89-f73c-4fba-e973-ac076bde5e95"
      },
      "execution_count": null,
      "outputs": [
        {
          "output_type": "execute_result",
          "data": {
            "text/plain": [
              "[0,\n",
              " 0.2,\n",
              " 0.4,\n",
              " 0.6000000000000001,\n",
              " 0.8,\n",
              " 1.0,\n",
              " 1.2,\n",
              " 1.4,\n",
              " 1.5999999999999999,\n",
              " 1.7999999999999998,\n",
              " 1.9999999999999998,\n",
              " 2.1999999999999997,\n",
              " 2.4,\n",
              " 2.6,\n",
              " 2.8000000000000003]"
            ]
          },
          "metadata": {},
          "execution_count": 9
        }
      ]
    },
    {
      "cell_type": "markdown",
      "source": [
        "**Thực hành 6: Vẽ quỹ đạo bay của vật được ném lên**"
      ],
      "metadata": {
        "id": "ZtZmbToOCCRC"
      }
    },
    {
      "cell_type": "code",
      "source": [
        "from matplotlib import pyplot as plt \n",
        "import math"
      ],
      "metadata": {
        "id": "w8VyFQVhCEpC"
      },
      "execution_count": null,
      "outputs": []
    },
    {
      "cell_type": "code",
      "source": [
        "def draw_graph(x, y): \n",
        " plt.plot(x, y) \n",
        " plt.xlabel('Truc X') \n",
        " plt.ylabel('Truc Y') \n",
        " plt.title('Do thi bai toan nem qua bong')"
      ],
      "metadata": {
        "id": "FI9nu-bpCG1f"
      },
      "execution_count": null,
      "outputs": []
    },
    {
      "cell_type": "code",
      "source": [
        "def frange(start, final, interval): \n",
        " numbers = [] \n",
        " while start < final: \n",
        "  numbers.append(start) \n",
        "  start = start + interval \n",
        " return numbers"
      ],
      "metadata": {
        "id": "soR-QD7QCITu"
      },
      "execution_count": null,
      "outputs": []
    },
    {
      "cell_type": "code",
      "source": [
        "def draw_trajectory(u, theta): \n",
        " # Gia toc trong truong \n",
        " g = 9.8 \n",
        " # Goc bay: \n",
        " theta = math.radians(theta) \n",
        " # Thoi gian bay: \n",
        " t_flight = 2*u*math.sin(theta)/g \n",
        " # Tinh toan khoang cach thoi gian \n",
        " intervals = frange(0, t_flight, 0.001) \n",
        " # Danh sach toa do x va y \n",
        " x = [] \n",
        " y = [] \n",
        " for t in intervals: \n",
        "  x.append(u*math.cos(theta)*t) \n",
        "  y.append(u*math.sin(theta)*t - 0.5*g*t*t) \n",
        " draw_graph(x, y) \n"
      ],
      "metadata": {
        "id": "PlBzT8j5CSSI"
      },
      "execution_count": null,
      "outputs": []
    },
    {
      "cell_type": "code",
      "source": [
        "if __name__ == '__main__':\n",
        " try: \n",
        "  u = float(input('Nhap van toc ban dau (m/s): ')) \n",
        "  theta = float(input('Nhap goc bay (degrees): ')) \n",
        " except ValueError: \n",
        "  print (' Nhap cac gia tri sai! ') \n",
        " else: \n",
        "  draw_trajectory(u, theta) \n",
        "  plt.show() \n",
        " finally: \n",
        "  print ('Hoan thanh chuong trinh!')"
      ],
      "metadata": {
        "colab": {
          "base_uri": "https://localhost:8080/",
          "height": 347
        },
        "id": "jr_W8qseCW5r",
        "outputId": "6851d129-cfd7-484f-e65b-24c54d2c7c79"
      },
      "execution_count": null,
      "outputs": [
        {
          "name": "stdout",
          "output_type": "stream",
          "text": [
            "Nhap van toc ban dau (m/s): 3\n",
            "Nhap goc bay (degrees): 60\n"
          ]
        },
        {
          "output_type": "display_data",
          "data": {
            "image/png": "[encoded data removed]",
            "text/plain": [
              "<Figure size 432x288 with 1 Axes>"
            ]
          },
          "metadata": {
            "needs_background": "light"
          }
        },
        {
          "output_type": "stream",
          "name": "stdout",
          "text": [
            "Hoan thanh chuong trinh!\n"
          ]
        }
      ]
    },
    {
      "cell_type": "markdown",
      "source": [
        "**Thực hành 7: Vẽ nhiều quỹ đạo trên cùng một đồ thị**"
      ],
      "metadata": {
        "id": "YuVSl9YaDPxg"
      }
    },
    {
      "cell_type": "code",
      "source": [
        "if __name__ == '__main__': \n",
        " # Danh sach cac toc do ban dau khac nhau \n",
        " ds_vantoc = [20, 40, 60] \n",
        " goc_bandau = 45 # 45 do \n",
        " for v in ds_vantoc: \n",
        "  draw_trajectory(v, goc_bandau) \n",
        " # Tao chu dan trong do thi: \n",
        " chudan = []\n",
        " for i in ds_vantoc: \n",
        "  chudan.append(str(i)) \n",
        " # Xem chu dan duoc tao: \n",
        " print (\"Chu dan duoc tao la: \") \n",
        " print (chudan) \n",
        " # Them chu dan vao do thi \n",
        " plt.legend(chudan) \n",
        " # Hien thi do thi: \n",
        " plt.show()"
      ],
      "metadata": {
        "colab": {
          "base_uri": "https://localhost:8080/",
          "height": 330
        },
        "id": "BsBMebs6DShC",
        "outputId": "44e68fbd-a387-4f76-b994-97e3bc55bffd"
      },
      "execution_count": null,
      "outputs": [
        {
          "output_type": "stream",
          "name": "stdout",
          "text": [
            "Chu dan duoc tao la: \n",
            "['20', '40', '60']\n"
          ]
        },
        {
          "output_type": "display_data",
          "data": {
            "image/png": "[encoded data removed]",
            "text/plain": [
              "<Figure size 432x288 with 1 Axes>"
            ]
          },
          "metadata": {
            "needs_background": "light"
          }
        }
      ]
    },
    {
      "cell_type": "markdown",
      "source": [
        "**Thực hành 8: Xây dựng chương trình tính đạo hàm**"
      ],
      "metadata": {
        "id": "Y3H1QufxDd1d"
      }
    },
    {
      "cell_type": "code",
      "source": [
        "from sympy import Symbol, Derivative, sympify, pprint \n",
        "def tinh_daoham(ham_f, bien): \n",
        " bien = Symbol(bien) \n",
        " d = Derivative(ham_f, bien).doit() \n",
        " pprint(d) "
      ],
      "metadata": {
        "id": "jZNfz2lODf7o"
      },
      "execution_count": null,
      "outputs": []
    },
    {
      "cell_type": "code",
      "source": [
        "tinh_daoham('x**3+x**2+x', 'x') "
      ],
      "metadata": {
        "id": "8WCcbELfDnL2",
        "outputId": "6ceb2c81-ac53-4831-faa6-0d6337964c23",
        "colab": {
          "base_uri": "https://localhost:8080/"
        }
      },
      "execution_count": null,
      "outputs": [
        {
          "output_type": "stream",
          "name": "stdout",
          "text": [
            "   2          \n",
            "3⋅x  + 2⋅x + 1\n"
          ]
        }
      ]
    },
    {
      "cell_type": "code",
      "source": [
        "if __name__ == '__main__': # luu y 2 dau gach duoi _ o moi chu \n",
        "  ham_input = input('Nhap 1 ham so: ') \n",
        "  bien = input('Nhap bien so: ') \n",
        "  try: \n",
        "    ham_sympy = sympify(ham_input) \n",
        "  except SympifyError: \n",
        "    print('Ham nhap bi loi!') \n",
        "else: \n",
        "  tinh_daoham(ham, bien)"
      ],
      "metadata": {
        "id": "nr-7_MJCccSL",
        "outputId": "63f6690d-25a6-487e-9e9b-24037906a944",
        "colab": {
          "base_uri": "https://localhost:8080/"
        }
      },
      "execution_count": null,
      "outputs": [
        {
          "name": "stdout",
          "output_type": "stream",
          "text": [
            "Nhap 1 ham so: 3\n",
            "Nhap bien so: 5\n"
          ]
        }
      ]
    },
    {
      "cell_type": "markdown",
      "source": [
        "**Thực hành: Vẽ đồ thị hàm 𝑹 để thấy được khoảng cách bay của “đạn” theo góc bắn.**"
      ],
      "metadata": {
        "id": "sntX_owZdCil"
      }
    },
    {
      "cell_type": "code",
      "source": [
        "from sympy import Symbol, sin, pi \n",
        "u = Symbol('u') \n",
        "u = 30.0 # van toc 30m/s \n",
        "g = 9.81 # hang so gia toc trong truong \n",
        "theta = Symbol('theta') \n",
        "R = (u**2)*sin(2.0*theta)/g \n",
        "R "
      ],
      "metadata": {
        "id": "MWnO2aUtdDHZ",
        "outputId": "5f2d62f1-74ed-41c3-fc4d-fd8342f6905b",
        "colab": {
          "base_uri": "https://localhost:8080/",
          "height": 39
        }
      },
      "execution_count": null,
      "outputs": [
        {
          "output_type": "execute_result",
          "data": {
            "text/latex": "$\\displaystyle 91.743119266055 \\sin{\\left(2.0 \\theta \\right)}$",
            "text/plain": [
              "91.743119266055*sin(2.0*theta)"
            ]
          },
          "metadata": {},
          "execution_count": 9
        }
      ]
    },
    {
      "cell_type": "markdown",
      "source": [
        "**Thực hành 9: Tìm giá trị cực đại của hàm bằng phương pháp Gradient Ascent **"
      ],
      "metadata": {
        "id": "LKQqsMiudZ7X"
      }
    },
    {
      "cell_type": "code",
      "source": [
        "import math \n",
        "from sympy import Derivative, Symbol, sin \n",
        "def grad_ascent(x0, f1x, x): \n",
        "  epsilon = 1e-6 \n",
        "  step_size = 1e-4 \n",
        "  x_cu = x0 \n",
        "  x_moi = x_cu + step_size * f1x.subs({x: x_cu}).evalf() \n",
        "  while abs(x_cu - x_moi) > epsilon: \n",
        "    x_cu = x_moi \n",
        "    x_moi = x_cu + step_size * f1x.subs({x: x_cu}).evalf() \n",
        "  return x_moi "
      ],
      "metadata": {
        "id": "phgF7V82dbqr"
      },
      "execution_count": null,
      "outputs": []
    },
    {
      "cell_type": "code",
      "source": [
        "def tim_max_theta(R, theta): \n",
        "  R1theta= Derivative(R, theta).doit()\n",
        "  theta_0 = 1e-3 \n",
        "  theta_max = grad_ascent(theta_0, R1theta, theta) \n",
        "  return theta_max "
      ],
      "metadata": {
        "id": "pkh5QuUBfTQF"
      },
      "execution_count": null,
      "outputs": []
    },
    {
      "cell_type": "code",
      "source": [
        "g = 9.8 \n",
        "u = 30 \n",
        "theta = Symbol('theta') \n",
        "R = (u**2) * sin(2*theta) / g\n",
        "theta_max = tim_max_theta(R, theta) \n",
        "print ('Goc theta: {0}'.format(math.degrees(theta_max)))"
      ],
      "metadata": {
        "id": "v0AXg6KPfZs4",
        "outputId": "8b143759-8afa-4dab-f02d-4695912f052d",
        "colab": {
          "base_uri": "https://localhost:8080/"
        }
      },
      "execution_count": null,
      "outputs": [
        {
          "output_type": "stream",
          "name": "stdout",
          "text": [
            "Goc theta: 44.99854431510696\n"
          ]
        }
      ]
    },
    {
      "cell_type": "code",
      "source": [
        "print ('Khoang cach vat bay xa: {0}'.format(R.subs({theta:theta_max}))) "
      ],
      "metadata": {
        "id": "xCBqiNdFfknF",
        "outputId": "edcd957d-3b92-46a5-df6b-fbb1d75ef550",
        "colab": {
          "base_uri": "https://localhost:8080/"
        }
      },
      "execution_count": null,
      "outputs": [
        {
          "output_type": "stream",
          "name": "stdout",
          "text": [
            "Khoang cach vat bay xa: 91.8367345753182\n"
          ]
        }
      ]
    },
    {
      "cell_type": "markdown",
      "source": [
        "**Bài tập chương 3:**"
      ],
      "metadata": {
        "id": "X_nB6saG1Xc_"
      }
    },
    {
      "cell_type": "markdown",
      "source": [
        "**Câu 1:**"
      ],
      "metadata": {
        "id": "va1Pdj2g1ZBg"
      }
    },
    {
      "cell_type": "code",
      "source": [
        "from matplotlib import pyplot as plt\n",
        "import math\n",
        "\n",
        "def draw_graph (x,y):\n",
        "  plt.plot(x,y)\n",
        "  plt.xlabel(\"Trục X\")\n",
        "  plt.ylabel(\"Trục Y\")\n",
        "  plt.title(\"Đồ thị bài toán ném vật thể bay\")\n",
        "\n",
        "def frange (batdau, ketthuc, buocnhay):\n",
        "  day_ketqua = []\n",
        "  while batdau < ketthuc:\n",
        "    day_ketqua.append(batdau)\n",
        "    batdau = batdau + buocnhay\n",
        "  return day_ketqua\n",
        "\n",
        "def draw_trajectory(u,theta):\n",
        "  g = 9.8\n",
        "  theta = math.radians(theta)\n",
        "  #thời gian bay\n",
        "  t_flight = 2*u*math.sin(theta)/g\n",
        "  #tính toán khoảng cách của thời gian\n",
        "  buoc_nhay = frange(0, t_flight, 0.0001)\n",
        "  x = []\n",
        "  y = []\n",
        "  for t in buoc_nhay:\n",
        "    x.append(u*math.cos(theta)*t)\n",
        "    y.append(u*math.sin(theta)*t - 0.5*g*t**2)\n",
        "  draw_graph(x,y)\n",
        "try:\n",
        "  u = 30\n",
        "  theta = float(input(\"Nhập góc bay\"))\n",
        "except ValueError:\n",
        "  print(\"Nhập các giá trị sai!\")\n",
        "else:\n",
        "  draw_trajectory(u, theta)\n",
        "  plt.show()\n",
        "finally:\n",
        "  print(\"Hoàn thành chương trình\")"
      ],
      "metadata": {
        "id": "2WpDRrA31auB",
        "outputId": "069a62c6-a6d2-4418-e2de-8f4e5d5068da",
        "colab": {
          "base_uri": "https://localhost:8080/",
          "height": 331
        }
      },
      "execution_count": 2,
      "outputs": [
        {
          "name": "stdout",
          "output_type": "stream",
          "text": [
            "Nhập góc bay40\n"
          ]
        },
        {
          "output_type": "display_data",
          "data": {
            "text/plain": [
              "<Figure size 432x288 with 1 Axes>"
            ],
            "image/png": "[encoded data removed]"
          },
          "metadata": {
            "needs_background": "light"
          }
        },
        {
          "output_type": "stream",
          "name": "stdout",
          "text": [
            "Hoàn thành chương trình\n"
          ]
        }
      ]
    }
  ]
}