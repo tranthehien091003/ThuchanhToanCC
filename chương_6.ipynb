{
  "nbformat": 4,
  "nbformat_minor": 0,
  "metadata": {
    "colab": {
      "name": "chương 6.ipynb",
      "provenance": [],
      "authorship_tag": "ABX9TyMiGCU5ZtQOVqrLbQbrVKm9",
      "include_colab_link": true
    },
    "kernelspec": {
      "name": "python3",
      "display_name": "Python 3"
    },
    "language_info": {
      "name": "python"
    }
  },
  "cells": [
    {
      "cell_type": "markdown",
      "metadata": {
        "id": "view-in-github",
        "colab_type": "text"
      },
      "source": [
        "<a href=\"https://colab.research.google.com/github/tranthehien091003/ThuchanhToanCC/blob/main/ch%C6%B0%C6%A1ng_6.ipynb\" target=\"_parent\"><img src=\"https://colab.research.google.com/assets/colab-badge.svg\" alt=\"Open In Colab\"/></a>"
      ]
    },
    {
      "cell_type": "markdown",
      "source": [
        "**Thực hành 1: Viết hàm đệ quy tính n! **"
      ],
      "metadata": {
        "id": "XQJP5gA2x58y"
      }
    },
    {
      "cell_type": "code",
      "execution_count": null,
      "metadata": {
        "id": "eJSNvgzEi0OM",
        "colab": {
          "base_uri": "https://localhost:8080/"
        },
        "outputId": "c0bf1bca-ff6b-437e-af4f-8549444e45b3"
      },
      "outputs": [
        {
          "output_type": "execute_result",
          "data": {
            "text/plain": [
              "6"
            ]
          },
          "metadata": {},
          "execution_count": 1
        }
      ],
      "source": [
        "import math\n",
        "def giaithua(n):\n",
        "  if(n== 0):\n",
        "    return 1\n",
        "  else:\n",
        "    return n*giaithua(n-1)\n",
        "giaithua(3)"
      ]
    },
    {
      "cell_type": "code",
      "source": [
        "giaithua(4)"
      ],
      "metadata": {
        "colab": {
          "base_uri": "https://localhost:8080/"
        },
        "id": "gjadZewXyLuJ",
        "outputId": "ade9cb69-222a-48ec-9a1c-ee42482df6c8"
      },
      "execution_count": null,
      "outputs": [
        {
          "output_type": "execute_result",
          "data": {
            "text/plain": [
              "24"
            ]
          },
          "metadata": {},
          "execution_count": 2
        }
      ]
    },
    {
      "cell_type": "markdown",
      "source": [
        "**Thực hành 2: Viết hàm đệ quy tính dãy số Fibonacci**"
      ],
      "metadata": {
        "id": "bwbAEY6uyOTd"
      }
    },
    {
      "cell_type": "code",
      "source": [
        "def fibo(n): \n",
        "  if n == 0: \n",
        "    return 0 \n",
        "  if n == 1: \n",
        "    return 1 \n",
        "  return fibo(n-1) + fibo(n-2) "
      ],
      "metadata": {
        "id": "iyAhGUUzyP0p"
      },
      "execution_count": null,
      "outputs": []
    },
    {
      "cell_type": "code",
      "source": [
        "fibo(4)"
      ],
      "metadata": {
        "colab": {
          "base_uri": "https://localhost:8080/"
        },
        "id": "JRVj3V8EyaZM",
        "outputId": "6dc567a4-170c-4ba4-8497-896e26740d88"
      },
      "execution_count": null,
      "outputs": [
        {
          "output_type": "execute_result",
          "data": {
            "text/plain": [
              "3"
            ]
          },
          "metadata": {},
          "execution_count": 4
        }
      ]
    },
    {
      "cell_type": "code",
      "source": [
        "fibo(5)"
      ],
      "metadata": {
        "colab": {
          "base_uri": "https://localhost:8080/"
        },
        "id": "plrEkR4fybnf",
        "outputId": "ded29509-5fb0-4290-d6ce-5630d7b8cd2d"
      },
      "execution_count": null,
      "outputs": [
        {
          "output_type": "execute_result",
          "data": {
            "text/plain": [
              "5"
            ]
          },
          "metadata": {},
          "execution_count": 5
        }
      ]
    },
    {
      "cell_type": "code",
      "source": [
        "fibo(6)"
      ],
      "metadata": {
        "colab": {
          "base_uri": "https://localhost:8080/"
        },
        "id": "iMbPFWBkycj7",
        "outputId": "be9096b9-070e-478a-c52e-0b8ebdeb3949"
      },
      "execution_count": null,
      "outputs": [
        {
          "output_type": "execute_result",
          "data": {
            "text/plain": [
              "8"
            ]
          },
          "metadata": {},
          "execution_count": 6
        }
      ]
    },
    {
      "cell_type": "markdown",
      "source": [
        "**Thực hành 3: Chứng minh dãy có giới hạn và tìm giới hạn của dãy **"
      ],
      "metadata": {
        "id": "-aXRWC_Zyqsn"
      }
    },
    {
      "cell_type": "code",
      "source": [
        "def an_exp_an(n): \n",
        "  if n == 1: \n",
        "    return 1.0/2 \n",
        "  else: \n",
        "    return an_exp_an(n-1)**an_exp_an(n-1) "
      ],
      "metadata": {
        "id": "-dR-nZ0ZyrLY"
      },
      "execution_count": null,
      "outputs": []
    },
    {
      "cell_type": "code",
      "source": [
        "an_exp_an(1)"
      ],
      "metadata": {
        "colab": {
          "base_uri": "https://localhost:8080/"
        },
        "id": "jaBpRdKky0kc",
        "outputId": "fef615c8-8387-4435-bfa9-f184a95458b1"
      },
      "execution_count": null,
      "outputs": [
        {
          "output_type": "execute_result",
          "data": {
            "text/plain": [
              "0.5"
            ]
          },
          "metadata": {},
          "execution_count": 8
        }
      ]
    },
    {
      "cell_type": "code",
      "source": [
        "an_exp_an(2)"
      ],
      "metadata": {
        "colab": {
          "base_uri": "https://localhost:8080/"
        },
        "id": "EpEbZTkdy2V-",
        "outputId": "d874bbc2-761c-474e-9ab0-2752d4a006ac"
      },
      "execution_count": null,
      "outputs": [
        {
          "output_type": "execute_result",
          "data": {
            "text/plain": [
              "0.7071067811865476"
            ]
          },
          "metadata": {},
          "execution_count": 9
        }
      ]
    },
    {
      "cell_type": "code",
      "source": [
        "an_exp_an(3)"
      ],
      "metadata": {
        "colab": {
          "base_uri": "https://localhost:8080/"
        },
        "id": "pz6v7i_jy4VI",
        "outputId": "1340f859-342a-40c1-fbba-d79dca61f1c6"
      },
      "execution_count": null,
      "outputs": [
        {
          "output_type": "execute_result",
          "data": {
            "text/plain": [
              "0.7826540273556803"
            ]
          },
          "metadata": {},
          "execution_count": 10
        }
      ]
    },
    {
      "cell_type": "code",
      "source": [
        "an_exp_an(4)"
      ],
      "metadata": {
        "colab": {
          "base_uri": "https://localhost:8080/"
        },
        "id": "aMfiv9xfy638",
        "outputId": "3a303730-d407-4645-a9ca-ec9b9c2236b2"
      },
      "execution_count": null,
      "outputs": [
        {
          "output_type": "execute_result",
          "data": {
            "text/plain": [
              "0.8254713306050621"
            ]
          },
          "metadata": {},
          "execution_count": 11
        }
      ]
    },
    {
      "cell_type": "code",
      "source": [
        "an_exp_an(5)"
      ],
      "metadata": {
        "colab": {
          "base_uri": "https://localhost:8080/"
        },
        "id": "FwIe-hvqy75j",
        "outputId": "df1f9b41-8207-4d2e-8c71-8fcee71eccf5"
      },
      "execution_count": null,
      "outputs": [
        {
          "output_type": "execute_result",
          "data": {
            "text/plain": [
              "0.8535714578150946"
            ]
          },
          "metadata": {},
          "execution_count": 12
        }
      ]
    },
    {
      "cell_type": "code",
      "source": [
        "an_exp_an(10)"
      ],
      "metadata": {
        "colab": {
          "base_uri": "https://localhost:8080/"
        },
        "id": "vePrDYRmy99h",
        "outputId": "2bc1e7de-8599-46a8-837a-118c2428e105"
      },
      "execution_count": null,
      "outputs": [
        {
          "output_type": "execute_result",
          "data": {
            "text/plain": [
              "0.9176411981636667"
            ]
          },
          "metadata": {},
          "execution_count": 13
        }
      ]
    },
    {
      "cell_type": "markdown",
      "source": [
        "**Thực hành 4: Chứng minh dãy có giới hạn và tìm giới hạn của dãy **"
      ],
      "metadata": {
        "id": "R8DgnvYQz0IR"
      }
    },
    {
      "cell_type": "code",
      "source": [
        "def th4(n): \n",
        "  if n==1: \n",
        "    return 4 \n",
        "  else: \n",
        "    return 5.0/(6-th4(n-1))"
      ],
      "metadata": {
        "id": "EVNw_C9nz10C"
      },
      "execution_count": null,
      "outputs": []
    },
    {
      "cell_type": "code",
      "source": [
        "th4(5)"
      ],
      "metadata": {
        "colab": {
          "base_uri": "https://localhost:8080/"
        },
        "id": "1yryE2-X0HQX",
        "outputId": "fa5ec1e1-30f6-4d77-fd54-df6ee3c46ea9"
      },
      "execution_count": null,
      "outputs": [
        {
          "output_type": "execute_result",
          "data": {
            "text/plain": [
              "1.019108280254777"
            ]
          },
          "metadata": {},
          "execution_count": 17
        }
      ]
    },
    {
      "cell_type": "code",
      "source": [
        "th4(6)"
      ],
      "metadata": {
        "colab": {
          "base_uri": "https://localhost:8080/"
        },
        "id": "wsxDBq4r0MW7",
        "outputId": "02b3ccfb-303b-4cdf-952b-daa0760407fe"
      },
      "execution_count": null,
      "outputs": [
        {
          "output_type": "execute_result",
          "data": {
            "text/plain": [
              "1.0038363171355498"
            ]
          },
          "metadata": {},
          "execution_count": 18
        }
      ]
    },
    {
      "cell_type": "code",
      "source": [
        "th4(7)"
      ],
      "metadata": {
        "colab": {
          "base_uri": "https://localhost:8080/"
        },
        "id": "RD3FqWQW0Qgi",
        "outputId": "ae879e8e-d575-401c-dfcb-451e34ce2d24"
      },
      "execution_count": null,
      "outputs": [
        {
          "output_type": "execute_result",
          "data": {
            "text/plain": [
              "1.000767852572306"
            ]
          },
          "metadata": {},
          "execution_count": 24
        }
      ]
    },
    {
      "cell_type": "code",
      "source": [
        "th4(8)"
      ],
      "metadata": {
        "colab": {
          "base_uri": "https://localhost:8080/"
        },
        "id": "Zx77yTWD0RU_",
        "outputId": "aa94d5df-d0b9-4f4f-a01a-d4a46f46a065"
      },
      "execution_count": null,
      "outputs": [
        {
          "output_type": "execute_result",
          "data": {
            "text/plain": [
              "1.0001535941019863"
            ]
          },
          "metadata": {},
          "execution_count": 19
        }
      ]
    },
    {
      "cell_type": "code",
      "source": [
        "th4(10)"
      ],
      "metadata": {
        "colab": {
          "base_uri": "https://localhost:8080/"
        },
        "id": "_7O-xfRx0S_3",
        "outputId": "5354ea57-08b2-4796-e0b3-6ccaf40fdc54"
      },
      "execution_count": null,
      "outputs": [
        {
          "output_type": "execute_result",
          "data": {
            "text/plain": [
              "1.0000061439905628"
            ]
          },
          "metadata": {},
          "execution_count": 22
        }
      ]
    },
    {
      "cell_type": "code",
      "source": [
        "th4(100)"
      ],
      "metadata": {
        "colab": {
          "base_uri": "https://localhost:8080/"
        },
        "id": "t7ADNogH0T1q",
        "outputId": "0e57a98a-ac66-49e2-d6d7-7314c1ee1c6a"
      },
      "execution_count": null,
      "outputs": [
        {
          "output_type": "execute_result",
          "data": {
            "text/plain": [
              "1.0"
            ]
          },
          "metadata": {},
          "execution_count": 23
        }
      ]
    },
    {
      "cell_type": "markdown",
      "source": [
        ">>>>> các kết quả trên là dãy giảm"
      ],
      "metadata": {
        "id": "B5bnwpCH0icK"
      }
    },
    {
      "cell_type": "markdown",
      "source": [
        "Thực hành 5: Xét giới hạn của dãy ![image.png](data:image/png;base64,iVBORw0KGgoAAAANSUhEUgAAAFwAAAA3CAYAAACB3C3BAAAIm0lEQVR4nO2ae1SUZR7HP+87M1AOLOAVVMBI8IaIXEIKt3LbczQ32y1rtVZDDDvqap3c7GbtipuZne3ieksSszUsdVPXk9VahK3GVUEhcjUQzHuA2Aw1A+87v/1D87YjYjAD4XzOmTPnnfd5n+f3+57n/f2e55mfIiKCB7ehtrUB1xoewd2MR3A34xHczXgEdzMewd2MR3A34xHczXgEdzMewd2Msa0NcA2n2L4ojQ37G7n03MIQPJqnnhhFUBtNtQ46wwOI61PHhmVLWJZZhjk6ltghvanels6aYiu+bem1dGSsmyU5UBXUALl9drpkZKTLgvH9xdv/fnn3u7YxqYOGlLPYaqi2CIppKPfMTGFSLxUtTudgrwBuNreNSR1acHtRPnttgrF/Agk9oDbnHT69fgLLX+7UZjZ10BgOoFORv5tjuoLJt569q+Yx+aF57Djd2nPMylfrZnNHWF+mbLVdsXUHFtxCYeE+NMVIkG89uVvfJ7smmltivK66J63or4y49S/kN1z8u/7Nx7yYOpEpTy8h65ANUZQr9tUBQ4oOGMBeTH5xPWII5560pSwckEXwS1aSzsVuO1WfrGTFxr0otz7GjLB8lmZ8TnXoWJ55YiS9LpiKjgYL1ScbuURvFO8Q7p6XyZ09byb+hZPNsq4DzvBaAPTDBRQd1lF9o4mP9AK/kTw/fyw9f/T4dD6ffd0FQ8kqFsy8m/GvV2KqyWLFc3NYWaY1ayS1+wAGBjZ3zjo4umN1RxNcp2LtLADqduykRAND+GAGX++kqd9wklP6YK92oASMZu4bTzI8UAVDAF27qFDzHqkxkURGRhLzh7f4unINyT9eP/wu3zqu1jaVnkm/7ZjrcK08UyZEXCcKiNr9NlmQV++0nV75mtzmbZQbZ2aLXSuTF24yiSlqjuxuFBHdKicPVUlVVZVUbJku/cOnyMbyM9eHTlpFP9dLoxQ/P1RMhl7y8FbbFSyzd8x1uCFsPG//dzxvX6FdfV4OezQffjUsGi/LJvK+dNBtXCL9FAeoZroFnwn4DcfMmAyNdO0dQoiTnGtvaEBEQ9OuXACh6k3edlBbuJqnxw2nX1AAPp18CAiOZtSUx5mU2JtuSS+wp3nhrh3SQHHOLizqIG66yQcMvviaob5gKamPr2Zfc/yqy+aV1PuZlrEP3fEtm54ZS8rcfzX5iFInIn5Ob2lUvJPCqNQ1HND7cO9r61ieEsynKTE8kHkUHZXO496lau19+PwEdy9EP7SNFWsLqWtmXFR7JJGcPJwerZyBbCf2c9Deg4gQPwwX3qg/REm5cENUaAt9bcDoXGzQSl8ledoa9tsM3PjIMt6cGocfOlGDglE5iq6YiBqWQGvs2fTjBWzOzORw06/bOYwRPox5aDg9WmHsC7muRwQDnN0whzA4qpUGcR7c62TjxCAxgCheifLiV9q5oJ8980YxgmAcILNz7Vebz1zOZV1qF1wuadZn8f5HJ9BRMMWM4XfhZ18w/QiFRd+gA6p/LMMir37X5i6UZuz6XIlcpoLQqeBaWQFFpxyAgeD4RG44q7ejOovs4kYEBe8hw0hwtr79KWj1nDr9PVpzY7jJjL9/p4vj7Fku52h7wbngRw5zXAcwENo37Gwjnar3Msm2CmAiPCGB7q2UtOz/eYrYXy/mYDNjuClqDnm75jG0iUVtexXeucki/DjZjF7eAOiVmcxeuB2rAKovg2MHnnu4vmwd8+ct58M9tQQ9sIglI0p5KS2Dzyph4ORFrH7iZnybMMI7bhbv73wQWzM1UszB9Pu57iCchfbGkrkSa0JAla53PCerV82Ve/sFSJ/ICPmFimDoJakfHJeSt2fIhLQPJSf9b7I+f6mMMSuidgmRgUmp8vc3p0m0CVEDU2TLD27NTO0YuzhP6dpBWX1fbzEpCCCKOUxGPrtFKkpfldv9VAFFVON1EpQ4Vd7aaznzSGmaxJkQtctd8malLlr5y5JkQoz9ZsnO9raYqc2W1x/7o0yfPv2Sz0xZsPWoCwe+nOAiIlqNfJm1UTZs+lT2HDt/RmCt2Clb/rlJthUelvMnFLqcSL9TzIoqXR/cIBYROZU5VvxVVTqPXy8WF7rw07DK5uRAUVEl4PbZkp6RISte/L1EeHWWcetcaa0uikhrZBcbH0wOY8yqU4xYXM7H0zrzcWpf7lpZy4gl5Xw0Naj9HUue2s6itA3sb/y/QgqCRz/Fk6OCXDJs6+iglZJTUI3D2Jf4+O6o+hFKyk6iG0IZEu3LkYpvsLfKQK1IQBx96jawbMkyMsvMRMfGMqR3NdvS11BsbSrFt4xWyfWOE3nkHtBQ/WNIGGQEgz+hIQGoOYdYP2M0+259jMULgwl1tnBuM2xUV1sQxYuYex8lZVJPVC0OR2UInYe58E9ml4Ur2zEpzcmVkqPOz6LbHNu/5ZFgg2CKkmcLG0Wv3in/WF8srl5QuS60egcyaFgCkUFtV5LQFHp5HruP6yhevtQXr2JuykTmf2Fxea5pd7nMXXxXUMhXmoIxsBOW3A/ZsqOOIYnRuPp06Oe6X2shdnbnFfODGAi/J42lC/vzSe+F/HCL69/Ga0twvQIMYaBXkl90FF31JTo+Ei98uPPP8y9oaKfyk5WkX1JCURM6lif/NJLgFiT/ayukGMLOfNd+Qc6XGhjCGezsL/3TBXxe0fV8CcWiKkw1Wbzx3BwymllCcTmuLcEB9ArWzlrANquAXsm2zbv4/tI2fklMTA7BVu1ACfgNactnny2h6Ez3ri2UzMWroJ8t+sFX5JdeRun76PbzJRTRz0txY8v6vfZmeDOx5OawV/MhOmEIxtO55JY66B6fSLhy1RVAF+ER3Cl2inYWYjGcKaFQVR98zGDNW0zqrCtVuzRNKx1edXxsx/dxwNqFiL7d8G5BPx7B3YwnpLgZj+BuxiO4m/EI7mY8grsZj+Bu5n/blu5TXyipLwAAAABJRU5ErkJggg==)\n"
      ],
      "metadata": {
        "id": "aQ7h7TGoSEFL"
      }
    },
    {
      "cell_type": "code",
      "source": [
        "def tisoFibo(n):\n",
        "  if n == 1:\n",
        "    return 1\n",
        "  else:\n",
        "    return 1.0 + 1.0/tisoFibo(n-1)\n",
        "for i in range(1,11):\n",
        "    print(i,tisoFibo(i))"
      ],
      "metadata": {
        "id": "-bwp__xo0nVA",
        "outputId": "84b4d090-d773-4d94-d2b1-67f7ff0627af",
        "colab": {
          "base_uri": "https://localhost:8080/"
        }
      },
      "execution_count": null,
      "outputs": [
        {
          "output_type": "stream",
          "name": "stdout",
          "text": [
            "1 1\n",
            "2 2.0\n",
            "3 1.5\n",
            "4 1.6666666666666665\n",
            "5 1.6\n",
            "6 1.625\n",
            "7 1.6153846153846154\n",
            "8 1.619047619047619\n",
            "9 1.6176470588235294\n",
            "10 1.6181818181818182\n"
          ]
        }
      ]
    },
    {
      "cell_type": "markdown",
      "source": [
        "**3.1 Chương trình tổng quát về Gradient Ascent**"
      ],
      "metadata": {
        "id": "22XVj3gTl1G4"
      }
    },
    {
      "cell_type": "code",
      "source": [
        "from sympy import Derivative, Symbol, sympify \n",
        "def grad_ascent(x0, ham_f1x, x):     \n",
        "  epsilon = 1e-6     \n",
        "  step_size = 1e-4     \n",
        "  x_old = x0     \n",
        "  x_new = x_old + step_size*ham_f1x.subs({x:x_old}).evalf()     \n",
        "  while abs(x_old - x_new) > epsilon:         \n",
        "    x_old = x_new         \n",
        "    x_new = x_old + step_size*ham_f1x.subs({x:x_old}).evalf()\n",
        "    return x_new \n",
        "if __name__ == '__main__':     \n",
        "  f = input('Nhap ham 1 bien (f): ')     \n",
        "  var = input('Nhap ten bien tuong ung (x): ')     \n",
        "  var0 = float(input('Nhap gia tri khoi dau cho bien x: ')) \n",
        "  try:         \n",
        "    f = sympify(f)  # kiem tra ham     \n",
        "  except SympifyError:         \n",
        "    print('Ham nhap khong hop le!')     \n",
        "  else:         \n",
        "    var = Symbol(var)         \n",
        "    d = Derivative(f, var).doit()         \n",
        "    var_max = grad_ascent(var0, d, var)         \n",
        "    print('{0}: {1}'.format(var.name, var_max))         \n",
        "    print('Maximum value: {0}'.format(f.subs({var:var_max})))"
      ],
      "metadata": {
        "colab": {
          "base_uri": "https://localhost:8080/"
        },
        "id": "KbuS71zpmAdp",
        "outputId": "578c0883-f761-4723-ec7d-e89cdb81b848"
      },
      "execution_count": null,
      "outputs": [
        {
          "output_type": "stream",
          "name": "stdout",
          "text": [
            "Nhap ham 1 bien (f): 25*25*sin(2*theta)/9.8\n",
            "Nhap ten bien tuong ung (x): theta\n",
            "Nhap gia tri khoi dau cho bien x: 0.001\n",
            "theta: 0.0265053522908712\n",
            "Maximum value: 3.37920154330593\n"
          ]
        }
      ]
    },
    {
      "cell_type": "markdown",
      "source": [
        "**Thử nghiệm 1:**"
      ],
      "metadata": {
        "id": "an9GoVXFmtTI"
      }
    },
    {
      "cell_type": "code",
      "source": [
        "from sympy import Derivative, Symbol, sympify \n",
        "def grad_ascent(x0, ham_f1x, x):     \n",
        "  epsilon = 1e-6     \n",
        "  step_size = 1e-4     \n",
        "  x_old = x0     \n",
        "  x_new = x_old + step_size*ham_f1x.subs({x:x_old}).evalf()     \n",
        "  while abs(x_old - x_new) > epsilon:         \n",
        "    x_old = x_new         \n",
        "    x_new = x_old + step_size*ham_f1x.subs({x:x_old}).evalf()\n",
        "    return x_new \n",
        "if __name__ == '__main__':     \n",
        "  f = input('Nhap ham 1 bien (f): ')     \n",
        "  var = input('Nhap ten bien tuong ung (x): ')     \n",
        "  var0 = float(input('Nhap gia tri khoi dau cho bien x: ')) \n",
        "  try:         \n",
        "    f = sympify(f)  # kiem tra ham     \n",
        "  except SympifyError:         \n",
        "    print('Ham nhap khong hop le!')     \n",
        "  else:         \n",
        "    var = Symbol(var)         \n",
        "    d = Derivative(f, var).doit()         \n",
        "    var_max = grad_ascent(var0, d, var)         \n",
        "    print('{0}: {1}'.format(var.name, var_max))         \n",
        "    print('Maximum value: {0}'.format(f.subs({var:var_max})))"
      ],
      "metadata": {
        "colab": {
          "base_uri": "https://localhost:8080/"
        },
        "id": "S2tj4CNMmreA",
        "outputId": "57094b5a-fa77-40e6-d5d4-af1b3d1753fd"
      },
      "execution_count": null,
      "outputs": [
        {
          "output_type": "stream",
          "name": "stdout",
          "text": [
            "Nhap ham 1 bien (f): cos(t)\n",
            "Nhap ten bien tuong ung (x): t\n",
            "Nhap gia tri khoi dau cho bien x: 0.01\n",
            "t: None\n",
            "Maximum value: cos(t)\n"
          ]
        }
      ]
    },
    {
      "cell_type": "markdown",
      "source": [
        "**Thử nghiệm 2:**"
      ],
      "metadata": {
        "id": "JHL0RxTxmwVV"
      }
    },
    {
      "cell_type": "code",
      "source": [
        "from sympy import Derivative, Symbol, sympify \n",
        "def grad_ascent(x0, ham_f1x, x):     \n",
        "  epsilon = 1e-6     \n",
        "  step_size = 1e-4     \n",
        "  x_old = x0     \n",
        "  x_new = x_old + step_size*ham_f1x.subs({x:x_old}).evalf()     \n",
        "  while abs(x_old - x_new) > epsilon:         \n",
        "    x_old = x_new         \n",
        "    x_new = x_old + step_size*ham_f1x.subs({x:x_old}).evalf()\n",
        "    return x_new \n",
        "if __name__ == '__main__':     \n",
        "  f = input('Nhap ham 1 bien (f): ')     \n",
        "  var = input('Nhap ten bien tuong ung (x): ')     \n",
        "  var0 = float(input('Nhap gia tri khoi dau cho bien x: ')) \n",
        "  try:         \n",
        "    f = sympify(f)  # kiem tra ham     \n",
        "  except SympifyError:         \n",
        "    print('Ham nhap khong hop le!')     \n",
        "  else:         \n",
        "    var = Symbol(var)         \n",
        "    d = Derivative(f, var).doit()         \n",
        "    var_max = grad_ascent(var0, d, var)         \n",
        "    print('{0}: {1}'.format(var.name, var_max))         \n",
        "    print('Maximum value: {0}'.format(f.subs({var:var_max})))"
      ],
      "metadata": {
        "colab": {
          "base_uri": "https://localhost:8080/"
        },
        "id": "BxLbhissmxle",
        "outputId": "642214da-6ab8-4ef5-984c-4e2fa06d1e76"
      },
      "execution_count": null,
      "outputs": [
        {
          "output_type": "stream",
          "name": "stdout",
          "text": [
            "Nhap ham 1 bien (f): cos(t)+p\n",
            "Nhap ten bien tuong ung (x): t\n",
            "Nhap gia tri khoi dau cho bien x: 0.01\n",
            "t: None\n",
            "Maximum value: p + cos(t)\n"
          ]
        }
      ]
    },
    {
      "cell_type": "markdown",
      "source": [
        "**3.2 Các lưu ý về giá trị khởi tạo ban đầu (initial value)**"
      ],
      "metadata": {
        "id": "aQ6HUXXXnBp8"
      }
    },
    {
      "cell_type": "code",
      "source": [
        "from sympy import Derivative, Symbol, sympify \n",
        "def grad_ascent(x0, ham_f1x, x):     \n",
        "  epsilon = 1e-6     \n",
        "  step_size = 1e-4     \n",
        "  x_old = x0     \n",
        "  x_new = x_old + step_size*ham_f1x.subs({x:x_old}).evalf()     \n",
        "  while abs(x_old - x_new) > epsilon:         \n",
        "    x_old = x_new         \n",
        "    x_new = x_old + step_size*ham_f1x.subs({x:x_old}).evalf()\n",
        "    return x_new \n",
        "if __name__ == '__main__':     \n",
        "  f = input('Nhap ham 1 bien (f): ')     \n",
        "  var = input('Nhap ten bien tuong ung (x): ')     \n",
        "  var0 = float(input('Nhap gia tri khoi dau cho bien x: ')) \n",
        "  try:         \n",
        "    f = sympify(f)  # kiem tra ham     \n",
        "  except SympifyError:         \n",
        "    print('Ham nhap khong hop le!')     \n",
        "  else:         \n",
        "    var = Symbol(var)         \n",
        "    d = Derivative(f, var).doit()         \n",
        "    var_max = grad_ascent(var0, d, var)         \n",
        "    print('{0}: {1}'.format(var.name, var_max))         \n",
        "    print('Maximum value: {0}'.format(f.subs({var:var_max})))"
      ],
      "metadata": {
        "colab": {
          "base_uri": "https://localhost:8080/"
        },
        "id": "kpffeYSvnEAL",
        "outputId": "13308170-056b-405b-8ea3-703cdc1d686f"
      },
      "execution_count": null,
      "outputs": [
        {
          "output_type": "stream",
          "name": "stdout",
          "text": [
            "Nhap ham 1 bien (f): x**5-30*x**3+50*x\n",
            "Nhap ten bien tuong ung (x): x\n",
            "Nhap gia tri khoi dau cho bien x: -2\n",
            "x: -2.04645836419208\n",
            "Maximum value: 118.900212174206\n"
          ]
        }
      ]
    },
    {
      "cell_type": "code",
      "source": [
        "from sympy import Derivative, Symbol, sympify \n",
        "def grad_ascent(x0, ham_f1x, x):     \n",
        "  epsilon = 1e-6     \n",
        "  step_size = 1e-4     \n",
        "  x_old = x0     \n",
        "  x_new = x_old + step_size*ham_f1x.subs({x:x_old}).evalf()     \n",
        "  while abs(x_old - x_new) > epsilon:         \n",
        "    x_old = x_new         \n",
        "    x_new = x_old + step_size*ham_f1x.subs({x:x_old}).evalf()\n",
        "    return x_new \n",
        "if __name__ == '__main__':     \n",
        "  f = input('Nhap ham 1 bien (f): ')     \n",
        "  var = input('Nhap ten bien tuong ung (x): ')     \n",
        "  var0 = float(input('Nhap gia tri khoi dau cho bien x: ')) \n",
        "  try:         \n",
        "    f = sympify(f)  # kiem tra ham     \n",
        "  except SympifyError:         \n",
        "    print('Ham nhap khong hop le!')     \n",
        "  else:         \n",
        "    var = Symbol(var)         \n",
        "    d = Derivative(f, var).doit()         \n",
        "    var_max = grad_ascent(var0, d, var)         \n",
        "    print('{0}: {1}'.format(var.name, var_max))         \n",
        "    print('Maximum value: {0}'.format(f.subs({var:var_max})))"
      ],
      "metadata": {
        "colab": {
          "base_uri": "https://localhost:8080/"
        },
        "id": "nowXl5kcnU9N",
        "outputId": "7099de4b-645c-4592-c5a2-2354c4748982"
      },
      "execution_count": null,
      "outputs": [
        {
          "output_type": "stream",
          "name": "stdout",
          "text": [
            "Nhap ham 1 bien (f): x**5-30*x**3+50*x\n",
            "Nhap ten bien tuong ung (x): x\n",
            "Nhap gia tri khoi dau cho bien x: 0.5\n",
            "x: 0.505538100267393\n",
            "Maximum value: 21.4339319082246\n"
          ]
        }
      ]
    },
    {
      "cell_type": "markdown",
      "source": [
        "**3.3 Vai trò của kích thước bước nhảy (step_size) và Epsilon**"
      ],
      "metadata": {
        "id": "KvCW-OBPnd1m"
      }
    },
    {
      "cell_type": "markdown",
      "source": [
        "**Thực hành: Thử nghiệm với các hàm e^x và logx**"
      ],
      "metadata": {
        "id": "8Txhc85yqIs-"
      }
    },
    {
      "cell_type": "markdown",
      "source": [
        "**Thử nghiệm với hàm logx**"
      ],
      "metadata": {
        "id": "pb7uzkBFqRW0"
      }
    },
    {
      "cell_type": "code",
      "source": [
        "from sympy import Derivative, Symbol, sympify\n",
        "def grad_ascent(x0,ham_f1x,x):\n",
        "  from sympy import solve, E\n",
        "  if not solve(ham_f1x):\n",
        "    print('Khong the tiep tuc, phuong trinh {0} = 0 vo nghiem'.format(ham_f1x))\n",
        "    return\n",
        "  epsilon = 1e-6     \n",
        "  step_size = 1e-4     \n",
        "  x_old = x0     \n",
        "  x_new = x_old + step_size*ham_f1x.subs({x:x_old}).evalf()     \n",
        "  while abs(x_old - x_new) > epsilon:         \n",
        "    x_old = x_new         \n",
        "    x_new = x_old + step_size*ham_f1x.subs({x:x_old}).evalf()\n",
        "    return x_new \n",
        "if __name__ == '__main__':     \n",
        "  f = input('Nhap ham 1 bien (f): ')     \n",
        "  var = input('Nhap ten bien tuong ung (x): ')     \n",
        "  var0 = float(input('Nhap gia tri khoi dau cho bien x: ')) \n",
        "  try:         \n",
        "    f = sympify(f)  # kiem tra ham     \n",
        "  except SympifyError:         \n",
        "    print('Ham nhap khong hop le!')     \n",
        "  else:         \n",
        "    var = Symbol(var)         \n",
        "    d = Derivative(f, var).doit()         \n",
        "    var_max = grad_ascent(var0, d, var)\n",
        "    if var_max:       \n",
        "      print('{0}: {1}'.format(var.name, var_max))         \n",
        "      print('Maximum value: {0}'.format(f.subs({var:var_max})))"
      ],
      "metadata": {
        "colab": {
          "base_uri": "https://localhost:8080/"
        },
        "id": "liKyuHMKni3R",
        "outputId": "824c236b-16ed-4418-fcf7-9273b8dd2f80"
      },
      "execution_count": null,
      "outputs": [
        {
          "output_type": "stream",
          "name": "stdout",
          "text": [
            "Nhap ham 1 bien (f): log(x)\n",
            "Nhap ten bien tuong ung (x): x\n",
            "Nhap gia tri khoi dau cho bien x: 0.1\n",
            "Khong the tiep tuc, phuong trinh 1/x = 0 vo nghiem\n"
          ]
        }
      ]
    },
    {
      "cell_type": "markdown",
      "source": [
        "**Thử nghiệm với hàm E^x:**"
      ],
      "metadata": {
        "id": "bHTQ84qZqVNo"
      }
    },
    {
      "cell_type": "code",
      "source": [
        "from sympy import Derivative, Symbol, sympify\n",
        "def grad_ascent(x0,ham_f1x,x):\n",
        "  from sympy import solve, E\n",
        "  if not solve(ham_f1x):\n",
        "    print('Khong the tiep tuc, phuong trinh {0} = 0 vo nghiem'.format(ham_f1x))\n",
        "    return\n",
        "  epsilon = 1e-6     \n",
        "  step_size = 1e-4     \n",
        "  x_old = x0     \n",
        "  x_new = x_old + step_size*ham_f1x.subs({x:x_old}).evalf()     \n",
        "  while abs(x_old - x_new) > epsilon:         \n",
        "    x_old = x_new         \n",
        "    x_new = x_old + step_size*ham_f1x.subs({x:x_old}).evalf()\n",
        "    return x_new \n",
        "if __name__ == '__main__':     \n",
        "  f = input('Nhap ham 1 bien (f): ')     \n",
        "  var = input('Nhap ten bien tuong ung (x): ')     \n",
        "  var0 = float(input('Nhap gia tri khoi dau cho bien x: ')) \n",
        "  try:         \n",
        "    f = sympify(f)  # kiem tra ham     \n",
        "  except SympifyError:         \n",
        "    print('Ham nhap khong hop le!')     \n",
        "  else:         \n",
        "    var = Symbol(var)         \n",
        "    d = Derivative(f, var).doit()         \n",
        "    var_max = grad_ascent(var0, d, var)\n",
        "    if var_max:       \n",
        "      print('{0}: {1}'.format(var.name, var_max))         \n",
        "      print('Maximum value: {0}'.format(f.subs({var:var_max})))"
      ],
      "metadata": {
        "colab": {
          "base_uri": "https://localhost:8080/"
        },
        "id": "OrOFXMzEqXmW",
        "outputId": "1d154032-32f3-4ca4-a0d1-c8a9fc04167b"
      },
      "execution_count": null,
      "outputs": [
        {
          "output_type": "stream",
          "name": "stdout",
          "text": [
            "Nhap ham 1 bien (f): E**x\n",
            "Nhap ten bien tuong ung (x): x\n",
            "Nhap gia tri khoi dau cho bien x: 0.1\n",
            "Khong the tiep tuc, phuong trinh exp(x) = 0 vo nghiem\n"
          ]
        }
      ]
    },
    {
      "cell_type": "markdown",
      "source": [
        "**Bài tập chương 6**"
      ],
      "metadata": {
        "id": "uVqbbvc0qnyA"
      }
    },
    {
      "cell_type": "markdown",
      "source": [
        "**Bài tập 1:**"
      ],
      "metadata": {
        "id": "tzSp0Cgsq1uV"
      }
    },
    {
      "cell_type": "code",
      "source": [
        "def an_exp_an(n):\n",
        "  if n == 1:\n",
        "    return 4\n",
        "  else:\n",
        "    return 1.0/2 * (an_exp_an(n-1) + 8)\n",
        "an_exp_an(50)"
      ],
      "metadata": {
        "colab": {
          "base_uri": "https://localhost:8080/"
        },
        "id": "MFJaaPfCq3a-",
        "outputId": "5e31c6c9-cbdc-43c9-b295-162d56c6a162"
      },
      "execution_count": null,
      "outputs": [
        {
          "output_type": "execute_result",
          "data": {
            "text/plain": [
              "7.999999999999993"
            ]
          },
          "metadata": {},
          "execution_count": 4
        }
      ]
    },
    {
      "cell_type": "code",
      "source": [
        "def an_exp_an(n):\n",
        "  if n == 1:\n",
        "    return 5\n",
        "  else:\n",
        "    return 2.0 - 1.0/(2+(an_exp_an(n-1)))\n",
        "an_exp_an(50)"
      ],
      "metadata": {
        "colab": {
          "base_uri": "https://localhost:8080/"
        },
        "id": "DRvBRf2uzFNV",
        "outputId": "53ecbb4e-e563-4413-ec1c-643ce7d97fc7"
      },
      "execution_count": null,
      "outputs": [
        {
          "output_type": "execute_result",
          "data": {
            "text/plain": [
              "1.7320508075688772"
            ]
          },
          "metadata": {},
          "execution_count": 10
        }
      ]
    },
    {
      "cell_type": "code",
      "source": [
        "from sympy import pi,sin, exp\n",
        "def an_exp_an(n):\n",
        "  if n == 1:\n",
        "    return 3*pi/2\n",
        "  else:\n",
        "    return an_exp_an(n-1) + sin(an_exp_an(n-1))/ exp(an_exp_an(n-1))\n",
        "an_exp_an(6)"
      ],
      "metadata": {
        "colab": {
          "base_uri": "https://localhost:8080/",
          "height": 762
        },
        "id": "e1TQw_hkzo33",
        "outputId": "358472a0-874c-4896-aa33-9fbee6c03fc7"
      },
      "execution_count": null,
      "outputs": [
        {
          "output_type": "execute_result",
          "data": {
            "text/plain": [
              "-exp(-3*pi/2 + exp(-3*pi/2) + exp(-3*pi/2 + exp(-3*pi/2))*cos(exp(-3*pi/2)) + exp(-3*pi/2 + exp(-3*pi/2) + exp(-3*pi/2 + exp(-3*pi/2))*cos(exp(-3*pi/2)))*cos(exp(-3*pi/2) + exp(-3*pi/2 + exp(-3*pi/2))*cos(exp(-3*pi/2))) + exp(-3*pi/2 + exp(-3*pi/2) + exp(-3*pi/2 + exp(-3*pi/2))*cos(exp(-3*pi/2)) + exp(-3*pi/2 + exp(-3*pi/2) + exp(-3*pi/2 + exp(-3*pi/2))*cos(exp(-3*pi/2)))*cos(exp(-3*pi/2) + exp(-3*pi/2 + exp(-3*pi/2))*cos(exp(-3*pi/2))))*cos(exp(-3*pi/2) + exp(-3*pi/2 + exp(-3*pi/2))*cos(exp(-3*pi/2)) + exp(-3*pi/2 + exp(-3*pi/2) + exp(-3*pi/2 + exp(-3*pi/2))*cos(exp(-3*pi/2)))*cos(exp(-3*pi/2) + exp(-3*pi/2 + exp(-3*pi/2))*cos(exp(-3*pi/2)))))*cos(exp(-3*pi/2) + exp(-3*pi/2 + exp(-3*pi/2))*cos(exp(-3*pi/2)) + exp(-3*pi/2 + exp(-3*pi/2) + exp(-3*pi/2 + exp(-3*pi/2))*cos(exp(-3*pi/2)))*cos(exp(-3*pi/2) + exp(-3*pi/2 + exp(-3*pi/2))*cos(exp(-3*pi/2))) + exp(-3*pi/2 + exp(-3*pi/2) + exp(-3*pi/2 + exp(-3*pi/2))*cos(exp(-3*pi/2)) + exp(-3*pi/2 + exp(-3*pi/2) + exp(-3*pi/2 + exp(-3*pi/2))*cos(exp(-3*pi/2)))*cos(exp(-3*pi/2) + exp(-3*pi/2 + exp(-3*pi/2))*cos(exp(-3*pi/2))))*cos(exp(-3*pi/2) + exp(-3*pi/2 + exp(-3*pi/2))*cos(exp(-3*pi/2)) + exp(-3*pi/2 + exp(-3*pi/2) + exp(-3*pi/2 + exp(-3*pi/2))*cos(exp(-3*pi/2)))*cos(exp(-3*pi/2) + exp(-3*pi/2 + exp(-3*pi/2))*cos(exp(-3*pi/2))))) - exp(-3*pi/2 + exp(-3*pi/2) + exp(-3*pi/2 + exp(-3*pi/2))*cos(exp(-3*pi/2)) + exp(-3*pi/2 + exp(-3*pi/2) + exp(-3*pi/2 + exp(-3*pi/2))*cos(exp(-3*pi/2)))*cos(exp(-3*pi/2) + exp(-3*pi/2 + exp(-3*pi/2))*cos(exp(-3*pi/2))))*cos(exp(-3*pi/2) + exp(-3*pi/2 + exp(-3*pi/2))*cos(exp(-3*pi/2)) + exp(-3*pi/2 + exp(-3*pi/2) + exp(-3*pi/2 + exp(-3*pi/2))*cos(exp(-3*pi/2)))*cos(exp(-3*pi/2) + exp(-3*pi/2 + exp(-3*pi/2))*cos(exp(-3*pi/2)))) - exp(-3*pi/2 + exp(-3*pi/2) + exp(-3*pi/2 + exp(-3*pi/2))*cos(exp(-3*pi/2)))*cos(exp(-3*pi/2) + exp(-3*pi/2 + exp(-3*pi/2))*cos(exp(-3*pi/2))) - exp(-3*pi/2 + exp(-3*pi/2))*cos(exp(-3*pi/2)) - exp(-3*pi/2) + 3*pi/2"
            ],
            "text/latex": "$\\displaystyle - \\frac{\\cos{\\left(e^{- \\frac{3 \\pi}{2}} + \\frac{\\cos{\\left(e^{- \\frac{3 \\pi}{2}} \\right)}}{e^{- \\frac{1}{e^{\\frac{3 \\pi}{2}}} + \\frac{3 \\pi}{2}}} + \\frac{\\cos{\\left(e^{- \\frac{3 \\pi}{2}} + \\frac{\\cos{\\left(e^{- \\frac{3 \\pi}{2}} \\right)}}{e^{- \\frac{1}{e^{\\frac{3 \\pi}{2}}} + \\frac{3 \\pi}{2}}} \\right)}}{e^{- \\frac{\\cos{\\left(e^{- \\frac{3 \\pi}{2}} \\right)}}{e^{- \\frac{1}{e^{\\frac{3 \\pi}{2}}} + \\frac{3 \\pi}{2}}} - e^{- \\frac{3 \\pi}{2}} + \\frac{3 \\pi}{2}}} + \\frac{\\cos{\\left(e^{- \\frac{3 \\pi}{2}} + \\frac{\\cos{\\left(e^{- \\frac{3 \\pi}{2}} \\right)}}{e^{- \\frac{1}{e^{\\frac{3 \\pi}{2}}} + \\frac{3 \\pi}{2}}} + \\frac{\\cos{\\left(e^{- \\frac{3 \\pi}{2}} + \\frac{\\cos{\\left(e^{- \\frac{3 \\pi}{2}} \\right)}}{e^{- \\frac{1}{e^{\\frac{3 \\pi}{2}}} + \\frac{3 \\pi}{2}}} \\right)}}{e^{- \\frac{\\cos{\\left(e^{- \\frac{3 \\pi}{2}} \\right)}}{e^{- \\frac{1}{e^{\\frac{3 \\pi}{2}}} + \\frac{3 \\pi}{2}}} - e^{- \\frac{3 \\pi}{2}} + \\frac{3 \\pi}{2}}} \\right)}}{e^{- \\frac{\\cos{\\left(e^{- \\frac{3 \\pi}{2}} + \\frac{\\cos{\\left(e^{- \\frac{3 \\pi}{2}} \\right)}}{e^{- \\frac{1}{e^{\\frac{3 \\pi}{2}}} + \\frac{3 \\pi}{2}}} \\right)}}{e^{- \\frac{\\cos{\\left(e^{- \\frac{3 \\pi}{2}} \\right)}}{e^{- \\frac{1}{e^{\\frac{3 \\pi}{2}}} + \\frac{3 \\pi}{2}}} - e^{- \\frac{3 \\pi}{2}} + \\frac{3 \\pi}{2}}} - \\frac{\\cos{\\left(e^{- \\frac{3 \\pi}{2}} \\right)}}{e^{- \\frac{1}{e^{\\frac{3 \\pi}{2}}} + \\frac{3 \\pi}{2}}} - e^{- \\frac{3 \\pi}{2}} + \\frac{3 \\pi}{2}}} \\right)}}{e^{- \\frac{\\cos{\\left(e^{- \\frac{3 \\pi}{2}} + \\frac{\\cos{\\left(e^{- \\frac{3 \\pi}{2}} \\right)}}{e^{- \\frac{1}{e^{\\frac{3 \\pi}{2}}} + \\frac{3 \\pi}{2}}} + \\frac{\\cos{\\left(e^{- \\frac{3 \\pi}{2}} + \\frac{\\cos{\\left(e^{- \\frac{3 \\pi}{2}} \\right)}}{e^{- \\frac{1}{e^{\\frac{3 \\pi}{2}}} + \\frac{3 \\pi}{2}}} \\right)}}{e^{- \\frac{\\cos{\\left(e^{- \\frac{3 \\pi}{2}} \\right)}}{e^{- \\frac{1}{e^{\\frac{3 \\pi}{2}}} + \\frac{3 \\pi}{2}}} - e^{- \\frac{3 \\pi}{2}} + \\frac{3 \\pi}{2}}} \\right)}}{e^{- \\frac{\\cos{\\left(e^{- \\frac{3 \\pi}{2}} + \\frac{\\cos{\\left(e^{- \\frac{3 \\pi}{2}} \\right)}}{e^{- \\frac{1}{e^{\\frac{3 \\pi}{2}}} + \\frac{3 \\pi}{2}}} \\right)}}{e^{- \\frac{\\cos{\\left(e^{- \\frac{3 \\pi}{2}} \\right)}}{e^{- \\frac{1}{e^{\\frac{3 \\pi}{2}}} + \\frac{3 \\pi}{2}}} - e^{- \\frac{3 \\pi}{2}} + \\frac{3 \\pi}{2}}} - \\frac{\\cos{\\left(e^{- \\frac{3 \\pi}{2}} \\right)}}{e^{- \\frac{1}{e^{\\frac{3 \\pi}{2}}} + \\frac{3 \\pi}{2}}} - e^{- \\frac{3 \\pi}{2}} + \\frac{3 \\pi}{2}}} - \\frac{\\cos{\\left(e^{- \\frac{3 \\pi}{2}} + \\frac{\\cos{\\left(e^{- \\frac{3 \\pi}{2}} \\right)}}{e^{- \\frac{1}{e^{\\frac{3 \\pi}{2}}} + \\frac{3 \\pi}{2}}} \\right)}}{e^{- \\frac{\\cos{\\left(e^{- \\frac{3 \\pi}{2}} \\right)}}{e^{- \\frac{1}{e^{\\frac{3 \\pi}{2}}} + \\frac{3 \\pi}{2}}} - e^{- \\frac{3 \\pi}{2}} + \\frac{3 \\pi}{2}}} - \\frac{\\cos{\\left(e^{- \\frac{3 \\pi}{2}} \\right)}}{e^{- \\frac{1}{e^{\\frac{3 \\pi}{2}}} + \\frac{3 \\pi}{2}}} - e^{- \\frac{3 \\pi}{2}} + \\frac{3 \\pi}{2}}} - \\frac{\\cos{\\left(e^{- \\frac{3 \\pi}{2}} + \\frac{\\cos{\\left(e^{- \\frac{3 \\pi}{2}} \\right)}}{e^{- \\frac{1}{e^{\\frac{3 \\pi}{2}}} + \\frac{3 \\pi}{2}}} + \\frac{\\cos{\\left(e^{- \\frac{3 \\pi}{2}} + \\frac{\\cos{\\left(e^{- \\frac{3 \\pi}{2}} \\right)}}{e^{- \\frac{1}{e^{\\frac{3 \\pi}{2}}} + \\frac{3 \\pi}{2}}} \\right)}}{e^{- \\frac{\\cos{\\left(e^{- \\frac{3 \\pi}{2}} \\right)}}{e^{- \\frac{1}{e^{\\frac{3 \\pi}{2}}} + \\frac{3 \\pi}{2}}} - e^{- \\frac{3 \\pi}{2}} + \\frac{3 \\pi}{2}}} \\right)}}{e^{- \\frac{\\cos{\\left(e^{- \\frac{3 \\pi}{2}} + \\frac{\\cos{\\left(e^{- \\frac{3 \\pi}{2}} \\right)}}{e^{- \\frac{1}{e^{\\frac{3 \\pi}{2}}} + \\frac{3 \\pi}{2}}} \\right)}}{e^{- \\frac{\\cos{\\left(e^{- \\frac{3 \\pi}{2}} \\right)}}{e^{- \\frac{1}{e^{\\frac{3 \\pi}{2}}} + \\frac{3 \\pi}{2}}} - e^{- \\frac{3 \\pi}{2}} + \\frac{3 \\pi}{2}}} - \\frac{\\cos{\\left(e^{- \\frac{3 \\pi}{2}} \\right)}}{e^{- \\frac{1}{e^{\\frac{3 \\pi}{2}}} + \\frac{3 \\pi}{2}}} - e^{- \\frac{3 \\pi}{2}} + \\frac{3 \\pi}{2}}} - \\frac{\\cos{\\left(e^{- \\frac{3 \\pi}{2}} + \\frac{\\cos{\\left(e^{- \\frac{3 \\pi}{2}} \\right)}}{e^{- \\frac{1}{e^{\\frac{3 \\pi}{2}}} + \\frac{3 \\pi}{2}}} \\right)}}{e^{- \\frac{\\cos{\\left(e^{- \\frac{3 \\pi}{2}} \\right)}}{e^{- \\frac{1}{e^{\\frac{3 \\pi}{2}}} + \\frac{3 \\pi}{2}}} - e^{- \\frac{3 \\pi}{2}} + \\frac{3 \\pi}{2}}} - \\frac{\\cos{\\left(e^{- \\frac{3 \\pi}{2}} \\right)}}{e^{- \\frac{1}{e^{\\frac{3 \\pi}{2}}} + \\frac{3 \\pi}{2}}} - e^{- \\frac{3 \\pi}{2}} + \\frac{3 \\pi}{2}$"
          },
          "metadata": {},
          "execution_count": 19
        }
      ]
    },
    {
      "cell_type": "markdown",
      "source": [
        "**Bài tập 2:**"
      ],
      "metadata": {
        "id": "8NrcgzDSC5g6"
      }
    },
    {
      "cell_type": "code",
      "source": [
        "from sympy import Symbol, Derivative, ln, solve\n",
        "w = Symbol('w')\n",
        "gw = w*(0.5 - 0.05*ln(w))\n",
        "d1 = solve(gw)\n",
        "print(f\"khối lượng mg khi cân bằng: {d1}\")\n",
        "gw1 = Derivative(gw,w).doit()\n",
        "d2 = solve(gw1)\n",
        "print(f\"tỉ lệ tăng nhanh nhất của khối tế bào ung thư: {d2} mg/ngày\")"
      ],
      "metadata": {
        "colab": {
          "base_uri": "https://localhost:8080/"
        },
        "id": "1wAl0tzBC7qF",
        "outputId": "c0dec992-1049-4ff1-bf5f-0e8a584b5b59"
      },
      "execution_count": null,
      "outputs": [
        {
          "output_type": "stream",
          "name": "stdout",
          "text": [
            "khối lượng mg khi cân bằng: [0.0, 22026.4657948067]\n",
            "tỉ lệ tăng nhanh nhất của khối tế bào ung thư: [8103.08392757538] mg/ngày\n"
          ]
        }
      ]
    }
  ]
}