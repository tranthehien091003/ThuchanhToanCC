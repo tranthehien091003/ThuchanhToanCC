{
  "nbformat": 4,
  "nbformat_minor": 0,
  "metadata": {
    "colab": {
      "name": "Chương 7.ipynb",
      "provenance": [],
      "authorship_tag": "ABX9TyNoKPrFjLwwWK8gtXa/HGT+",
      "include_colab_link": true
    },
    "kernelspec": {
      "name": "python3",
      "display_name": "Python 3"
    },
    "language_info": {
      "name": "python"
    }
  },
  "cells": [
    {
      "cell_type": "markdown",
      "metadata": {
        "id": "view-in-github",
        "colab_type": "text"
      },
      "source": [
        "<a href=\"https://colab.research.google.com/github/tranthehien091003/ThuchanhToanCC/blob/main/Ch%C6%B0%C6%A1ng_7.ipynb\" target=\"_parent\"><img src=\"https://colab.research.google.com/assets/colab-badge.svg\" alt=\"Open In Colab\"/></a>"
      ]
    },
    {
      "cell_type": "markdown",
      "source": [
        "**Thực hành 1: Tích phân không xác định loại 1**"
      ],
      "metadata": {
        "id": "cwqwywo1X7th"
      }
    },
    {
      "cell_type": "code",
      "execution_count": null,
      "metadata": {
        "colab": {
          "base_uri": "https://localhost:8080/",
          "height": 38
        },
        "id": "4iSc_iOQXxtd",
        "outputId": "714da79f-6008-45e2-d27b-fb94986987e2"
      },
      "outputs": [
        {
          "output_type": "execute_result",
          "data": {
            "text/plain": [
              "oo"
            ],
            "text/latex": "$\\displaystyle \\infty$"
          },
          "metadata": {},
          "execution_count": 1
        }
      ],
      "source": [
        "from sympy import Symbol, Integral\n",
        "x = Symbol('x')\n",
        "f = 1.0/x\n",
        "unbound1 = Integral (f,(x,0,2))\n",
        "unbound1.doit()"
      ]
    },
    {
      "cell_type": "markdown",
      "source": [
        "**Thực hành 2: Tích phân không xác định loại 2: **"
      ],
      "metadata": {
        "id": "axoHIphkwnsw"
      }
    },
    {
      "cell_type": "code",
      "source": [
        "from sympy import Symbol, Integral \n",
        "x = Symbol('x') \n",
        "f = 1.0/x**2 \n",
        "unbound2 = Integral(f, (x, -1, 1))\n",
        "unbound2.doit()"
      ],
      "metadata": {
        "colab": {
          "base_uri": "https://localhost:8080/",
          "height": 38
        },
        "id": "XyYip4_wwrt1",
        "outputId": "311fe1bd-e67a-4fa8-e3b5-14caf94e57b1"
      },
      "execution_count": null,
      "outputs": [
        {
          "output_type": "execute_result",
          "data": {
            "text/plain": [
              "oo"
            ],
            "text/latex": "$\\displaystyle \\infty$"
          },
          "metadata": {},
          "execution_count": 4
        }
      ]
    },
    {
      "cell_type": "markdown",
      "source": [
        "**Thực hành 3: Tích phân không liên tục**"
      ],
      "metadata": {
        "id": "A6JXlzGokLbd"
      }
    },
    {
      "cell_type": "code",
      "source": [
        "from sympy import Symbol, Integral, Abs \n",
        "x = Symbol('x') \n",
        "f = Abs(x) \n",
        "discontinous1 = Integral(f, (x, -1, 2)) \n",
        "discontinous1.doit()"
      ],
      "metadata": {
        "id": "rMzQozEXkNXz",
        "outputId": "d7407abc-3c0b-4590-d0e2-8cf199add66e",
        "colab": {
          "base_uri": "https://localhost:8080/",
          "height": 51
        }
      },
      "execution_count": null,
      "outputs": [
        {
          "output_type": "execute_result",
          "data": {
            "text/plain": [
              "5/2"
            ],
            "text/latex": "$\\displaystyle \\frac{5}{2}$"
          },
          "metadata": {},
          "execution_count": 6
        }
      ]
    },
    {
      "cell_type": "markdown",
      "source": [
        "**Thực hành 4: Tích phân có hàm thỏa không tồn tại trong miền xác định (thực)**"
      ],
      "metadata": {
        "id": "j2MZABeQkmFY"
      }
    },
    {
      "cell_type": "code",
      "source": [
        "from sympy import Symbol, Integral \n",
        "x = Symbol('x') \n",
        "f = x**(0.5) \n",
        "undef1 = Integral(f, (x, -1, 1)) \n",
        "undef1.doit() "
      ],
      "metadata": {
        "id": "3P3dUL_2kny8",
        "outputId": "e385720f-63b3-447f-b2c7-bea435b8fd65",
        "colab": {
          "base_uri": "https://localhost:8080/",
          "height": 39
        }
      },
      "execution_count": null,
      "outputs": [
        {
          "output_type": "execute_result",
          "data": {
            "text/plain": [
              "0.666666666666667 + 0.666666666666667*I"
            ],
            "text/latex": "$\\displaystyle 0.666666666666667 + 0.666666666666667 i$"
          },
          "metadata": {},
          "execution_count": 1
        }
      ]
    },
    {
      "cell_type": "markdown",
      "source": [
        "**Thực hành 5:**"
      ],
      "metadata": {
        "id": "Kn3TcA40kw0c"
      }
    },
    {
      "cell_type": "code",
      "source": [
        "from scipy import integrate\n",
        "import numpy as np\n",
        "y = np.array([0.0, 4.1, 8.9,8.5,6.7, 4.3, 2.5, 1.2,0.2])\n",
        "x = np.arange(0,9)\n",
        "integrate.simps(y, x)\n"
      ],
      "metadata": {
        "id": "ckyY9_X7kyiv",
        "outputId": "f605ae50-bb22-4780-c4f9-f762d9e97aae",
        "colab": {
          "base_uri": "https://localhost:8080/"
        }
      },
      "execution_count": 11,
      "outputs": [
        {
          "output_type": "execute_result",
          "data": {
            "text/plain": [
              "36.26666666666666"
            ]
          },
          "metadata": {},
          "execution_count": 11
        }
      ]
    },
    {
      "cell_type": "code",
      "source": [
        "S = 2*integrate.simps(y, x)\n",
        "S"
      ],
      "metadata": {
        "id": "XQJmGbHdmLpA",
        "outputId": "0a4da6a1-591e-4059-b8c9-dbd1c8c18c99",
        "colab": {
          "base_uri": "https://localhost:8080/"
        }
      },
      "execution_count": 13,
      "outputs": [
        {
          "output_type": "execute_result",
          "data": {
            "text/plain": [
              "72.53333333333332"
            ]
          },
          "metadata": {},
          "execution_count": 13
        }
      ]
    },
    {
      "cell_type": "code",
      "source": [
        "A = 5.5\n",
        "F = A/S * 60\n",
        "F"
      ],
      "metadata": {
        "id": "XHmhnmzjmSUn",
        "outputId": "2e42d05a-a00e-4dad-8ece-f1f6eda6a7f2",
        "colab": {
          "base_uri": "https://localhost:8080/"
        }
      },
      "execution_count": 15,
      "outputs": [
        {
          "output_type": "execute_result",
          "data": {
            "text/plain": [
              "4.5496323529411775"
            ]
          },
          "metadata": {},
          "execution_count": 15
        }
      ]
    },
    {
      "cell_type": "markdown",
      "source": [
        "**Thực hành 6:**"
      ],
      "metadata": {
        "id": "M02Ip9DWnVED"
      }
    },
    {
      "cell_type": "code",
      "source": [
        "from sympy import Symbol, Derivative, Integral, sqrt\n",
        "x = Symbol('x')\n",
        "f = x **(3.0/2)\n",
        "f1 = Derivative(f,x)\n",
        "f1"
      ],
      "metadata": {
        "colab": {
          "base_uri": "https://localhost:8080/",
          "height": 52
        },
        "id": "twJsLE-7nX1i",
        "outputId": "0cec3584-ae25-435b-8239-eb7ab8b27057"
      },
      "execution_count": 20,
      "outputs": [
        {
          "output_type": "execute_result",
          "data": {
            "text/plain": [
              "Derivative(x**1.5, x)"
            ],
            "text/latex": "$\\displaystyle \\frac{d}{d x} x^{1.5}$"
          },
          "metadata": {},
          "execution_count": 20
        }
      ]
    },
    {
      "cell_type": "code",
      "source": [
        "f1.doit()"
      ],
      "metadata": {
        "id": "lbVyUG89nBpC",
        "outputId": "dbc69b91-a05f-4559-abaf-be9197c4cb4b",
        "colab": {
          "base_uri": "https://localhost:8080/",
          "height": 39
        }
      },
      "execution_count": 22,
      "outputs": [
        {
          "output_type": "execute_result",
          "data": {
            "text/plain": [
              "1.5*x**0.5"
            ],
            "text/latex": "$\\displaystyle 1.5 x^{0.5}$"
          },
          "metadata": {},
          "execution_count": 22
        }
      ]
    },
    {
      "cell_type": "code",
      "source": [
        "f2 = sqrt(1 + f1**2)\n",
        "f3 = Integral (f, (x,0,2))\n",
        "f3"
      ],
      "metadata": {
        "id": "mpjrk2LoqN5T",
        "outputId": "f0da999b-a102-47ca-a5b8-e6d106a5ca42",
        "colab": {
          "base_uri": "https://localhost:8080/",
          "height": 79
        }
      },
      "execution_count": 21,
      "outputs": [
        {
          "output_type": "execute_result",
          "data": {
            "text/plain": [
              "Integral(x**1.5, (x, 0, 2))"
            ],
            "text/latex": "$\\displaystyle \\int\\limits_{0}^{2} x^{1.5}\\, dx$"
          },
          "metadata": {},
          "execution_count": 21
        }
      ]
    },
    {
      "cell_type": "code",
      "source": [
        "f3.doit()"
      ],
      "metadata": {
        "id": "f2beftf_nDgF",
        "outputId": "0a618030-fad9-4b06-80b4-5c48913f08b7",
        "colab": {
          "base_uri": "https://localhost:8080/",
          "height": 38
        }
      },
      "execution_count": 23,
      "outputs": [
        {
          "output_type": "execute_result",
          "data": {
            "text/plain": [
              "2.26274169979695"
            ],
            "text/latex": "$\\displaystyle 2.26274169979695$"
          },
          "metadata": {},
          "execution_count": 23
        }
      ]
    },
    {
      "cell_type": "markdown",
      "source": [
        "**Thực hành 8:**"
      ],
      "metadata": {
        "id": "rkTPZxcJ0YC4"
      }
    },
    {
      "cell_type": "code",
      "source": [
        "from sympy import difference_delta as dd\n",
        "from sympy.abc import n\n",
        "dd(n*(n+1), n)"
      ],
      "metadata": {
        "id": "we2WUx4k0aXk",
        "outputId": "31a71db8-b457-484f-baa6-a646f598a1f0",
        "colab": {
          "base_uri": "https://localhost:8080/",
          "height": 39
        }
      },
      "execution_count": 26,
      "outputs": [
        {
          "output_type": "execute_result",
          "data": {
            "text/plain": [
              "2*n + 2"
            ],
            "text/latex": "$\\displaystyle 2 n + 2$"
          },
          "metadata": {},
          "execution_count": 26
        }
      ]
    },
    {
      "cell_type": "code",
      "source": [
        "dd(n*(n+1),n,2)"
      ],
      "metadata": {
        "id": "5bv0BwGL0sMa",
        "outputId": "f549a063-faac-4ae6-bbbe-183098371a29",
        "colab": {
          "base_uri": "https://localhost:8080/",
          "height": 39
        }
      },
      "execution_count": 25,
      "outputs": [
        {
          "output_type": "execute_result",
          "data": {
            "text/plain": [
              "4*n + 6"
            ],
            "text/latex": "$\\displaystyle 4 n + 6$"
          },
          "metadata": {},
          "execution_count": 25
        }
      ]
    },
    {
      "cell_type": "code",
      "source": [
        "from sympy.abc import n,k\n",
        "from sympy import limit_seq\n",
        "limit_seq((3*n**3+5*n**2+4)/(5*n**3 + 200*n**2+400),n)"
      ],
      "metadata": {
        "id": "zhGUNcyX00ih",
        "outputId": "5948a140-8266-4035-91fd-8c5f4c028ba1",
        "colab": {
          "base_uri": "https://localhost:8080/",
          "height": 51
        }
      },
      "execution_count": 27,
      "outputs": [
        {
          "output_type": "execute_result",
          "data": {
            "text/plain": [
              "3/5"
            ],
            "text/latex": "$\\displaystyle \\frac{3}{5}$"
          },
          "metadata": {},
          "execution_count": 27
        }
      ]
    },
    {
      "cell_type": "code",
      "source": [
        "limit_seq((3*n**3+5*n**2+4)/(5*n**3+200*n**2+400), n)"
      ],
      "metadata": {
        "id": "TBf5mG3w1OTl",
        "outputId": "6bc0b2bd-3cc7-4fa8-ac49-b76e05c4b0fb",
        "colab": {
          "base_uri": "https://localhost:8080/",
          "height": 51
        }
      },
      "execution_count": 28,
      "outputs": [
        {
          "output_type": "execute_result",
          "data": {
            "text/plain": [
              "3/5"
            ],
            "text/latex": "$\\displaystyle \\frac{3}{5}$"
          },
          "metadata": {},
          "execution_count": 28
        }
      ]
    },
    {
      "cell_type": "code",
      "source": [
        "from sympy.abc import n, k, m\n",
        "from sympy import Sum\n",
        "limit_seq(Sum(k**2 * Sum(2**m/m,(m,1,k)),(k,1,n))/(2**n*n), n)"
      ],
      "metadata": {
        "id": "wyKsKoLF1Rv_",
        "outputId": "1390b9b2-63ca-4c0e-8706-eaa01f0be3e2",
        "colab": {
          "base_uri": "https://localhost:8080/",
          "height": 38
        }
      },
      "execution_count": 32,
      "outputs": [
        {
          "output_type": "execute_result",
          "data": {
            "text/plain": [
              "4"
            ],
            "text/latex": "$\\displaystyle 4$"
          },
          "metadata": {},
          "execution_count": 32
        }
      ]
    },
    {
      "cell_type": "code",
      "source": [
        "from sympy import series \n",
        "from sympy import Sum \n",
        "from sympy.series.limitseq import dominant\n",
        "dominant(n**3+100*n**2+200*n+1, n) "
      ],
      "metadata": {
        "id": "Zw4Vh7Ui1lqn",
        "outputId": "535ac53b-7b7e-403c-f318-b9f038035beb",
        "colab": {
          "base_uri": "https://localhost:8080/",
          "height": 39
        }
      },
      "execution_count": 33,
      "outputs": [
        {
          "output_type": "execute_result",
          "data": {
            "text/plain": [
              "n**3"
            ],
            "text/latex": "$\\displaystyle n^{3}$"
          },
          "metadata": {},
          "execution_count": 33
        }
      ]
    },
    {
      "cell_type": "code",
      "source": [
        "dominant(2**n + Sum(k, (k,0,n)), n) "
      ],
      "metadata": {
        "id": "MgOzjaO71rOq",
        "outputId": "d2d459d6-d345-420f-d938-e428de4c4082",
        "colab": {
          "base_uri": "https://localhost:8080/",
          "height": 38
        }
      },
      "execution_count": 34,
      "outputs": [
        {
          "output_type": "execute_result",
          "data": {
            "text/plain": [
              "2**n"
            ],
            "text/latex": "$\\displaystyle 2^{n}$"
          },
          "metadata": {},
          "execution_count": 34
        }
      ]
    },
    {
      "cell_type": "code",
      "source": [
        "dominant(n**2 + Sum(k, (k,0,n)), n)"
      ],
      "metadata": {
        "id": "BhvWm5Lx1tHn"
      },
      "execution_count": 35,
      "outputs": []
    },
    {
      "cell_type": "code",
      "source": [
        "dominant(2*n**2 + Sum(k, (k,0,n)), n)"
      ],
      "metadata": {
        "id": "YNuSOFt-1yHN"
      },
      "execution_count": 37,
      "outputs": []
    },
    {
      "cell_type": "code",
      "source": [
        "dominant(n**3 + Sum(k, (k,0,n)), n)"
      ],
      "metadata": {
        "id": "0Evd89AQ10pz",
        "outputId": "c18cf351-b2e1-44a3-895c-5339bfb9fe4b",
        "colab": {
          "base_uri": "https://localhost:8080/",
          "height": 39
        }
      },
      "execution_count": 38,
      "outputs": [
        {
          "output_type": "execute_result",
          "data": {
            "text/plain": [
              "n**3"
            ],
            "text/latex": "$\\displaystyle n^{3}$"
          },
          "metadata": {},
          "execution_count": 38
        }
      ]
    },
    {
      "cell_type": "code",
      "source": [
        "dominant(n*3 + Sum(k, (k,0,n)), n)"
      ],
      "metadata": {
        "id": "vrVUWntM13wY",
        "outputId": "233425ab-a6e4-4318-8d2d-cdb9bf9366d7",
        "colab": {
          "base_uri": "https://localhost:8080/",
          "height": 67
        }
      },
      "execution_count": 39,
      "outputs": [
        {
          "output_type": "execute_result",
          "data": {
            "text/plain": [
              "Sum(k, (k, 0, n))"
            ],
            "text/latex": "$\\displaystyle \\sum_{k=0}^{n} k$"
          },
          "metadata": {},
          "execution_count": 39
        }
      ]
    },
    {
      "cell_type": "code",
      "source": [
        "dominant(2*n*3 + Sum(k, (k,0,n)), n)"
      ],
      "metadata": {
        "id": "eSX2PYVa16Ob",
        "outputId": "3c31f9ea-5175-4952-b7b3-6966fc86c098",
        "colab": {
          "base_uri": "https://localhost:8080/",
          "height": 67
        }
      },
      "execution_count": 40,
      "outputs": [
        {
          "output_type": "execute_result",
          "data": {
            "text/plain": [
              "Sum(k, (k, 0, n))"
            ],
            "text/latex": "$\\displaystyle \\sum_{k=0}^{n} k$"
          },
          "metadata": {},
          "execution_count": 40
        }
      ]
    },
    {
      "cell_type": "code",
      "source": [
        "dominant(2*n**3 + Sum(k, (k,0,n)), n)"
      ],
      "metadata": {
        "id": "OKwKLwS3173Q",
        "outputId": "e0c8808b-cf69-40f5-c442-afbae015fd5a",
        "colab": {
          "base_uri": "https://localhost:8080/",
          "height": 39
        }
      },
      "execution_count": 41,
      "outputs": [
        {
          "output_type": "execute_result",
          "data": {
            "text/plain": [
              "2*n**3"
            ],
            "text/latex": "$\\displaystyle 2 n^{3}$"
          },
          "metadata": {},
          "execution_count": 41
        }
      ]
    },
    {
      "cell_type": "markdown",
      "source": [
        "** Thực hành 9:**"
      ],
      "metadata": {
        "id": "YiRPb7Eu1-8D"
      }
    },
    {
      "cell_type": "code",
      "source": [
        "from sympy import Sum\n",
        "from sympy.abc import n,k\n",
        "S = Sum(k,(k,0,n))\n",
        "S"
      ],
      "metadata": {
        "id": "XF8EZrNg2AxJ",
        "outputId": "06af7223-5077-4fe4-b937-e099b61f59cb",
        "colab": {
          "base_uri": "https://localhost:8080/",
          "height": 67
        }
      },
      "execution_count": 42,
      "outputs": [
        {
          "output_type": "execute_result",
          "data": {
            "text/plain": [
              "Sum(k, (k, 0, n))"
            ],
            "text/latex": "$\\displaystyle \\sum_{k=0}^{n} k$"
          },
          "metadata": {},
          "execution_count": 42
        }
      ]
    },
    {
      "cell_type": "markdown",
      "source": [
        "**Giới hạn chuỗi số:**"
      ],
      "metadata": {
        "id": "h5GyEN_i2TQI"
      }
    },
    {
      "cell_type": "code",
      "source": [
        "from sympy import limit_seq\n",
        "limit_seq(S,n)"
      ],
      "metadata": {
        "id": "9m5ypYi32NAY",
        "outputId": "1b5dd2f3-d879-4c9e-8193-0aa265d007d7",
        "colab": {
          "base_uri": "https://localhost:8080/",
          "height": 38
        }
      },
      "execution_count": 43,
      "outputs": [
        {
          "output_type": "execute_result",
          "data": {
            "text/plain": [
              "oo"
            ],
            "text/latex": "$\\displaystyle \\infty$"
          },
          "metadata": {},
          "execution_count": 43
        }
      ]
    },
    {
      "cell_type": "markdown",
      "source": [
        "**Chuỗi hóa một hàm số:**"
      ],
      "metadata": {
        "id": "Qf69_CIU2bKo"
      }
    },
    {
      "cell_type": "code",
      "source": [
        "from sympy import Symbol, cos, series\n",
        "x = Symbol('x')\n",
        "S1 = series(cos(x), x)\n",
        "S1"
      ],
      "metadata": {
        "id": "NMf043nr2dBz",
        "outputId": "f8cfeb8b-ed9e-4850-cb42-31862d9acf96",
        "colab": {
          "base_uri": "https://localhost:8080/",
          "height": 54
        }
      },
      "execution_count": 44,
      "outputs": [
        {
          "output_type": "execute_result",
          "data": {
            "text/plain": [
              "1 - x**2/2 + x**4/24 + O(x**6)"
            ],
            "text/latex": "$\\displaystyle 1 - \\frac{x^{2}}{2} + \\frac{x^{4}}{24} + O\\left(x^{6}\\right)$"
          },
          "metadata": {},
          "execution_count": 44
        }
      ]
    },
    {
      "cell_type": "markdown",
      "source": [
        "**Tính toán chuỗi:**"
      ],
      "metadata": {
        "id": "rFokru472rKY"
      }
    },
    {
      "cell_type": "code",
      "source": [
        "from sympy.abc import n\n",
        "e = (1+ 1/n)**n\n",
        "print(round(e.subs(n,100).evalf(),10))"
      ],
      "metadata": {
        "id": "jX0ARIJt2suW",
        "outputId": "df68a24b-96d7-44e4-e526-04ef63a6b005",
        "colab": {
          "base_uri": "https://localhost:8080/"
        }
      },
      "execution_count": 45,
      "outputs": [
        {
          "output_type": "stream",
          "name": "stdout",
          "text": [
            "2.7048138294\n"
          ]
        }
      ]
    },
    {
      "cell_type": "markdown",
      "source": [
        "**BÀI TẬP CHƯƠNG 7:**"
      ],
      "metadata": {
        "id": "SPA8KQ_O24X0"
      }
    },
    {
      "cell_type": "markdown",
      "source": [
        "**Bài tập 1:**"
      ],
      "metadata": {
        "id": "nf-sy89l26hS"
      }
    },
    {
      "cell_type": "code",
      "source": [
        "from sympy import Integral, Derivative, Symbol, ln, sqrt\n",
        "x = Symbol('x')\n",
        "f = x**2/8 - ln(x)\n",
        "d1 = Derivative()"
      ],
      "metadata": {
        "id": "ZiQ8pGKs28DS"
      },
      "execution_count": null,
      "outputs": []
    }
  ]
}