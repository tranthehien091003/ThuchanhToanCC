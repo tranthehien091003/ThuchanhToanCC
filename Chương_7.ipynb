{
  "nbformat": 4,
  "nbformat_minor": 0,
  "metadata": {
    "colab": {
      "name": "Chương 7.ipynb",
      "provenance": [],
      "authorship_tag": "ABX9TyPZ7NZUYLVqhH1mZLn9DJKr",
      "include_colab_link": true
    },
    "kernelspec": {
      "name": "python3",
      "display_name": "Python 3"
    },
    "language_info": {
      "name": "python"
    }
  },
  "cells": [
    {
      "cell_type": "markdown",
      "metadata": {
        "id": "view-in-github",
        "colab_type": "text"
      },
      "source": [
        "<a href=\"https://colab.research.google.com/github/tranthehien091003/ThuchanhToanCC/blob/main/Ch%C6%B0%C6%A1ng_7.ipynb\" target=\"_parent\"><img src=\"https://colab.research.google.com/assets/colab-badge.svg\" alt=\"Open In Colab\"/></a>"
      ]
    },
    {
      "cell_type": "markdown",
      "source": [
        "**Thực hành 1: Tích phân không xác định loại 1**"
      ],
      "metadata": {
        "id": "cwqwywo1X7th"
      }
    },
    {
      "cell_type": "code",
      "execution_count": null,
      "metadata": {
        "colab": {
          "base_uri": "https://localhost:8080/",
          "height": 38
        },
        "id": "4iSc_iOQXxtd",
        "outputId": "714da79f-6008-45e2-d27b-fb94986987e2"
      },
      "outputs": [
        {
          "output_type": "execute_result",
          "data": {
            "text/plain": [
              "oo"
            ],
            "text/latex": "$\\displaystyle \\infty$"
          },
          "metadata": {},
          "execution_count": 1
        }
      ],
      "source": [
        "from sympy import Symbol, Integral\n",
        "x = Symbol('x')\n",
        "f = 1.0/x\n",
        "unbound1 = Integral (f,(x,0,2))\n",
        "unbound1.doit()"
      ]
    },
    {
      "cell_type": "markdown",
      "source": [
        "**Thực hành 2: Tích phân không xác định loại 2: **"
      ],
      "metadata": {
        "id": "axoHIphkwnsw"
      }
    },
    {
      "cell_type": "code",
      "source": [
        "from sympy import Symbol, Integral \n",
        "x = Symbol('x') \n",
        "f = 1.0/x**2 \n",
        "unbound2 = Integral(f, (x, -1, 1))\n",
        "unbound2.doit()"
      ],
      "metadata": {
        "colab": {
          "base_uri": "https://localhost:8080/",
          "height": 38
        },
        "id": "XyYip4_wwrt1",
        "outputId": "311fe1bd-e67a-4fa8-e3b5-14caf94e57b1"
      },
      "execution_count": null,
      "outputs": [
        {
          "output_type": "execute_result",
          "data": {
            "text/plain": [
              "oo"
            ],
            "text/latex": "$\\displaystyle \\infty$"
          },
          "metadata": {},
          "execution_count": 4
        }
      ]
    },
    {
      "cell_type": "markdown",
      "source": [
        "**Thực hành 3: Tích phân không liên tục**"
      ],
      "metadata": {
        "id": "A6JXlzGokLbd"
      }
    },
    {
      "cell_type": "code",
      "source": [
        "from sympy import Symbol, Integral, Abs \n",
        "x = Symbol('x') \n",
        "f = Abs(x) \n",
        "discontinous1 = Integral(f, (x, -1, 2)) \n",
        "discontinous1.doit()"
      ],
      "metadata": {
        "id": "rMzQozEXkNXz",
        "outputId": "d7407abc-3c0b-4590-d0e2-8cf199add66e",
        "colab": {
          "base_uri": "https://localhost:8080/",
          "height": 51
        }
      },
      "execution_count": 6,
      "outputs": [
        {
          "output_type": "execute_result",
          "data": {
            "text/plain": [
              "5/2"
            ],
            "text/latex": "$\\displaystyle \\frac{5}{2}$"
          },
          "metadata": {},
          "execution_count": 6
        }
      ]
    },
    {
      "cell_type": "markdown",
      "source": [
        "**Thực hành 4: Tích phân có hàm thỏa không tồn tại trong miền xác định (thực)**"
      ],
      "metadata": {
        "id": "j2MZABeQkmFY"
      }
    },
    {
      "cell_type": "code",
      "source": [
        "from sympy import Symbol, Integral \n",
        "x = Symbol('x') \n",
        "f = x**(0.5) \n",
        "undef1 = Integral(f, (x, -1, 1)) \n",
        "undef1.doit() "
      ],
      "metadata": {
        "id": "3P3dUL_2kny8",
        "outputId": "aafd069b-59ed-47d5-c107-93a511c1be74",
        "colab": {
          "base_uri": "https://localhost:8080/",
          "height": 39
        }
      },
      "execution_count": 7,
      "outputs": [
        {
          "output_type": "execute_result",
          "data": {
            "text/plain": [
              "0.666666666666667 + 0.666666666666667*I"
            ],
            "text/latex": "$\\displaystyle 0.666666666666667 + 0.666666666666667 i$"
          },
          "metadata": {},
          "execution_count": 7
        }
      ]
    },
    {
      "cell_type": "markdown",
      "source": [
        "**Thực hành 6:**"
      ],
      "metadata": {
        "id": "M02Ip9DWnVED"
      }
    },
    {
      "cell_type": "code",
      "source": [
        "from sympy import Symbol, Derivative, Integral, sqrt\n",
        "x = Symbol('x')\n",
        "f = x **(3.0/2)\n",
        "f1 = Derivative(f,x).doit()\n",
        "f1"
      ],
      "metadata": {
        "colab": {
          "base_uri": "https://localhost:8080/",
          "height": 39
        },
        "id": "twJsLE-7nX1i",
        "outputId": "0a4282d9-3b84-498c-cdf4-76a9999673e9"
      },
      "execution_count": 1,
      "outputs": [
        {
          "output_type": "execute_result",
          "data": {
            "text/plain": [
              "1.5*x**0.5"
            ],
            "text/latex": "$\\displaystyle 1.5 x^{0.5}$"
          },
          "metadata": {},
          "execution_count": 1
        }
      ]
    },
    {
      "cell_type": "code",
      "source": [
        "f2 = sqrt(1 + f1**2)\n",
        "f3 = Integral (f, (x,0,2))\n",
        "f3"
      ],
      "metadata": {
        "id": "mpjrk2LoqN5T",
        "outputId": "004d832b-6df5-41d0-e4f6-95368679e696",
        "colab": {
          "base_uri": "https://localhost:8080/",
          "height": 79
        }
      },
      "execution_count": 5,
      "outputs": [
        {
          "output_type": "execute_result",
          "data": {
            "text/plain": [
              "Integral(x**1.5, (x, 0, 2))"
            ],
            "text/latex": "$\\displaystyle \\int\\limits_{0}^{2} x^{1.5}\\, dx$"
          },
          "metadata": {},
          "execution_count": 5
        }
      ]
    }
  ]
}