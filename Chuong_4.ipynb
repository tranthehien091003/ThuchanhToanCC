{
  "nbformat": 4,
  "nbformat_minor": 0,
  "metadata": {
    "colab": {
      "name": "Chuong 4.ipynb",
      "provenance": [],
      "authorship_tag": "ABX9TyN5atghHwVdvTct2qv+XC9P",
      "include_colab_link": true
    },
    "kernelspec": {
      "name": "python3",
      "display_name": "Python 3"
    },
    "language_info": {
      "name": "python"
    }
  },
  "cells": [
    {
      "cell_type": "markdown",
      "metadata": {
        "id": "view-in-github",
        "colab_type": "text"
      },
      "source": [
        "<a href=\"https://colab.research.google.com/github/tranthehien091003/ThuchanhToanCC/blob/main/Chuong_4.ipynb\" target=\"_parent\"><img src=\"https://colab.research.google.com/assets/colab-badge.svg\" alt=\"Open In Colab\"/></a>"
      ]
    },
    {
      "cell_type": "markdown",
      "source": [
        "**CHương 4: TÍch Phân**"
      ],
      "metadata": {
        "id": "2t-a0bklWm9j"
      }
    },
    {
      "cell_type": "markdown",
      "source": [
        "Thực hành 1:"
      ],
      "metadata": {
        "id": "1uiGRZQxW0ER"
      }
    },
    {
      "cell_type": "code",
      "execution_count": 1,
      "metadata": {
        "colab": {
          "base_uri": "https://localhost:8080/"
        },
        "id": "pRn58m36Wj2t",
        "outputId": "972b0a09-5ec2-4892-eeff-7fce3d47a9e6"
      },
      "outputs": [
        {
          "output_type": "execute_result",
          "data": {
            "text/plain": [
              "array([0. , 0.2, 0.4, 0.6, 0.8, 1. , 1.2, 1.4, 1.6, 1.8, 2. ])"
            ]
          },
          "metadata": {},
          "execution_count": 1
        }
      ],
      "source": [
        "import numpy as np\n",
        "mienchia = np.linspace(0, 2, 11)\n",
        "mienchia"
      ]
    }
  ]
}