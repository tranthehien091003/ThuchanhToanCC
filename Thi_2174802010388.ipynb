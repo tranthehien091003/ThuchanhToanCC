{
  "nbformat": 4,
  "nbformat_minor": 0,
  "metadata": {
    "colab": {
      "name": "Thi- 2174802010388.ipynb",
      "provenance": [],
      "authorship_tag": "ABX9TyNIqTryfBDkVYHxlfAZE50/",
      "include_colab_link": true
    },
    "kernelspec": {
      "name": "python3",
      "display_name": "Python 3"
    },
    "language_info": {
      "name": "python"
    }
  },
  "cells": [
    {
      "cell_type": "markdown",
      "metadata": {
        "id": "view-in-github",
        "colab_type": "text"
      },
      "source": [
        "<a href=\"https://colab.research.google.com/github/tranthehien091003/ThuchanhToanCC/blob/main/Thi_2174802010388.ipynb\" target=\"_parent\"><img src=\"https://colab.research.google.com/assets/colab-badge.svg\" alt=\"Open In Colab\"/></a>"
      ]
    },
    {
      "cell_type": "markdown",
      "source": [
        "**Phần tính đạo hàm**"
      ],
      "metadata": {
        "id": "pQIehKI1pYtb"
      }
    },
    {
      "cell_type": "markdown",
      "source": [
        "**câu 2:**"
      ],
      "metadata": {
        "id": "mEeDxJW0peEZ"
      }
    },
    {
      "cell_type": "code",
      "execution_count": 4,
      "metadata": {
        "colab": {
          "base_uri": "https://localhost:8080/",
          "height": 58
        },
        "id": "FitYddx5o7cA",
        "outputId": "7503d627-3e1e-4a2a-e2ba-c071c6bbd11f"
      },
      "outputs": [
        {
          "output_type": "execute_result",
          "data": {
            "text/plain": [
              "2/(x + 2) - (2*x - 1)/(x + 2)**2"
            ],
            "text/latex": "$\\displaystyle \\frac{2}{x + 2} - \\frac{2 x - 1}{\\left(x + 2\\right)^{2}}$"
          },
          "metadata": {},
          "execution_count": 4
        }
      ],
      "source": [
        "from sympy import Derivative, Symbol\n",
        "x = Symbol('x')\n",
        "f = (2*x - 1)/ (x + 2)\n",
        "Derivative (f,x).doit()"
      ]
    },
    {
      "cell_type": "markdown",
      "source": [
        "**Câu 4:**"
      ],
      "metadata": {
        "id": "Zxea9gIGrE3A"
      }
    },
    {
      "cell_type": "code",
      "source": [
        "from sympy import Derivative, Symbol\n",
        "x = Symbol('x')\n",
        "f = (x**2 + 3*x + 3)/(x+1)\n",
        "Derivative (f,x).doit()"
      ],
      "metadata": {
        "colab": {
          "base_uri": "https://localhost:8080/",
          "height": 61
        },
        "id": "pqUK-RVJq_IP",
        "outputId": "41089998-4624-4b70-b749-e0f0bc837769"
      },
      "execution_count": 5,
      "outputs": [
        {
          "output_type": "execute_result",
          "data": {
            "text/plain": [
              "(2*x + 3)/(x + 1) - (x**2 + 3*x + 3)/(x + 1)**2"
            ],
            "text/latex": "$\\displaystyle \\frac{2 x + 3}{x + 1} - \\frac{x^{2} + 3 x + 3}{\\left(x + 1\\right)^{2}}$"
          },
          "metadata": {},
          "execution_count": 5
        }
      ]
    },
    {
      "cell_type": "markdown",
      "source": [
        "** Phần tính giới hạn:**"
      ],
      "metadata": {
        "id": "UjZCItmZrQzS"
      }
    },
    {
      "cell_type": "markdown",
      "source": [
        "**Câu 2:**"
      ],
      "metadata": {
        "id": "8zA-UUd4reCZ"
      }
    },
    {
      "cell_type": "code",
      "source": [
        "from sympy import Symbol, Limit, sqrt\n",
        "x = Symbol('x')\n",
        "Limit(sqrt(x**2 - 2*x +3) / (x + 1), x, 1).doit()"
      ],
      "metadata": {
        "colab": {
          "base_uri": "https://localhost:8080/",
          "height": 55
        },
        "id": "R1V_mcndrgEe",
        "outputId": "f78bacd7-53a9-4042-f034-a1872b55c9ef"
      },
      "execution_count": 8,
      "outputs": [
        {
          "output_type": "execute_result",
          "data": {
            "text/plain": [
              "sqrt(2)/2"
            ],
            "text/latex": "$\\displaystyle \\frac{\\sqrt{2}}{2}$"
          },
          "metadata": {},
          "execution_count": 8
        }
      ]
    },
    {
      "cell_type": "markdown",
      "source": [
        "Câu 4:"
      ],
      "metadata": {
        "id": "jGBAtyzjsMFw"
      }
    },
    {
      "cell_type": "code",
      "source": [
        "from sympy import Symbol, sin, Limit, pi\n",
        "x = Symbol('x')\n",
        "Limit ((sin(x))/ (2*x), x, pi/2).doit()"
      ],
      "metadata": {
        "colab": {
          "base_uri": "https://localhost:8080/",
          "height": 51
        },
        "id": "ihIUq8wVsLiW",
        "outputId": "5e1398d6-53d9-4e53-f116-e46d8576af68"
      },
      "execution_count": 16,
      "outputs": [
        {
          "output_type": "execute_result",
          "data": {
            "text/plain": [
              "1/pi"
            ],
            "text/latex": "$\\displaystyle \\frac{1}{\\pi}$"
          },
          "metadata": {},
          "execution_count": 16
        }
      ]
    }
  ]
}