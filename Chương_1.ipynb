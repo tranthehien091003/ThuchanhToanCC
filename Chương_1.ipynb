{
  "nbformat": 4,
  "nbformat_minor": 0,
  "metadata": {
    "colab": {
      "name": "Chương 1.ipynb",
      "provenance": [],
      "authorship_tag": "ABX9TyMricI1rZNohf4E7OGjPJce",
      "include_colab_link": true
    },
    "kernelspec": {
      "name": "python3",
      "display_name": "Python 3"
    },
    "language_info": {
      "name": "python"
    }
  },
  "cells": [
    {
      "cell_type": "markdown",
      "metadata": {
        "id": "view-in-github",
        "colab_type": "text"
      },
      "source": [
        "<a href=\"https://colab.research.google.com/github/tranthehien091003/ThuchanhToanCC/blob/main/Ch%C6%B0%C6%A1ng_1.ipynb\" target=\"_parent\"><img src=\"https://colab.research.google.com/assets/colab-badge.svg\" alt=\"Open In Colab\"/></a>"
      ]
    },
    {
      "cell_type": "markdown",
      "source": [
        "Thực hành 1: Hãy viết lệnh tính tổng chuỗi sau: "
      ],
      "metadata": {
        "id": "Es9rRATnLKBr"
      }
    },
    {
      "cell_type": "code",
      "execution_count": 1,
      "metadata": {
        "colab": {
          "base_uri": "https://localhost:8080/"
        },
        "id": "G8OLnCFsIBFO",
        "outputId": "9de94789-a917-4ff6-e092-5498faa2956e"
      },
      "outputs": [
        {
          "output_type": "stream",
          "name": "stdout",
          "text": [
            "2.0\n"
          ]
        }
      ],
      "source": [
        "blocks = 10000 \n",
        "dayS = [1/2**n for n in range(0, blocks)] \n",
        "tongS = sum(dayS) \n",
        "print (tongS) "
      ]
    },
    {
      "cell_type": "markdown",
      "source": [
        "**Thực hành 2: Tính tích phân sau theo định nghĩa: **"
      ],
      "metadata": {
        "id": "LBkRjOa-LZN7"
      }
    },
    {
      "cell_type": "code",
      "source": [
        "n = 100000000\n",
        "\n",
        "X = [(2-0)*k/n for k in range(0, n+1)]"
      ],
      "metadata": {
        "id": "H0SaS4LqLbR_"
      },
      "execution_count": null,
      "outputs": []
    },
    {
      "cell_type": "code",
      "source": [
        "S = 0\n",
        "\n",
        "for k in range(1, n + 1):\n",
        "\n",
        "  S = S + X[k]**2 * (X[k] - X[k-1])\n",
        "\n",
        "print (S)"
      ],
      "metadata": {
        "id": "cTvGQZx5LdfH"
      },
      "execution_count": null,
      "outputs": []
    },
    {
      "cell_type": "markdown",
      "source": [
        "**Thực hành 3: Thử nghiệm tính toán sau:**"
      ],
      "metadata": {
        "id": "am_F8x0dLk-2"
      }
    },
    {
      "cell_type": "code",
      "source": [
        "from sympy import Rational\n",
        "Rational(1, 2) + Rational(1, 3)"
      ],
      "metadata": {
        "colab": {
          "base_uri": "https://localhost:8080/",
          "height": 51
        },
        "id": "w7G0LDY6Lm_j",
        "outputId": "fdcf1d44-b779-4be1-d021-7985e7550143"
      },
      "execution_count": 5,
      "outputs": [
        {
          "output_type": "execute_result",
          "data": {
            "text/latex": "$\\displaystyle \\frac{5}{6}$",
            "text/plain": [
              "5/6"
            ]
          },
          "metadata": {},
          "execution_count": 5
        }
      ]
    },
    {
      "cell_type": "code",
      "source": [
        "Rational(1, 2) + 1"
      ],
      "metadata": {
        "colab": {
          "base_uri": "https://localhost:8080/",
          "height": 51
        },
        "id": "WnbpdDwpLn79",
        "outputId": "a5997970-12bc-41cd-ad9b-6ac1e289d237"
      },
      "execution_count": 6,
      "outputs": [
        {
          "output_type": "execute_result",
          "data": {
            "text/latex": "$\\displaystyle \\frac{3}{2}$",
            "text/plain": [
              "3/2"
            ]
          },
          "metadata": {},
          "execution_count": 6
        }
      ]
    },
    {
      "cell_type": "code",
      "source": [
        "Rational(1, 3) + 1 + 1.5"
      ],
      "metadata": {
        "colab": {
          "base_uri": "https://localhost:8080/",
          "height": 38
        },
        "id": "AjoakKcfL8E5",
        "outputId": "eb29d6cc-0d6b-42df-f1ba-f72995be28bc"
      },
      "execution_count": 7,
      "outputs": [
        {
          "output_type": "execute_result",
          "data": {
            "text/latex": "$\\displaystyle 2.83333333333333$",
            "text/plain": [
              "2.83333333333333"
            ]
          },
          "metadata": {},
          "execution_count": 7
        }
      ]
    },
    {
      "cell_type": "markdown",
      "source": [
        "**Thực hành 4: Về khai báo biến trong Sympy:**"
      ],
      "metadata": {
        "id": "OKtDukYkL-29"
      }
    },
    {
      "cell_type": "code",
      "source": [
        "from sympy import *\n",
        "x = Symbol('x')\n",
        "y = Symbol('y')"
      ],
      "metadata": {
        "id": "ESq1e48sMArL"
      },
      "execution_count": 8,
      "outputs": []
    },
    {
      "cell_type": "code",
      "source": [
        "x + x + x -y"
      ],
      "metadata": {
        "colab": {
          "base_uri": "https://localhost:8080/",
          "height": 39
        },
        "id": "s5OqJPkhMLg3",
        "outputId": "4788c4e1-6dc5-41e3-d127-1757f9011b2c"
      },
      "execution_count": 10,
      "outputs": [
        {
          "output_type": "execute_result",
          "data": {
            "text/latex": "$\\displaystyle 3 x - y$",
            "text/plain": [
              "3*x - y"
            ]
          },
          "metadata": {},
          "execution_count": 10
        }
      ]
    },
    {
      "cell_type": "code",
      "source": [
        "(3*x +2*y)**3"
      ],
      "metadata": {
        "colab": {
          "base_uri": "https://localhost:8080/",
          "height": 40
        },
        "id": "Lw3IgoILMTus",
        "outputId": "4c221f01-5ac5-49d8-9046-132f4abf9847"
      },
      "execution_count": 13,
      "outputs": [
        {
          "output_type": "execute_result",
          "data": {
            "text/latex": "$\\displaystyle \\left(3 x + 2 y\\right)^{3}$",
            "text/plain": [
              "(3*x + 2*y)**3"
            ]
          },
          "metadata": {},
          "execution_count": 13
        }
      ]
    },
    {
      "cell_type": "markdown",
      "source": [
        "**Thực hành 5a: Tìm các hàm ở mẫu số của biểu thức sau: 1/x * 1/x-3 **"
      ],
      "metadata": {
        "id": "brftxptMMZ2F"
      }
    },
    {
      "cell_type": "code",
      "source": [
        "from sympy.solvers.solvers import denoms\n",
        "from sympy import *\n",
        "x = Symbol('x')\n",
        "eq = (1/x) * 1/(x-3)\n",
        "dd = denoms(eq)\n",
        "print(dd)"
      ],
      "metadata": {
        "colab": {
          "base_uri": "https://localhost:8080/"
        },
        "id": "wQIen6o0MqCe",
        "outputId": "b3db4d78-ec84-416e-fb73-21f5b96d4790"
      },
      "execution_count": 14,
      "outputs": [
        {
          "output_type": "stream",
          "name": "stdout",
          "text": [
            "{x, x - 3}\n"
          ]
        }
      ]
    },
    {
      "cell_type": "markdown",
      "source": [
        "**Thực hành 5b:**"
      ],
      "metadata": {
        "id": "YbgIuKT8MtvG"
      }
    },
    {
      "cell_type": "code",
      "source": [
        "pt = (1 +1/x) / (x-1)\n",
        "from sympy.solvers.solvers import denoms\n",
        "loai_tru = set()\n",
        "for i in denoms(pt):\n",
        "  for s in solve(i):\n",
        "    loai_tru.add(s)\n",
        "print(loai_tru)"
      ],
      "metadata": {
        "colab": {
          "base_uri": "https://localhost:8080/"
        },
        "id": "uzH38m9mMvi2",
        "outputId": "7b5cde37-fd2f-4668-c9f9-ff9e19a14734"
      },
      "execution_count": 15,
      "outputs": [
        {
          "output_type": "stream",
          "name": "stdout",
          "text": [
            "{0, 1}\n"
          ]
        }
      ]
    },
    {
      "cell_type": "markdown",
      "source": [
        "**Thực hành 6:**"
      ],
      "metadata": {
        "id": "R8Mg7eYiMy-I"
      }
    },
    {
      "cell_type": "code",
      "source": [
        "from sympy import Symbol\n",
        "x = Symbol('x', positive = True)\n",
        "if(x+3) > 0:\n",
        "  print('Chắc chắn x + 3 dương')\n",
        "else:\n",
        "  print('x + 3 chưa chắc là số dương')"
      ],
      "metadata": {
        "colab": {
          "base_uri": "https://localhost:8080/"
        },
        "id": "O2-C8IZKM1zM",
        "outputId": "1049cd0b-b865-42ab-b531-3a958472f5d9"
      },
      "execution_count": 16,
      "outputs": [
        {
          "output_type": "stream",
          "name": "stdout",
          "text": [
            "Chắc chắn x + 3 dương\n"
          ]
        }
      ]
    },
    {
      "cell_type": "markdown",
      "source": [
        "**Thực hành 7:**"
      ],
      "metadata": {
        "id": "jTa8NT00M3Ro"
      }
    },
    {
      "cell_type": "code",
      "source": [
        "import math\n",
        "math.sin(math.pi/2)\n"
      ],
      "metadata": {
        "colab": {
          "base_uri": "https://localhost:8080/"
        },
        "id": "VYZdU8P3M6d5",
        "outputId": "43a3ccf9-157b-4d55-c453-a237197a4603"
      },
      "execution_count": 17,
      "outputs": [
        {
          "output_type": "execute_result",
          "data": {
            "text/plain": [
              "1.0"
            ]
          },
          "metadata": {},
          "execution_count": 17
        }
      ]
    },
    {
      "cell_type": "markdown",
      "source": [
        "**Thực hành 8:**"
      ],
      "metadata": {
        "id": "fDFnmTyJM7_V"
      }
    },
    {
      "cell_type": "code",
      "source": [
        "from sympy import sin, solve, Symbol\n",
        "u = Symbol('u')\n",
        "t = Symbol('t')\n",
        "g = Symbol('g')\n",
        "theta = Symbol('theta')\n",
        "solve(u*sin(theta)- g*t, t)"
      ],
      "metadata": {
        "colab": {
          "base_uri": "https://localhost:8080/"
        },
        "id": "hmI3-FDHNAdq",
        "outputId": "9c9d2b7d-1502-4704-c0aa-6154dad24677"
      },
      "execution_count": 18,
      "outputs": [
        {
          "output_type": "execute_result",
          "data": {
            "text/plain": [
              "[u*sin(theta)/g]"
            ]
          },
          "metadata": {},
          "execution_count": 18
        }
      ]
    },
    {
      "cell_type": "markdown",
      "source": [
        "**Thực hành 9:**"
      ],
      "metadata": {
        "id": "e84ZZvahNC56"
      }
    },
    {
      "cell_type": "code",
      "source": [
        "from sympy import Symbol, Limit, S\n",
        "x = Symbol('x')\n",
        "Limit(1/x, x, S.Infinity)"
      ],
      "metadata": {
        "colab": {
          "base_uri": "https://localhost:8080/",
          "height": 51
        },
        "id": "RDq7qpNrNFKc",
        "outputId": "73590804-a2fa-4d69-807e-58221c244493"
      },
      "execution_count": 19,
      "outputs": [
        {
          "output_type": "execute_result",
          "data": {
            "text/latex": "$\\displaystyle \\lim_{x \\to \\infty} \\frac{1}{x}$",
            "text/plain": [
              "Limit(1/x, x, oo, dir='-')"
            ]
          },
          "metadata": {},
          "execution_count": 19
        }
      ]
    },
    {
      "cell_type": "code",
      "source": [
        "gioihan = Limit(1/x, x, S.Infinity)\n",
        "gioihan.doit()"
      ],
      "metadata": {
        "colab": {
          "base_uri": "https://localhost:8080/",
          "height": 38
        },
        "id": "POdsQRc1NGyS",
        "outputId": "493eb224-8b50-4427-af92-b36ac6990dad"
      },
      "execution_count": 20,
      "outputs": [
        {
          "output_type": "execute_result",
          "data": {
            "text/latex": "$\\displaystyle 0$",
            "text/plain": [
              "0"
            ]
          },
          "metadata": {},
          "execution_count": 20
        }
      ]
    },
    {
      "cell_type": "markdown",
      "source": [
        "**Thực hành 10a:**"
      ],
      "metadata": {
        "id": "YR-NQ_WoNJPF"
      }
    },
    {
      "cell_type": "code",
      "source": [
        "from sympy import Limit\n",
        "Limit(1/x, x, 0, dir = '-').doit() "
      ],
      "metadata": {
        "colab": {
          "base_uri": "https://localhost:8080/",
          "height": 38
        },
        "id": "goqE-TlqNLN2",
        "outputId": "3d529f0c-46ab-40e4-8cd9-4d9c883a78b7"
      },
      "execution_count": 21,
      "outputs": [
        {
          "output_type": "execute_result",
          "data": {
            "text/latex": "$\\displaystyle -\\infty$",
            "text/plain": [
              "-oo"
            ]
          },
          "metadata": {},
          "execution_count": 21
        }
      ]
    },
    {
      "cell_type": "code",
      "source": [
        "Limit(1/x, x, 0, dir = '+').doit() "
      ],
      "metadata": {
        "colab": {
          "base_uri": "https://localhost:8080/",
          "height": 38
        },
        "id": "Dg52-H1fNM0l",
        "outputId": "8f48c6ab-bc34-43dd-f5a8-15607d8f36b8"
      },
      "execution_count": 22,
      "outputs": [
        {
          "output_type": "execute_result",
          "data": {
            "text/latex": "$\\displaystyle \\infty$",
            "text/plain": [
              "oo"
            ]
          },
          "metadata": {},
          "execution_count": 22
        }
      ]
    },
    {
      "cell_type": "markdown",
      "source": [
        "**Thực hành 10b:**"
      ],
      "metadata": {
        "id": "D5OIts7CNO_8"
      }
    },
    {
      "cell_type": "code",
      "source": [
        "from sympy import sin, Symbol\n",
        "Limit(sin(x)/x, x, 0).doit()"
      ],
      "metadata": {
        "colab": {
          "base_uri": "https://localhost:8080/",
          "height": 38
        },
        "id": "_5Kz-iz4NRBE",
        "outputId": "1b67e8ec-7888-48fa-b7f6-bc063082edd5"
      },
      "execution_count": 23,
      "outputs": [
        {
          "output_type": "execute_result",
          "data": {
            "text/latex": "$\\displaystyle 1$",
            "text/plain": [
              "1"
            ]
          },
          "metadata": {},
          "execution_count": 23
        }
      ]
    },
    {
      "cell_type": "markdown",
      "source": [
        "**Thực hành 11:**"
      ],
      "metadata": {
        "id": "qv8q5gqcNTaj"
      }
    },
    {
      "cell_type": "code",
      "source": [
        "from sympy import sin, Symbol\n",
        "Limit(x*sin(1/x), x, S.Infinity)"
      ],
      "metadata": {
        "colab": {
          "base_uri": "https://localhost:8080/",
          "height": 58
        },
        "id": "BUpz8ECcNU2r",
        "outputId": "87e14de7-b644-48eb-de2d-d403e44ab71b"
      },
      "execution_count": 24,
      "outputs": [
        {
          "output_type": "execute_result",
          "data": {
            "text/latex": "$\\displaystyle \\lim_{x \\to \\infty}\\left(x \\sin{\\left(\\frac{1}{x} \\right)}\\right)$",
            "text/plain": [
              "Limit(x*sin(1/x), x, oo, dir='-')"
            ]
          },
          "metadata": {},
          "execution_count": 24
        }
      ]
    },
    {
      "cell_type": "markdown",
      "source": [
        "**Thực hành 12:**"
      ],
      "metadata": {
        "id": "hZR1mHqdNWkS"
      }
    },
    {
      "cell_type": "code",
      "source": [
        "from sympy import Symbol, Limit, S\n",
        "p = Symbol('p', positive = True)\n",
        "r = Symbol('r', positive = True)\n",
        "t = Symbol('t', positive = True)\n",
        "n = Symbol('n')\n",
        "Limit(p*(1+r/n) **(n*t) , n , S.Infinity).doit()"
      ],
      "metadata": {
        "colab": {
          "base_uri": "https://localhost:8080/",
          "height": 39
        },
        "id": "zBsa4Qu9NZ3v",
        "outputId": "0e7d8e4b-431b-47e2-b1ab-31f3f05ca9d8"
      },
      "execution_count": 25,
      "outputs": [
        {
          "output_type": "execute_result",
          "data": {
            "text/latex": "$\\displaystyle p e^{r t}$",
            "text/plain": [
              "p*exp(r*t)"
            ]
          },
          "metadata": {},
          "execution_count": 25
        }
      ]
    },
    {
      "cell_type": "markdown",
      "source": [
        "**Thực hành 13:**"
      ],
      "metadata": {
        "id": "ACvZ3XmqNaSk"
      }
    },
    {
      "cell_type": "code",
      "source": [
        "from sympy import Symbol, Limit\n",
        "t = Symbol('t')\n",
        "St = 5*t**2 + 2*t + 8\n",
        "\n",
        "t1 = Symbol('t1')\n",
        "delta_t = Symbol ('delta_t')\n",
        "\n",
        "St1 = St.subs({t: t1})\n",
        "St1_delta = St.subs ({t : t1 + delta_t})\n",
        "Limit ((St1_delta - St1) / delta_t, delta_t, 0).doit()"
      ],
      "metadata": {
        "colab": {
          "base_uri": "https://localhost:8080/",
          "height": 39
        },
        "id": "Y3Vs6yFINdwh",
        "outputId": "73203e64-31a9-4afb-f6a8-f661718017ba"
      },
      "execution_count": 26,
      "outputs": [
        {
          "output_type": "execute_result",
          "data": {
            "text/latex": "$\\displaystyle 10 t_{1} + 2$",
            "text/plain": [
              "10*t1 + 2"
            ]
          },
          "metadata": {},
          "execution_count": 26
        }
      ]
    },
    {
      "cell_type": "markdown",
      "source": [
        "**Bài tập 1- chương 1:**"
      ],
      "metadata": {
        "id": "Y748hQCRNgbT"
      }
    },
    {
      "cell_type": "code",
      "source": [
        "a = 3.1; b = 3.0; i = -1\n",
        "while (a != b):\n",
        "  print (a, \"!=\", b)\n",
        "  a_new = a - 0.9 *10 ** (i)\n",
        "  if (a_new != a):\n",
        "    a = a_new\n",
        "    i = i - 1\n",
        "  else:\n",
        "    print (i)\n",
        "    a = b"
      ],
      "metadata": {
        "colab": {
          "base_uri": "https://localhost:8080/"
        },
        "id": "nh40RU-vNh3s",
        "outputId": "f1e63e59-bb46-49a9-db18-24d9922cee75"
      },
      "execution_count": 27,
      "outputs": [
        {
          "output_type": "stream",
          "name": "stdout",
          "text": [
            "3.1 != 3.0\n",
            "3.0100000000000002 != 3.0\n",
            "3.0010000000000003 != 3.0\n",
            "3.0001 != 3.0\n",
            "3.00001 != 3.0\n",
            "3.000001 != 3.0\n",
            "3.0000001000000003 != 3.0\n",
            "3.0000000100000004 != 3.0\n",
            "3.0000000010000005 != 3.0\n",
            "3.0000000001000005 != 3.0\n",
            "3.0000000000100004 != 3.0\n",
            "3.0000000000010005 != 3.0\n",
            "3.0000000000001004 != 3.0\n",
            "3.00000000000001 != 3.0\n",
            "3.0000000000000013 != 3.0\n",
            "3.0000000000000004 != 3.0\n",
            "-16\n"
          ]
        }
      ]
    },
    {
      "cell_type": "code",
      "source": [
        "from sympy import Symbol, sin, Limit\n",
        "x = Symbol('x')\n",
        "Limit(sin(x)/x, x, 0).doit()"
      ],
      "metadata": {
        "colab": {
          "base_uri": "https://localhost:8080/",
          "height": 38
        },
        "id": "ddKjC71GNtWJ",
        "outputId": "5c06f4c8-0a42-4e07-88bf-505fff45fc28"
      },
      "execution_count": 28,
      "outputs": [
        {
          "output_type": "execute_result",
          "data": {
            "text/latex": "$\\displaystyle 1$",
            "text/plain": [
              "1"
            ]
          },
          "metadata": {},
          "execution_count": 28
        }
      ]
    },
    {
      "cell_type": "markdown",
      "source": [
        "**Bài tập 2: Thứ tự tính toán trong Python**"
      ],
      "metadata": {
        "id": "dmU_hZJ4NxHx"
      }
    },
    {
      "cell_type": "code",
      "source": [
        "a = True\n",
        "b = False \n",
        "if (1/0 > 0) and (a == b):\n",
        "  print(\"a=b\")\n",
        "else:\n",
        "  print(\"a khac b\")"
      ],
      "metadata": {
        "colab": {
          "base_uri": "https://localhost:8080/",
          "height": 234
        },
        "id": "QaDB7ySwNyMY",
        "outputId": "f8afd6db-5ebd-411a-baa2-7a8562427f84"
      },
      "execution_count": 29,
      "outputs": [
        {
          "output_type": "error",
          "ename": "ZeroDivisionError",
          "evalue": "ignored",
          "traceback": [
            "\u001b[0;31m---------------------------------------------------------------------------\u001b[0m",
            "\u001b[0;31mZeroDivisionError\u001b[0m                         Traceback (most recent call last)",
            "\u001b[0;32m<ipython-input-29-d65893f52cb3>\u001b[0m in \u001b[0;36m<module>\u001b[0;34m()\u001b[0m\n\u001b[1;32m      1\u001b[0m \u001b[0ma\u001b[0m \u001b[0;34m=\u001b[0m \u001b[0;32mTrue\u001b[0m\u001b[0;34m\u001b[0m\u001b[0;34m\u001b[0m\u001b[0m\n\u001b[1;32m      2\u001b[0m \u001b[0mb\u001b[0m \u001b[0;34m=\u001b[0m \u001b[0;32mFalse\u001b[0m\u001b[0;34m\u001b[0m\u001b[0;34m\u001b[0m\u001b[0m\n\u001b[0;32m----> 3\u001b[0;31m \u001b[0;32mif\u001b[0m \u001b[0;34m(\u001b[0m\u001b[0;36m1\u001b[0m\u001b[0;34m/\u001b[0m\u001b[0;36m0\u001b[0m \u001b[0;34m>\u001b[0m \u001b[0;36m0\u001b[0m\u001b[0;34m)\u001b[0m \u001b[0;32mand\u001b[0m \u001b[0;34m(\u001b[0m\u001b[0ma\u001b[0m \u001b[0;34m==\u001b[0m \u001b[0mb\u001b[0m\u001b[0;34m)\u001b[0m\u001b[0;34m:\u001b[0m\u001b[0;34m\u001b[0m\u001b[0;34m\u001b[0m\u001b[0m\n\u001b[0m\u001b[1;32m      4\u001b[0m   \u001b[0mprint\u001b[0m\u001b[0;34m(\u001b[0m\u001b[0;34m\"a=b\"\u001b[0m\u001b[0;34m)\u001b[0m\u001b[0;34m\u001b[0m\u001b[0;34m\u001b[0m\u001b[0m\n\u001b[1;32m      5\u001b[0m \u001b[0;32melse\u001b[0m\u001b[0;34m:\u001b[0m\u001b[0;34m\u001b[0m\u001b[0;34m\u001b[0m\u001b[0m\n",
            "\u001b[0;31mZeroDivisionError\u001b[0m: division by zero"
          ]
        }
      ]
    },
    {
      "cell_type": "markdown",
      "source": [
        "**1 không thể chia cho 0 nên chương trình bị sai**"
      ],
      "metadata": {
        "id": "3AmsWvviOFVN"
      }
    }
  ]
}