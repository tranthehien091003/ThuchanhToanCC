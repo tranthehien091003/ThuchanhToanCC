{
  "nbformat": 4,
  "nbformat_minor": 0,
  "metadata": {
    "colab": {
      "name": "Chương 2",
      "provenance": [],
      "authorship_tag": "ABX9TyNiHvQCN6OKnAff+8M+ax8G",
      "include_colab_link": true
    },
    "kernelspec": {
      "name": "python3",
      "display_name": "Python 3"
    },
    "language_info": {
      "name": "python"
    }
  },
  "cells": [
    {
      "cell_type": "markdown",
      "metadata": {
        "id": "view-in-github",
        "colab_type": "text"
      },
      "source": [
        "<a href=\"https://colab.research.google.com/github/tranthehien091003/ThuchanhToanCC/blob/main/Ch%C6%B0%C6%A1ng_2.ipynb\" target=\"_parent\"><img src=\"https://colab.research.google.com/assets/colab-badge.svg\" alt=\"Open In Colab\"/></a>"
      ]
    },
    {
      "cell_type": "markdown",
      "source": [
        "**Chương 2: Đạo Hàm**"
      ],
      "metadata": {
        "id": "tSjxPqzhRz1N"
      }
    },
    {
      "cell_type": "markdown",
      "source": [
        "Thực hành 1: Sử dụng hàm eval"
      ],
      "metadata": {
        "id": "haDdw-4KR994"
      }
    },
    {
      "cell_type": "code",
      "execution_count": null,
      "metadata": {
        "colab": {
          "base_uri": "https://localhost:8080/"
        },
        "id": "CPs21E9DRG4p",
        "outputId": "040db997-aac7-428c-ad82-a25e5aeba5d1"
      },
      "outputs": [
        {
          "output_type": "execute_result",
          "data": {
            "text/plain": [
              "18"
            ]
          },
          "metadata": {},
          "execution_count": 6
        }
      ],
      "source": [
        "chuoitinhtoan = \"a*b+c\" \n",
        "a = 2 \n",
        "b = 5 \n",
        "c = 8 \n",
        "eval(chuoitinhtoan)"
      ]
    },
    {
      "cell_type": "markdown",
      "source": [
        "Thực hành 2:Cơ bản về sử dụng hàm subs"
      ],
      "metadata": {
        "id": "fi7FCpQfSIBf"
      }
    },
    {
      "cell_type": "code",
      "source": [
        "import sympy\n",
        "from sympy import Symbol\n",
        "x = Symbol('x') \n",
        "y = Symbol('y') \n",
        "bieuthuc = x+y \n",
        "thaytheso = bieuthuc.subs({x:10, y:5}) \n",
        "thaytheso"
      ],
      "metadata": {
        "colab": {
          "base_uri": "https://localhost:8080/",
          "height": 38
        },
        "id": "SWzjcyQGSJ4m",
        "outputId": "1db8bdfb-f64e-4047-c0fe-fa09e35132f6"
      },
      "execution_count": null,
      "outputs": [
        {
          "output_type": "execute_result",
          "data": {
            "text/latex": "$\\displaystyle 15$",
            "text/plain": [
              "15"
            ]
          },
          "metadata": {},
          "execution_count": 7
        }
      ]
    },
    {
      "cell_type": "markdown",
      "source": [
        "Thực hành 3: Tạo danh sách"
      ],
      "metadata": {
        "id": "kaGP9f9gSLMb"
      }
    },
    {
      "cell_type": "code",
      "source": [
        "danhsach_so = [10, 15, 20] \n",
        "danhsach_so[0] "
      ],
      "metadata": {
        "colab": {
          "base_uri": "https://localhost:8080/"
        },
        "id": "jVi-TbfsSM-a",
        "outputId": "20e2c32b-59b8-4e5a-e5d6-861832d92d3a"
      },
      "execution_count": null,
      "outputs": [
        {
          "output_type": "execute_result",
          "data": {
            "text/plain": [
              "10"
            ]
          },
          "metadata": {},
          "execution_count": 8
        }
      ]
    },
    {
      "cell_type": "markdown",
      "source": [
        "Thực hành 4: Duyệt danh sách"
      ],
      "metadata": {
        "id": "Dh3vOHBKSPZg"
      }
    },
    {
      "cell_type": "code",
      "source": [
        "ds = [1, 2, 3] \n",
        "for so in ds: \n",
        "  print(so)"
      ],
      "metadata": {
        "colab": {
          "base_uri": "https://localhost:8080/"
        },
        "id": "jZnQeZ04SQwT",
        "outputId": "c215ff68-99a2-4131-c5c4-0be51b1b010f"
      },
      "execution_count": null,
      "outputs": [
        {
          "output_type": "stream",
          "name": "stdout",
          "text": [
            "1\n",
            "2\n",
            "3\n"
          ]
        }
      ]
    },
    {
      "cell_type": "markdown",
      "source": [
        "Thực hành 5: Vẽ đồ thị đầu tiên từ 2 danh sách sốsố"
      ],
      "metadata": {
        "id": "73Q1PMegSR4w"
      }
    },
    {
      "cell_type": "code",
      "source": [
        "x_numbers = [3, 7, 4] \n",
        "y_numbers = [5, 3, 2] \n",
        "\n",
        "from pylab import plot, show \n",
        "plot(x_numbers, y_numbers) \n",
        "show() "
      ],
      "metadata": {
        "colab": {
          "base_uri": "https://localhost:8080/",
          "height": 265
        },
        "id": "fmNkyE4MSTAS",
        "outputId": "3935024a-5b40-40e0-c8f0-e12f954912cc"
      },
      "execution_count": null,
      "outputs": [
        {
          "output_type": "display_data",
          "data": {
            "image/png": "[encoded data removed]",
            "text/plain": [
              "<Figure size 432x288 with 1 Axes>"
            ]
          },
          "metadata": {
            "needs_background": "light"
          }
        }
      ]
    },
    {
      "cell_type": "markdown",
      "source": [
        "Thực hành 6: Vẽ đồ thị có marker"
      ],
      "metadata": {
        "id": "GXnPcGTWSUAu"
      }
    },
    {
      "cell_type": "code",
      "source": [
        "plot(x_numbers, y_numbers, marker = 'x')\n",
        "show()"
      ],
      "metadata": {
        "colab": {
          "base_uri": "https://localhost:8080/",
          "height": 265
        },
        "id": "vy1ebkUeSY83",
        "outputId": "43f4efc2-3dcd-48e3-a82a-4e3b906c8181"
      },
      "execution_count": null,
      "outputs": [
        {
          "output_type": "display_data",
          "data": {
            "image/png": "[encoded data removed]",
            "text/plain": [
              "<Figure size 432x288 with 1 Axes>"
            ]
          },
          "metadata": {
            "needs_background": "light"
          }
        }
      ]
    },
    {
      "cell_type": "markdown",
      "source": [
        "Thực hành 7: Vẽ đồ thị lượng mưa trung bình tại TP.HCM theo tháng"
      ],
      "metadata": {
        "id": "puzpAQ1ISalY"
      }
    },
    {
      "cell_type": "code",
      "source": [
        "hcm_rain = [14.2, 3.2, 13.1, 53.6, 206.9, 333.6, 192.3, 269.8, 365.55, 280.3, 300, 48.3] \n",
        "months = range(1, 13) \n",
        "plot(months, hcm_rain, marker = 'x') \n",
        "show()"
      ],
      "metadata": {
        "colab": {
          "base_uri": "https://localhost:8080/",
          "height": 265
        },
        "id": "LXrmA4JtSb5O",
        "outputId": "21334e5e-47ee-48c7-e7d4-55415965f85e"
      },
      "execution_count": null,
      "outputs": [
        {
          "output_type": "display_data",
          "data": {
            "image/png": "[encoded data removed]",
            "text/plain": [
              "<Figure size 432x288 with 1 Axes>"
            ]
          },
          "metadata": {
            "needs_background": "light"
          }
        }
      ]
    },
    {
      "cell_type": "markdown",
      "source": [
        "Thực hành 8: Tính đạo hàm với DerivativeDerivative"
      ],
      "metadata": {
        "id": "_HbYXOCiShsE"
      }
    },
    {
      "cell_type": "code",
      "source": [
        "from sympy import Symbol, Derivative \n",
        "x = Symbol('x') \n",
        "sx = 4*x**2 + 3*x + 8 \n",
        "Derivative(sx, x)"
      ],
      "metadata": {
        "colab": {
          "base_uri": "https://localhost:8080/",
          "height": 52
        },
        "id": "abpoeDVCSi4u",
        "outputId": "51185dec-c422-46f5-cedd-60ee5abda9ac"
      },
      "execution_count": null,
      "outputs": [
        {
          "output_type": "execute_result",
          "data": {
            "text/latex": "$\\displaystyle \\frac{d}{d x} \\left(4 x^{2} + 3 x + 8\\right)$",
            "text/plain": [
              "Derivative(4*x**2 + 3*x + 8, x)"
            ]
          },
          "metadata": {},
          "execution_count": 13
        }
      ]
    },
    {
      "cell_type": "code",
      "source": [
        "d = Derivative(sx, x) \n",
        "d.doit() "
      ],
      "metadata": {
        "colab": {
          "base_uri": "https://localhost:8080/",
          "height": 39
        },
        "id": "hLlGmtouSl7B",
        "outputId": "90f3866f-5364-498d-8a7a-51004a223290"
      },
      "execution_count": null,
      "outputs": [
        {
          "output_type": "execute_result",
          "data": {
            "text/latex": "$\\displaystyle 8 x + 3$",
            "text/plain": [
              "8*x + 3"
            ]
          },
          "metadata": {},
          "execution_count": 14
        }
      ]
    },
    {
      "cell_type": "markdown",
      "source": [
        "Thực hànhhành 9: Tính đạo hàm hàm hợp"
      ],
      "metadata": {
        "id": "3UMwcbS8SkRK"
      }
    },
    {
      "cell_type": "code",
      "source": [
        "from sympy import Derivative, Symbol \n",
        "x = Symbol('x') \n",
        "f = (2*x**3+x**2+3*x)*(4*x**2+2*x) \n",
        "Derivative(f, x).doit()"
      ],
      "metadata": {
        "colab": {
          "base_uri": "https://localhost:8080/",
          "height": 39
        },
        "id": "1-O-h2khSotP",
        "outputId": "96f218c3-55d0-46c6-bf36-18d3c0dfc139"
      },
      "execution_count": null,
      "outputs": [
        {
          "output_type": "execute_result",
          "data": {
            "text/latex": "$\\displaystyle \\left(8 x + 2\\right) \\left(2 x^{3} + x^{2} + 3 x\\right) + \\left(4 x^{2} + 2 x\\right) \\left(6 x^{2} + 2 x + 3\\right)$",
            "text/plain": [
              "(8*x + 2)*(2*x**3 + x**2 + 3*x) + (4*x**2 + 2*x)*(6*x**2 + 2*x + 3)"
            ]
          },
          "metadata": {},
          "execution_count": 15
        }
      ]
    },
    {
      "cell_type": "markdown",
      "source": [
        "Thực hành 10: Tính đạo hàm với các hàm lượng giác"
      ],
      "metadata": {
        "id": "B4S3fS_zSsWH"
      }
    },
    {
      "cell_type": "code",
      "source": [
        "import sympy\n",
        "f = sympy.sin(4*x) \n",
        "Derivative(f, x).doit()"
      ],
      "metadata": {
        "colab": {
          "base_uri": "https://localhost:8080/",
          "height": 39
        },
        "id": "3bbf6Fi0Su8o",
        "outputId": "a6b1ede0-e0b8-4413-92fe-dbee04b084b6"
      },
      "execution_count": null,
      "outputs": [
        {
          "output_type": "execute_result",
          "data": {
            "text/latex": "$\\displaystyle 4 \\cos{\\left(4 x \\right)}$",
            "text/plain": [
              "4*cos(4*x)"
            ]
          },
          "metadata": {},
          "execution_count": 16
        }
      ]
    },
    {
      "cell_type": "code",
      "source": [
        "f = sympy.sin(x)*sympy.cos(x) \n",
        "Derivative(f, x).doit() "
      ],
      "metadata": {
        "colab": {
          "base_uri": "https://localhost:8080/",
          "height": 39
        },
        "id": "nFU1hxRSSx2z",
        "outputId": "767475cf-d3ce-477c-c491-7d4cf1e39115"
      },
      "execution_count": null,
      "outputs": [
        {
          "output_type": "execute_result",
          "data": {
            "text/latex": "$\\displaystyle - \\sin^{2}{\\left(x \\right)} + \\cos^{2}{\\left(x \\right)}$",
            "text/plain": [
              "-sin(x)**2 + cos(x)**2"
            ]
          },
          "metadata": {},
          "execution_count": 17
        }
      ]
    },
    {
      "cell_type": "markdown",
      "source": [
        "Thực hành 11: Tìm cực đại, cực tiểu của hàm số"
      ],
      "metadata": {
        "id": "K0Cka4hySwkS"
      }
    },
    {
      "cell_type": "code",
      "source": [
        "from sympy import Symbol, solve, Derivative \n",
        "x = Symbol('x') \n",
        "f = 3*x**5-35*x**3+50*x \n",
        "d1 = Derivative(f, x).doit()"
      ],
      "metadata": {
        "id": "u8L6ix7xS0HA"
      },
      "execution_count": null,
      "outputs": []
    },
    {
      "cell_type": "code",
      "source": [
        "d1 = Derivative(f, x).doit() \n",
        "cuctri = solve(d1) "
      ],
      "metadata": {
        "id": "V7JsuTvzS4Od"
      },
      "execution_count": null,
      "outputs": []
    },
    {
      "cell_type": "code",
      "source": [
        "A = cuctri[0] \n",
        "A = cuctri[2]\n",
        "B = cuctri[0] \n",
        "C = cuctri[1]\n",
        "D = cuctri[3]"
      ],
      "metadata": {
        "id": "xoGwvuqjS5nd"
      },
      "execution_count": null,
      "outputs": []
    },
    {
      "cell_type": "code",
      "source": [
        "d2 = Derivative(d1, x, 2).doit()"
      ],
      "metadata": {
        "id": "GPJbe7RfS68W"
      },
      "execution_count": null,
      "outputs": []
    },
    {
      "cell_type": "code",
      "source": [
        "d2.subs({x:B}).evalf() "
      ],
      "metadata": {
        "colab": {
          "base_uri": "https://localhost:8080/",
          "height": 38
        },
        "id": "Bcr0RZz4S8Im",
        "outputId": "d767b970-e302-4f42-cc75-977d8e687a6b"
      },
      "execution_count": null,
      "outputs": [
        {
          "output_type": "execute_result",
          "data": {
            "text/latex": "$\\displaystyle -117.494186015068$",
            "text/plain": [
              "-117.494186015068"
            ]
          },
          "metadata": {},
          "execution_count": 22
        }
      ]
    },
    {
      "cell_type": "code",
      "source": [
        " d2.subs({x:C}).evalf()"
      ],
      "metadata": {
        "colab": {
          "base_uri": "https://localhost:8080/",
          "height": 38
        },
        "id": "RDwN_VQjS_JO",
        "outputId": "97917d02-6731-475b-b1fc-85e071aa5ef6"
      },
      "execution_count": null,
      "outputs": [
        {
          "output_type": "execute_result",
          "data": {
            "text/latex": "$\\displaystyle -117.494186015068$",
            "text/plain": [
              "-117.494186015068"
            ]
          },
          "metadata": {},
          "execution_count": 23
        }
      ]
    },
    {
      "cell_type": "code",
      "source": [
        "d2.subs({x:A}).evalf()"
      ],
      "metadata": {
        "colab": {
          "base_uri": "https://localhost:8080/",
          "height": 38
        },
        "id": "Df_yL56RTBXp",
        "outputId": "1e3c56f9-cda0-44c9-d811-9b99105da381"
      },
      "execution_count": null,
      "outputs": [
        {
          "output_type": "execute_result",
          "data": {
            "text/latex": "$\\displaystyle 957.494186015067$",
            "text/plain": [
              "957.494186015067"
            ]
          },
          "metadata": {},
          "execution_count": 24
        }
      ]
    },
    {
      "cell_type": "code",
      "source": [
        "d2.subs({x:D}).evalf() "
      ],
      "metadata": {
        "colab": {
          "base_uri": "https://localhost:8080/",
          "height": 38
        },
        "id": "QM9TTkuLTkGt",
        "outputId": "0695e2ef-c6bd-4269-c91f-7beafad1d47c"
      },
      "execution_count": null,
      "outputs": [
        {
          "output_type": "execute_result",
          "data": {
            "text/latex": "$\\displaystyle 957.494186015067$",
            "text/plain": [
              "957.494186015067"
            ]
          },
          "metadata": {},
          "execution_count": 25
        }
      ]
    },
    {
      "cell_type": "code",
      "source": [
        " x_min = -5\n",
        " x_max = 5\n",
        " "
      ],
      "metadata": {
        "id": "V-tCxptbUvVm"
      },
      "execution_count": null,
      "outputs": []
    },
    {
      "cell_type": "code",
      "source": [
        "f.subs({x:A}).evalf()"
      ],
      "metadata": {
        "colab": {
          "base_uri": "https://localhost:8080/",
          "height": 38
        },
        "id": "3T-BP0DVUyAF",
        "outputId": "a933a78b-a1ec-4f7f-a985-82aed0e075b5"
      },
      "execution_count": null,
      "outputs": [
        {
          "output_type": "execute_result",
          "data": {
            "text/latex": "$\\displaystyle 129.389325799614$",
            "text/plain": [
              "129.389325799614"
            ]
          },
          "metadata": {},
          "execution_count": 30
        }
      ]
    },
    {
      "cell_type": "code",
      "source": [
        "f.subs({x:C}).evalf()"
      ],
      "metadata": {
        "colab": {
          "base_uri": "https://localhost:8080/",
          "height": 38
        },
        "id": "Zcw_5FUAU9_b",
        "outputId": "ad1bcbd4-78fb-40a7-8c65-96d58bb05199"
      },
      "execution_count": null,
      "outputs": [
        {
          "output_type": "execute_result",
          "data": {
            "text/latex": "$\\displaystyle 23.5174198369615$",
            "text/plain": [
              "23.5174198369615"
            ]
          },
          "metadata": {},
          "execution_count": 31
        }
      ]
    },
    {
      "cell_type": "code",
      "source": [
        "f.subs({x:x_min}).evalf()"
      ],
      "metadata": {
        "colab": {
          "base_uri": "https://localhost:8080/",
          "height": 38
        },
        "id": "ajIGpHxyVAPG",
        "outputId": "fe5d5578-9080-47ac-b291-4d542dee0c60"
      },
      "execution_count": null,
      "outputs": [
        {
          "output_type": "execute_result",
          "data": {
            "text/latex": "$\\displaystyle -5250.0$",
            "text/plain": [
              "-5250.00000000000"
            ]
          },
          "metadata": {},
          "execution_count": 33
        }
      ]
    },
    {
      "cell_type": "code",
      "source": [
        "f.subs({x:x_max}).evalf()"
      ],
      "metadata": {
        "colab": {
          "base_uri": "https://localhost:8080/",
          "height": 38
        },
        "id": "_VcPEv-MVFDO",
        "outputId": "cbd8edf3-dbaf-40eb-d36a-5443a09f28d8"
      },
      "execution_count": null,
      "outputs": [
        {
          "output_type": "execute_result",
          "data": {
            "text/latex": "$\\displaystyle 5250.0$",
            "text/plain": [
              "5250.00000000000"
            ]
          },
          "metadata": {},
          "execution_count": 34
        }
      ]
    },
    {
      "cell_type": "code",
      "source": [
        "f.subs({x:B}).evalf()"
      ],
      "metadata": {
        "colab": {
          "base_uri": "https://localhost:8080/",
          "height": 38
        },
        "id": "bbPM7X0CVLFf",
        "outputId": "d50e6ecf-a4ef-447f-f57f-207d8f6376b5"
      },
      "execution_count": null,
      "outputs": [
        {
          "output_type": "execute_result",
          "data": {
            "text/latex": "$\\displaystyle -23.5174198369615$",
            "text/plain": [
              "-23.5174198369615"
            ]
          },
          "metadata": {},
          "execution_count": 35
        }
      ]
    },
    {
      "cell_type": "code",
      "source": [
        "f.subs({x:D}).evalf()"
      ],
      "metadata": {
        "colab": {
          "base_uri": "https://localhost:8080/",
          "height": 38
        },
        "id": "N2RlWc1yVMpa",
        "outputId": "ba3cbc33-a4be-45f4-d0ea-553893e6f7ee"
      },
      "execution_count": null,
      "outputs": [
        {
          "output_type": "execute_result",
          "data": {
            "text/latex": "$\\displaystyle -129.389325799614$",
            "text/plain": [
              "-129.389325799614"
            ]
          },
          "metadata": {},
          "execution_count": 36
        }
      ]
    },
    {
      "cell_type": "code",
      "source": [
        "f.subs({x:x_min}).evalf()"
      ],
      "metadata": {
        "colab": {
          "base_uri": "https://localhost:8080/",
          "height": 38
        },
        "id": "adJ3fLQdVNsd",
        "outputId": "b2368e32-b139-42e7-dac1-d9f66a2e63db"
      },
      "execution_count": null,
      "outputs": [
        {
          "output_type": "execute_result",
          "data": {
            "text/latex": "$\\displaystyle -5250.0$",
            "text/plain": [
              "-5250.00000000000"
            ]
          },
          "metadata": {},
          "execution_count": 37
        }
      ]
    },
    {
      "cell_type": "code",
      "source": [
        "f.subs({x:x_max}).evalf()"
      ],
      "metadata": {
        "colab": {
          "base_uri": "https://localhost:8080/",
          "height": 38
        },
        "id": "tbCtjGfMVP2-",
        "outputId": "f00ddb00-22bc-4664-901b-3b380288cd2f"
      },
      "execution_count": null,
      "outputs": [
        {
          "output_type": "execute_result",
          "data": {
            "text/latex": "$\\displaystyle 5250.0$",
            "text/plain": [
              "5250.00000000000"
            ]
          },
          "metadata": {},
          "execution_count": 38
        }
      ]
    },
    {
      "cell_type": "markdown",
      "source": [
        "**Bài tập 1:**"
      ],
      "metadata": {
        "id": "3wXewipOrbqC"
      }
    },
    {
      "cell_type": "markdown",
      "source": [
        ""
      ],
      "metadata": {
        "id": "kS2jVMhNTsZP"
      }
    },
    {
      "cell_type": "code",
      "source": [
        "#Đồ thị giờ nắng\n",
        "from pylab import plot, show \n",
        "hcm_gio_nang = [180, 165, 243, 220, 206, 196, 192, 268, 176, 181, 244, 200] \n",
        "months = range(1, 13) \n",
        "plot(months, hcm_gio_nang, marker = 'x') \n",
        "show()"
      ],
      "metadata": {
        "id": "6WRQdWqerdXS",
        "outputId": "7fb37bc6-4572-4ac8-b7fb-f0c517d48b88",
        "colab": {
          "base_uri": "https://localhost:8080/",
          "height": 265
        }
      },
      "execution_count": 2,
      "outputs": [
        {
          "output_type": "display_data",
          "data": {
            "text/plain": [
              "<Figure size 432x288 with 1 Axes>"
            ],
            "image/png": "[encoded data removed]"
          },
          "metadata": {
            "needs_background": "light"
          }
        }
      ]
    },
    {
      "cell_type": "code",
      "source": [
        "#đồ thị ngày mưa \n",
        "hcm_rain = [2, 3.2, 20, 53.6, 206.9, 241, 192.3, 269.8, 233.5, 280.3, 185, 34] \n",
        "months = range(1, 13) \n",
        "plot(months, hcm_rain, marker = 'x') \n",
        "show()"
      ],
      "metadata": {
        "id": "KPzqe-QZaotQ",
        "outputId": "4c0b84b7-1bac-43b5-8ef3-0500d3355291",
        "colab": {
          "base_uri": "https://localhost:8080/",
          "height": 265
        }
      },
      "execution_count": 3,
      "outputs": [
        {
          "output_type": "display_data",
          "data": {
            "text/plain": [
              "<Figure size 432x288 with 1 Axes>"
            ],
            "image/png": "[encoded data removed]"
          },
          "metadata": {
            "needs_background": "light"
          }
        }
      ]
    },
    {
      "cell_type": "markdown",
      "source": [
        "**Bài tập 2 - chương 2**"
      ],
      "metadata": {
        "id": "BQoXLEfw9Gk_"
      }
    },
    {
      "cell_type": "code",
      "source": [
        "# hàm số thứ 1\n",
        "from sympy import Symbol, Derivative \n",
        "x = Symbol('x') \n",
        "sx = 5*x**3 + 10*x + 8 \n",
        "Derivative(sx, x).doit()"
      ],
      "metadata": {
        "id": "rNTYMun99IyI",
        "outputId": "78ab6fe0-fc01-4083-aba5-51c14787fdac",
        "colab": {
          "base_uri": "https://localhost:8080/",
          "height": 39
        }
      },
      "execution_count": null,
      "outputs": [
        {
          "output_type": "execute_result",
          "data": {
            "text/latex": "$\\displaystyle 15 x^{2} + 10$",
            "text/plain": [
              "15*x**2 + 10"
            ]
          },
          "metadata": {},
          "execution_count": 24
        }
      ]
    },
    {
      "cell_type": "code",
      "source": [
        "#hàm số thứ 2\n",
        "import sympy\n",
        "f = sympy.sin(6*x**2) \n",
        "Derivative(f, x).doit()"
      ],
      "metadata": {
        "id": "-GBSDmo3-YzE",
        "outputId": "5b8b2fb6-7eeb-4a4d-8152-bc19c805c94a",
        "colab": {
          "base_uri": "https://localhost:8080/",
          "height": 39
        }
      },
      "execution_count": null,
      "outputs": [
        {
          "output_type": "execute_result",
          "data": {
            "text/latex": "$\\displaystyle 12 x \\cos{\\left(6 x^{2} \\right)}$",
            "text/plain": [
              "12*x*cos(6*x**2)"
            ]
          },
          "metadata": {},
          "execution_count": 6
        }
      ]
    },
    {
      "cell_type": "code",
      "source": [
        "#hàm số thứ 3\n",
        "x = Symbol('x') \n",
        "sx = (2*x + 1/ x - 1)**3\n",
        "Derivative(sx, x).doit()"
      ],
      "metadata": {
        "id": "QySeUZsyASvQ",
        "outputId": "963b9084-ebd1-47b8-fe40-60969bfcdbdb",
        "colab": {
          "base_uri": "https://localhost:8080/",
          "height": 61
        }
      },
      "execution_count": null,
      "outputs": [
        {
          "output_type": "execute_result",
          "data": {
            "text/latex": "$\\displaystyle \\left(6 - \\frac{3}{x^{2}}\\right) \\left(2 x - 1 + \\frac{1}{x}\\right)^{2}$",
            "text/plain": [
              "(6 - 3/x**2)*(2*x - 1 + 1/x)**2"
            ]
          },
          "metadata": {},
          "execution_count": 25
        }
      ]
    },
    {
      "cell_type": "code",
      "source": [
        "#hàm số thứ 4\n",
        "import sympy\n",
        "f = sympy.sin(2*x) - sympy.cos(3*x)**2\n",
        "Derivative (f,x).doit()"
      ],
      "metadata": {
        "id": "4FAB8ITnBI0B",
        "outputId": "a9f9ccfa-fa1e-4abb-b46b-76d8a5e52453",
        "colab": {
          "base_uri": "https://localhost:8080/",
          "height": 39
        }
      },
      "execution_count": null,
      "outputs": [
        {
          "output_type": "execute_result",
          "data": {
            "text/latex": "$\\displaystyle 6 \\sin{\\left(3 x \\right)} \\cos{\\left(3 x \\right)} + 2 \\cos{\\left(2 x \\right)}$",
            "text/plain": [
              "6*sin(3*x)*cos(3*x) + 2*cos(2*x)"
            ]
          },
          "metadata": {},
          "execution_count": 17
        }
      ]
    },
    {
      "cell_type": "code",
      "source": [
        "#hàm số thứ 5\n",
        "import sympy\n",
        "f = sympy.cos(4*x) - 3*sympy.sin(4*x)\n",
        "Derivative (f,x).doit()"
      ],
      "metadata": {
        "id": "H3wmYrE7CChI",
        "outputId": "8319aed3-99d1-49fb-dd5a-f367ee748c3a",
        "colab": {
          "base_uri": "https://localhost:8080/",
          "height": 39
        }
      },
      "execution_count": null,
      "outputs": [
        {
          "output_type": "execute_result",
          "data": {
            "text/latex": "$\\displaystyle - 4 \\sin{\\left(4 x \\right)} - 12 \\cos{\\left(4 x \\right)}$",
            "text/plain": [
              "-4*sin(4*x) - 12*cos(4*x)"
            ]
          },
          "metadata": {},
          "execution_count": 18
        }
      ]
    },
    {
      "cell_type": "code",
      "source": [
        "#hàm số thứ 6\n",
        "import sympy\n",
        "f = x**2 * sympy.cos(x)\n",
        "Derivative (f,x).doit()"
      ],
      "metadata": {
        "id": "p6kbI0ljCqWo",
        "outputId": "b801a0ef-d1a1-414a-b19e-4af0fc010a56",
        "colab": {
          "base_uri": "https://localhost:8080/",
          "height": 39
        }
      },
      "execution_count": null,
      "outputs": [
        {
          "output_type": "execute_result",
          "data": {
            "text/latex": "$\\displaystyle - x^{2} \\sin{\\left(x \\right)} + 2 x \\cos{\\left(x \\right)}$",
            "text/plain": [
              "-x**2*sin(x) + 2*x*cos(x)"
            ]
          },
          "metadata": {},
          "execution_count": 19
        }
      ]
    },
    {
      "cell_type": "code",
      "source": [
        "#hàm số thứ 7\n",
        "x = Symbol('x')\n",
        "fx = (3*x**2 / x +2)\n",
        "Derivative(fx,x).doit()"
      ],
      "metadata": {
        "id": "lj8bIpGlDObY",
        "outputId": "7914c48d-3d50-4cc2-cd85-3279009bf0e4",
        "colab": {
          "base_uri": "https://localhost:8080/",
          "height": 38
        }
      },
      "execution_count": null,
      "outputs": [
        {
          "output_type": "execute_result",
          "data": {
            "text/latex": "$\\displaystyle 3$",
            "text/plain": [
              "3"
            ]
          },
          "metadata": {},
          "execution_count": 27
        }
      ]
    },
    {
      "cell_type": "code",
      "source": [
        "#Hàm số thứ 8\n",
        "from sympy import sqrt\n",
        "x = Symbol('x')\n",
        "fx = (1 + (sqrt(1 -2*x)))**3\n",
        "Derivative (fx,x).doit()"
      ],
      "metadata": {
        "id": "9PD_4J57Fnm3",
        "outputId": "8840442d-71b4-41dc-829b-0345d51eed1b",
        "colab": {
          "base_uri": "https://localhost:8080/",
          "height": 63
        }
      },
      "execution_count": null,
      "outputs": [
        {
          "output_type": "execute_result",
          "data": {
            "text/latex": "$\\displaystyle - \\frac{3 \\left(\\sqrt{1 - 2 x} + 1\\right)^{2}}{\\sqrt{1 - 2 x}}$",
            "text/plain": [
              "-3*(sqrt(1 - 2*x) + 1)**2/sqrt(1 - 2*x)"
            ]
          },
          "metadata": {},
          "execution_count": 33
        }
      ]
    },
    {
      "cell_type": "code",
      "source": [
        "#Hàm số thứ 9\n",
        "x = Symbol('x')\n",
        "fx = (4*x+1) / sqrt(x**2 + 2)\n",
        "Derivative (fx,x).doit()"
      ],
      "metadata": {
        "id": "VD5qfuF_GaBm",
        "outputId": "fb7673d1-c113-421d-f84c-c4fdc4ae434b",
        "colab": {
          "base_uri": "https://localhost:8080/",
          "height": 62
        }
      },
      "execution_count": null,
      "outputs": [
        {
          "output_type": "execute_result",
          "data": {
            "text/latex": "$\\displaystyle - \\frac{x \\left(4 x + 1\\right)}{\\left(x^{2} + 2\\right)^{\\frac{3}{2}}} + \\frac{4}{\\sqrt{x^{2} + 2}}$",
            "text/plain": [
              "-x*(4*x + 1)/(x**2 + 2)**(3/2) + 4/sqrt(x**2 + 2)"
            ]
          },
          "metadata": {},
          "execution_count": 38
        }
      ]
    },
    {
      "cell_type": "code",
      "source": [
        "#hàm số thứ 10\n",
        "import sympy\n",
        "f = sqrt(1 + 2*sympy.tan(x))\n",
        "Derivative(f,x).doit()"
      ],
      "metadata": {
        "id": "HLwKN0tUHIE4",
        "outputId": "f1b5b23e-72a5-4976-ef7e-8d900e26a9dc",
        "colab": {
          "base_uri": "https://localhost:8080/",
          "height": 62
        }
      },
      "execution_count": null,
      "outputs": [
        {
          "output_type": "execute_result",
          "data": {
            "text/latex": "$\\displaystyle \\frac{\\tan^{2}{\\left(x \\right)} + 1}{\\sqrt{2 \\tan{\\left(x \\right)} + 1}}$",
            "text/plain": [
              "(tan(x)**2 + 1)/sqrt(2*tan(x) + 1)"
            ]
          },
          "metadata": {},
          "execution_count": 41
        }
      ]
    }
  ]
}