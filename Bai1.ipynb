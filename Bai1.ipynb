{
  "nbformat": 4,
  "nbformat_minor": 0,
  "metadata": {
    "colab": {
      "name": "Bai1.ipynb",
      "provenance": [],
      "authorship_tag": "ABX9TyNno3d9lqFXTGQneHSCfIIm",
      "include_colab_link": true
    },
    "kernelspec": {
      "name": "python3",
      "display_name": "Python 3"
    },
    "language_info": {
      "name": "python"
    }
  },
  "cells": [
    {
      "cell_type": "markdown",
      "metadata": {
        "id": "view-in-github",
        "colab_type": "text"
      },
      "source": [
        "<a href=\"https://colab.research.google.com/github/tranthehien091003/ThuchanhToanCC/blob/main/Bai1.ipynb\" target=\"_parent\"><img src=\"https://colab.research.google.com/assets/colab-badge.svg\" alt=\"Open In Colab\"/></a>"
      ]
    },
    {
      "cell_type": "markdown",
      "source": [
        "Thực hành bài 1"
      ],
      "metadata": {
        "id": "uM42ES-LHH4y"
      }
    },
    {
      "cell_type": "code",
      "source": [
        "n = 10000000\n",
        "\n",
        "X = [(2-0)*k/n for k in range(0, n+1)]"
      ],
      "metadata": {
        "id": "FRARHt-hHK3_"
      },
      "execution_count": 1,
      "outputs": []
    },
    {
      "cell_type": "code",
      "source": [
        "S = 0\n",
        "\n",
        "for k in range(1, n + 1):\n",
        "\n",
        "  S = S + X[k]**2 * (X[k] - X[k-1])\n",
        "\n",
        "print (S)"
      ],
      "metadata": {
        "colab": {
          "base_uri": "https://localhost:8080/"
        },
        "id": "1mddmUcZHh5B",
        "outputId": "721b9b83-73e0-4c52-f547-fcfc740e1d3f"
      },
      "execution_count": 7,
      "outputs": [
        {
          "output_type": "stream",
          "name": "stdout",
          "text": [
            "2.666667066666659\n"
          ]
        }
      ]
    }
  ]
}