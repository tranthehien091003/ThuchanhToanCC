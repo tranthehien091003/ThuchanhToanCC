{
  "nbformat": 4,
  "nbformat_minor": 0,
  "metadata": {
    "colab": {
      "name": "Bai1.ipynb",
      "provenance": [],
      "authorship_tag": "ABX9TyON2BeOWBF/gYjwriwWF3Y+",
      "include_colab_link": true
    },
    "kernelspec": {
      "name": "python3",
      "display_name": "Python 3"
    },
    "language_info": {
      "name": "python"
    }
  },
  "cells": [
    {
      "cell_type": "markdown",
      "metadata": {
        "id": "view-in-github",
        "colab_type": "text"
      },
      "source": [
        "<a href=\"https://colab.research.google.com/github/tranthehien091003/ThuchanhToanCC/blob/main/Bai1.ipynb\" target=\"_parent\"><img src=\"https://colab.research.google.com/assets/colab-badge.svg\" alt=\"Open In Colab\"/></a>"
      ]
    },
    {
      "cell_type": "markdown",
      "source": [
        "Thực hành bài 1"
      ],
      "metadata": {
        "id": "uM42ES-LHH4y"
      }
    },
    {
      "cell_type": "code",
      "source": [
        "n = 100000000\n",
        "\n",
        "X = [(2-0)*k/n for k in range(0, n+1)]"
      ],
      "metadata": {
        "id": "FRARHt-hHK3_"
      },
      "execution_count": 3,
      "outputs": []
    },
    {
      "cell_type": "code",
      "source": [
        "S = 0\n",
        "\n",
        "for k in range(1, n + 1):\n",
        "\n",
        "  S = S + X[k]**2 * (X[k] - X[k-1])\n",
        "\n",
        "print (S)"
      ],
      "metadata": {
        "colab": {
          "base_uri": "https://localhost:8080/"
        },
        "id": "1mddmUcZHh5B",
        "outputId": "78307088-1c85-4cef-ae78-f18987e5dd03"
      },
      "execution_count": 4,
      "outputs": [
        {
          "output_type": "stream",
          "name": "stdout",
          "text": [
            "2.6666667066667187\n"
          ]
        }
      ]
    },
    {
      "cell_type": "code",
      "source": [
        "from sympy.solvers.solvers import denoms\n",
        "from sympy import *\n",
        "x = Symbol('x')\n",
        "eq = (1/x) * 1/(x-3)\n",
        "dd = denoms(eq)\n",
        "print(dd)"
      ],
      "metadata": {
        "id": "WeoXzrE0No1s",
        "outputId": "0a4c49c4-9cc1-484e-af02-b4e7b99489cc",
        "colab": {
          "base_uri": "https://localhost:8080/"
        }
      },
      "execution_count": 5,
      "outputs": [
        {
          "output_type": "stream",
          "name": "stdout",
          "text": [
            "{x - 3, x}\n"
          ]
        }
      ]
    },
    {
      "cell_type": "code",
      "source": [
        "# thuchanh_5b\n",
        "pt = (1 +1/x) / (x-1)\n",
        "from sympy.solvers.solvers import denoms\n",
        "loai_tru = set()\n",
        "for i in denoms(pt):\n",
        "  for s in solve(i):\n",
        "    loai_tru.add(s)\n",
        "print(loai_tru)"
      ],
      "metadata": {
        "id": "TFfZoVpmPi-t",
        "outputId": "f3e120f0-3d88-4302-dcf9-f67c8f2a7c58",
        "colab": {
          "base_uri": "https://localhost:8080/"
        }
      },
      "execution_count": 6,
      "outputs": [
        {
          "output_type": "stream",
          "name": "stdout",
          "text": [
            "{0, 1}\n"
          ]
        }
      ]
    },
    {
      "cell_type": "code",
      "source": [
        "# thuchanh_6\n",
        "from sympy import Symbol\n",
        "x = Symbol('x', positive = True)\n",
        "if(x+3) > 0:\n",
        "  print('Chắc chắn x + 3 dương')\n",
        "else:\n",
        "  print('x + 3 chưa chắc là số dương')"
      ],
      "metadata": {
        "colab": {
          "base_uri": "https://localhost:8080/"
        },
        "id": "IrV-wm_GE_-h",
        "outputId": "737dcca6-515c-431e-a348-2b6bb14c5500"
      },
      "execution_count": 7,
      "outputs": [
        {
          "output_type": "stream",
          "name": "stdout",
          "text": [
            "Chắc chắn x + 3 dương\n"
          ]
        }
      ]
    },
    {
      "cell_type": "code",
      "source": [
        "# thuchanh_7\n",
        "import math\n",
        "math.sin(math.pi/2)\n",
        "\n"
      ],
      "metadata": {
        "colab": {
          "base_uri": "https://localhost:8080/"
        },
        "id": "6t7DVlJLGSFG",
        "outputId": "51db40fd-778c-4f62-dc9d-a088bff6b2c1"
      },
      "execution_count": 8,
      "outputs": [
        {
          "output_type": "execute_result",
          "data": {
            "text/plain": [
              "1.0"
            ]
          },
          "metadata": {},
          "execution_count": 8
        }
      ]
    },
    {
      "cell_type": "code",
      "source": [
        "# thuchanh_8\n",
        "from sympy import sin, solve, Symbol\n",
        "u = Symbol('u')\n",
        "t = Symbol('t')\n",
        "g = Symbol('g')\n",
        "theta = Symbol('theta')\n",
        "solve(u*sin(theta)- g*t, t)\n"
      ],
      "metadata": {
        "colab": {
          "base_uri": "https://localhost:8080/"
        },
        "id": "BishkPXQHmCA",
        "outputId": "7fb4abeb-9c04-4515-939b-62054c877ed1"
      },
      "execution_count": 9,
      "outputs": [
        {
          "output_type": "execute_result",
          "data": {
            "text/plain": [
              "[u*sin(theta)/g]"
            ]
          },
          "metadata": {},
          "execution_count": 9
        }
      ]
    },
    {
      "cell_type": "code",
      "source": [
        "# thuchanh_9\n",
        "from sympy import Symbol, Limit, S\n",
        "x = Symbol('x')\n",
        "Limit(1/x, x, S.Infinity)"
      ],
      "metadata": {
        "colab": {
          "base_uri": "https://localhost:8080/",
          "height": 51
        },
        "id": "RP21wpCeITlP",
        "outputId": "50f6c6dd-a99b-47c9-a683-3cac349487a9"
      },
      "execution_count": 10,
      "outputs": [
        {
          "output_type": "execute_result",
          "data": {
            "text/latex": "$\\displaystyle \\lim_{x \\to \\infty} \\frac{1}{x}$",
            "text/plain": [
              "Limit(1/x, x, oo, dir='-')"
            ]
          },
          "metadata": {},
          "execution_count": 10
        }
      ]
    },
    {
      "cell_type": "code",
      "source": [
        "gioihan = Limit(1/x, x, S.Infinity)\n",
        "gioihan.doit()"
      ],
      "metadata": {
        "colab": {
          "base_uri": "https://localhost:8080/",
          "height": 38
        },
        "id": "fZ_nU0XcKFUd",
        "outputId": "021e8484-236d-4b8b-c92d-fc96e05ef035"
      },
      "execution_count": 11,
      "outputs": [
        {
          "output_type": "execute_result",
          "data": {
            "text/latex": "$\\displaystyle 0$",
            "text/plain": [
              "0"
            ]
          },
          "metadata": {},
          "execution_count": 11
        }
      ]
    },
    {
      "cell_type": "code",
      "source": [
        "# thuchanh_10a\n",
        "from sympy import Limit\n",
        "Limit(1/x, x, 0, dir = '-').doit() "
      ],
      "metadata": {
        "colab": {
          "base_uri": "https://localhost:8080/",
          "height": 38
        },
        "id": "Ehu5bC_gKYDo",
        "outputId": "50ed1a36-70a4-4bf9-e71d-5f91cf47bf69"
      },
      "execution_count": 12,
      "outputs": [
        {
          "output_type": "execute_result",
          "data": {
            "text/latex": "$\\displaystyle -\\infty$",
            "text/plain": [
              "-oo"
            ]
          },
          "metadata": {},
          "execution_count": 12
        }
      ]
    },
    {
      "cell_type": "code",
      "source": [
        "Limit(1/x, x, 0, dir = '+').doit() "
      ],
      "metadata": {
        "colab": {
          "base_uri": "https://localhost:8080/",
          "height": 38
        },
        "id": "k3-FFrYRLext",
        "outputId": "ecad5f72-fed4-4a76-f22c-ed862959fd3e"
      },
      "execution_count": 13,
      "outputs": [
        {
          "output_type": "execute_result",
          "data": {
            "text/latex": "$\\displaystyle \\infty$",
            "text/plain": [
              "oo"
            ]
          },
          "metadata": {},
          "execution_count": 13
        }
      ]
    },
    {
      "cell_type": "code",
      "source": [
        "# thuchanh_10b\n",
        "from sympy import sin, Symbol\n",
        "Limit(sin(x)/x, x, 0).doit()"
      ],
      "metadata": {
        "colab": {
          "base_uri": "https://localhost:8080/",
          "height": 38
        },
        "id": "h_GLtjtQLoJG",
        "outputId": "f26a7d2b-0358-4e8c-a6f3-6740efbf38f0"
      },
      "execution_count": 14,
      "outputs": [
        {
          "output_type": "execute_result",
          "data": {
            "text/latex": "$\\displaystyle 1$",
            "text/plain": [
              "1"
            ]
          },
          "metadata": {},
          "execution_count": 14
        }
      ]
    },
    {
      "cell_type": "code",
      "source": [
        "# thuchanh_11\n",
        "from sympy import sin, Symbol\n",
        "Limit(x*sin(1/x), x, S.Infinity)"
      ],
      "metadata": {
        "id": "P-sDLi_hMdX9",
        "outputId": "96704d89-4e4e-423d-a5f8-c491e10ea3e1",
        "colab": {
          "base_uri": "https://localhost:8080/",
          "height": 58
        }
      },
      "execution_count": 15,
      "outputs": [
        {
          "output_type": "execute_result",
          "data": {
            "text/latex": "$\\displaystyle \\lim_{x \\to \\infty}\\left(x \\sin{\\left(\\frac{1}{x} \\right)}\\right)$",
            "text/plain": [
              "Limit(x*sin(1/x), x, oo, dir='-')"
            ]
          },
          "metadata": {},
          "execution_count": 15
        }
      ]
    },
    {
      "cell_type": "code",
      "source": [
        "# thuchanh_12\n",
        "from sympy import Symbol, Limit, S\n",
        "p = Symbol('p', positive = True)\n",
        "r = Symbol('r', positive = True)\n",
        "t = Symbol('t', positive = True)\n",
        "n = Symbol('n')\n",
        "Limit(p*(1+r/n) **(n*t) , n , S.Infinity).doit()"
      ],
      "metadata": {
        "id": "ESwDlDEkM-zC",
        "outputId": "d5658091-c8d9-4941-c9f3-63117a88ed54",
        "colab": {
          "base_uri": "https://localhost:8080/",
          "height": 39
        }
      },
      "execution_count": 16,
      "outputs": [
        {
          "output_type": "execute_result",
          "data": {
            "text/latex": "$\\displaystyle p e^{r t}$",
            "text/plain": [
              "p*exp(r*t)"
            ]
          },
          "metadata": {},
          "execution_count": 16
        }
      ]
    },
    {
      "cell_type": "code",
      "source": [
        "#thuchanh_13\n",
        "from sympy import Symbol, Limit\n",
        "t = Symbol('t')\n",
        "St = 5*t**2 + 2*t + 8\n",
        "\n",
        "t1 = Symbol('t1')\n",
        "delta_t = Symbol ('delta_t')\n",
        "\n",
        "St1 = St.subs({t: t1})\n",
        "St1_delta = St.subs ({t : t1 + delta_t})\n",
        "Limit ((St1_delta - St1) / delta_t, delta_t, 0).doit()"
      ],
      "metadata": {
        "id": "7Cn7w45QTIpc",
        "outputId": "14827422-cbc9-4017-bfd0-36b4596235a6",
        "colab": {
          "base_uri": "https://localhost:8080/",
          "height": 39
        }
      },
      "execution_count": 17,
      "outputs": [
        {
          "output_type": "execute_result",
          "data": {
            "text/latex": "$\\displaystyle 10 t_{1} + 2$",
            "text/plain": [
              "10*t1 + 2"
            ]
          },
          "metadata": {},
          "execution_count": 17
        }
      ]
    },
    {
      "cell_type": "code",
      "source": [
        "# bài tập 1 - chương 1 \n",
        "a = 3.1; b = 3.0; i = -1\n",
        "while (a != b):\n",
        "  print (a, \"!=\", b)\n",
        "  a_new = a - 0.9 *10 ** (i)\n",
        "  if (a_new != a):\n",
        "    a = a_new\n",
        "    i = i - 1\n",
        "  else:\n",
        "    print (i)\n",
        "    a = b"
      ],
      "metadata": {
        "id": "arMWF2F6Uh5X",
        "outputId": "7cbdde31-5758-4292-b8d4-e86bb4ba19c1",
        "colab": {
          "base_uri": "https://localhost:8080/"
        }
      },
      "execution_count": 18,
      "outputs": [
        {
          "output_type": "stream",
          "name": "stdout",
          "text": [
            "3.1 != 3.0\n",
            "3.0100000000000002 != 3.0\n",
            "3.0010000000000003 != 3.0\n",
            "3.0001 != 3.0\n",
            "3.00001 != 3.0\n",
            "3.000001 != 3.0\n",
            "3.0000001000000003 != 3.0\n",
            "3.0000000100000004 != 3.0\n",
            "3.0000000010000005 != 3.0\n",
            "3.0000000001000005 != 3.0\n",
            "3.0000000000100004 != 3.0\n",
            "3.0000000000010005 != 3.0\n",
            "3.0000000000001004 != 3.0\n",
            "3.00000000000001 != 3.0\n",
            "3.0000000000000013 != 3.0\n",
            "3.0000000000000004 != 3.0\n",
            "-16\n"
          ]
        }
      ]
    },
    {
      "cell_type": "code",
      "source": [
        "from sympy import Symbol, sin, Limit\n",
        "x = Symbol('x')\n",
        "Limit(sin(x)/x, x, 0).doit()"
      ],
      "metadata": {
        "colab": {
          "base_uri": "https://localhost:8080/",
          "height": 38
        },
        "id": "qxEUbrno9Vnn",
        "outputId": "28fc97a8-8115-40f9-f074-bdee4ed808af"
      },
      "execution_count": 19,
      "outputs": [
        {
          "output_type": "execute_result",
          "data": {
            "text/latex": "$\\displaystyle 1$",
            "text/plain": [
              "1"
            ]
          },
          "metadata": {},
          "execution_count": 19
        }
      ]
    },
    {
      "cell_type": "markdown",
      "source": [
        "**Chương 2: Đạo hàm**"
      ],
      "metadata": {
        "id": "k2BRkhrOOzjX"
      }
    },
    {
      "cell_type": "markdown",
      "source": [
        "Thực hành 1: Sử dụng hàm eval"
      ],
      "metadata": {
        "id": "rhcj1B1pO3mK"
      }
    },
    {
      "cell_type": "code",
      "source": [
        "chuoitinhtoan = \"a*b+c\" \n",
        "a = 2 \n",
        "b = 5 \n",
        "c = 8 \n",
        "eval(chuoitinhtoan)"
      ],
      "metadata": {
        "colab": {
          "base_uri": "https://localhost:8080/"
        },
        "id": "HSQhw-CAOvLd",
        "outputId": "678e3ac8-f7ce-4b6a-b67d-ffd3fd723058"
      },
      "execution_count": 20,
      "outputs": [
        {
          "output_type": "execute_result",
          "data": {
            "text/plain": [
              "18"
            ]
          },
          "metadata": {},
          "execution_count": 20
        }
      ]
    },
    {
      "cell_type": "markdown",
      "source": [
        "Thực hành 2:Cơ bản về sử dụng hàm subs "
      ],
      "metadata": {
        "id": "BvcpC0LUPEt1"
      }
    },
    {
      "cell_type": "code",
      "source": [
        "import sympy\n",
        "from sympy import Symbol\n",
        "x = Symbol('x') \n",
        "y = Symbol('y') \n",
        "bieuthuc = x+y \n",
        "thaytheso = bieuthuc.subs({x:10, y:5}) \n",
        "thaytheso"
      ],
      "metadata": {
        "colab": {
          "base_uri": "https://localhost:8080/",
          "height": 38
        },
        "id": "XlreaKsQPIEg",
        "outputId": "6cdce4a9-d9cf-4cb3-dfd1-2963285f65b2"
      },
      "execution_count": 21,
      "outputs": [
        {
          "output_type": "execute_result",
          "data": {
            "text/latex": "$\\displaystyle 15$",
            "text/plain": [
              "15"
            ]
          },
          "metadata": {},
          "execution_count": 21
        }
      ]
    },
    {
      "cell_type": "markdown",
      "source": [
        "Thực hành 3: Tạo danh sách "
      ],
      "metadata": {
        "id": "uakICU_BPUS1"
      }
    },
    {
      "cell_type": "code",
      "source": [
        "danhsach_so = [10, 15, 20] \n",
        "danhsach_so[0] "
      ],
      "metadata": {
        "colab": {
          "base_uri": "https://localhost:8080/"
        },
        "id": "Xk-tPbB3Pbt0",
        "outputId": "9a0f251f-93e1-4a1d-adc2-ba7dbe98e16a"
      },
      "execution_count": 22,
      "outputs": [
        {
          "output_type": "execute_result",
          "data": {
            "text/plain": [
              "10"
            ]
          },
          "metadata": {},
          "execution_count": 22
        }
      ]
    },
    {
      "cell_type": "markdown",
      "source": [
        "Thực hành 4: Duyệt danh sách"
      ],
      "metadata": {
        "id": "Qu776OoyPqpI"
      }
    },
    {
      "cell_type": "code",
      "source": [
        "ds = [1, 2, 3] \n",
        "for so in ds: \n",
        "  print(so)"
      ],
      "metadata": {
        "colab": {
          "base_uri": "https://localhost:8080/"
        },
        "id": "2MqYK2FcPtD2",
        "outputId": "0d403113-fdce-4033-ce25-4e278e313d57"
      },
      "execution_count": 23,
      "outputs": [
        {
          "output_type": "stream",
          "name": "stdout",
          "text": [
            "1\n",
            "2\n",
            "3\n"
          ]
        }
      ]
    },
    {
      "cell_type": "markdown",
      "source": [
        "Thực hành 5: Vẽ đồ thị đầu tiên từ 2 danh sách sốsố"
      ],
      "metadata": {
        "id": "yiwZ4eZpP5l6"
      }
    },
    {
      "cell_type": "code",
      "source": [
        "x_numbers = [3, 7, 4] \n",
        "y_numbers = [5, 3, 2] \n",
        "\n",
        "from pylab import plot, show \n",
        "plot(x_numbers, y_numbers) \n",
        "show() "
      ],
      "metadata": {
        "colab": {
          "base_uri": "https://localhost:8080/",
          "height": 265
        },
        "id": "ZxKgSfJcP9ew",
        "outputId": "0559ed57-b8b3-4b46-fd95-ce7cd16097bc"
      },
      "execution_count": 24,
      "outputs": [
        {
          "output_type": "display_data",
          "data": {
            "image/png": "[encoded data removed]",
            "text/plain": [
              "<Figure size 432x288 with 1 Axes>"
            ]
          },
          "metadata": {
            "needs_background": "light"
          }
        }
      ]
    },
    {
      "cell_type": "markdown",
      "source": [
        "Thực hành 6: Vẽ đồ thị có marker"
      ],
      "metadata": {
        "id": "PRijz1siQRAm"
      }
    },
    {
      "cell_type": "code",
      "source": [
        "plot(x_numbers, y_numbers, marker = 'x')\n",
        "show()"
      ],
      "metadata": {
        "colab": {
          "base_uri": "https://localhost:8080/",
          "height": 265
        },
        "id": "qicE2-ZOQVck",
        "outputId": "cdb12438-ab92-460a-c5e8-2520bca5b533"
      },
      "execution_count": 25,
      "outputs": [
        {
          "output_type": "display_data",
          "data": {
            "image/png": "[encoded data removed]",
            "text/plain": [
              "<Figure size 432x288 with 1 Axes>"
            ]
          },
          "metadata": {
            "needs_background": "light"
          }
        }
      ]
    },
    {
      "cell_type": "markdown",
      "source": [
        "Thực hành 7: Vẽ đồ thị lượng mưa trung bình tại TP.HCM theo tháng"
      ],
      "metadata": {
        "id": "Q_idINLEQgkv"
      }
    },
    {
      "cell_type": "code",
      "source": [
        "hcm_rain = [14.2, 3.2, 13.1, 53.6, 206.9, 333.6, 192.3, 269.8, 365.55, 280.3, 300, 48.3] \n",
        "months = range(1, 13) \n",
        "plot(months, hcm_rain, marker = 'x') \n",
        "show()"
      ],
      "metadata": {
        "colab": {
          "base_uri": "https://localhost:8080/",
          "height": 265
        },
        "id": "zIPE1Xv-Ql6-",
        "outputId": "f9f8d9a6-e9ce-4f54-edfc-a2d2842e97a2"
      },
      "execution_count": 26,
      "outputs": [
        {
          "output_type": "display_data",
          "data": {
            "image/png": "[encoded data removed]",
            "text/plain": [
              "<Figure size 432x288 with 1 Axes>"
            ]
          },
          "metadata": {
            "needs_background": "light"
          }
        }
      ]
    },
    {
      "cell_type": "markdown",
      "source": [
        "Thực hành 8: Tính đạo hàm với DerivativeDerivative"
      ],
      "metadata": {
        "id": "2KRJnfRHRNlR"
      }
    },
    {
      "cell_type": "code",
      "source": [
        "from sympy import Symbol, Derivative \n",
        "x = Symbol('x') \n",
        "sx = 4*x**2 + 3*x + 8 \n",
        "Derivative(sx, x)"
      ],
      "metadata": {
        "colab": {
          "base_uri": "https://localhost:8080/",
          "height": 52
        },
        "id": "1tHiPRhwRRYE",
        "outputId": "9b97f107-d205-4df0-8fd5-445fa9ce4606"
      },
      "execution_count": 27,
      "outputs": [
        {
          "output_type": "execute_result",
          "data": {
            "text/latex": "$\\displaystyle \\frac{d}{d x} \\left(4 x^{2} + 3 x + 8\\right)$",
            "text/plain": [
              "Derivative(4*x**2 + 3*x + 8, x)"
            ]
          },
          "metadata": {},
          "execution_count": 27
        }
      ]
    },
    {
      "cell_type": "code",
      "source": [
        "d = Derivative(sx, x) \n",
        "d.doit() "
      ],
      "metadata": {
        "colab": {
          "base_uri": "https://localhost:8080/",
          "height": 39
        },
        "id": "pgE9w_XbRpTW",
        "outputId": "597d386a-0b3b-48ca-e9d8-40729603402d"
      },
      "execution_count": 28,
      "outputs": [
        {
          "output_type": "execute_result",
          "data": {
            "text/latex": "$\\displaystyle 8 x + 3$",
            "text/plain": [
              "8*x + 3"
            ]
          },
          "metadata": {},
          "execution_count": 28
        }
      ]
    },
    {
      "cell_type": "markdown",
      "source": [
        "Thực hàn 9: Tính đạo hàm hàm hợp"
      ],
      "metadata": {
        "id": "5E1ezq2FRvuu"
      }
    },
    {
      "cell_type": "code",
      "source": [
        "from sympy import Derivative, Symbol \n",
        "x = Symbol('x') \n",
        "f = (2*x**3+x**2+3*x)*(4*x**2+2*x) \n",
        "Derivative(f, x).doit()"
      ],
      "metadata": {
        "colab": {
          "base_uri": "https://localhost:8080/",
          "height": 39
        },
        "id": "hqqvZH6HRysq",
        "outputId": "ec60eba7-03e7-4418-e431-2b7ae5470f57"
      },
      "execution_count": 29,
      "outputs": [
        {
          "output_type": "execute_result",
          "data": {
            "text/latex": "$\\displaystyle \\left(8 x + 2\\right) \\left(2 x^{3} + x^{2} + 3 x\\right) + \\left(4 x^{2} + 2 x\\right) \\left(6 x^{2} + 2 x + 3\\right)$",
            "text/plain": [
              "(8*x + 2)*(2*x**3 + x**2 + 3*x) + (4*x**2 + 2*x)*(6*x**2 + 2*x + 3)"
            ]
          },
          "metadata": {},
          "execution_count": 29
        }
      ]
    },
    {
      "cell_type": "markdown",
      "source": [
        "Thực hành 10: Tính đạo hàm với các hàm lượng giácgiác"
      ],
      "metadata": {
        "id": "ZFEmwLVXSECd"
      }
    },
    {
      "cell_type": "code",
      "source": [
        "import sympy\n",
        "f = sympy.sin(4*x) \n",
        "Derivative(f, x).doit()"
      ],
      "metadata": {
        "colab": {
          "base_uri": "https://localhost:8080/",
          "height": 39
        },
        "id": "sgVSmAuxSIMl",
        "outputId": "fd9d38db-21c4-4b57-ea5e-4a011703610e"
      },
      "execution_count": 30,
      "outputs": [
        {
          "output_type": "execute_result",
          "data": {
            "text/latex": "$\\displaystyle 4 \\cos{\\left(4 x \\right)}$",
            "text/plain": [
              "4*cos(4*x)"
            ]
          },
          "metadata": {},
          "execution_count": 30
        }
      ]
    },
    {
      "cell_type": "code",
      "source": [
        "f = sympy.sin(x)*sympy.cos(x) \n",
        "Derivative(f, x).doit() "
      ],
      "metadata": {
        "colab": {
          "base_uri": "https://localhost:8080/",
          "height": 39
        },
        "id": "miOUrUXPSrlv",
        "outputId": "1f745802-1c48-489c-9e5f-1d1089ccb195"
      },
      "execution_count": 31,
      "outputs": [
        {
          "output_type": "execute_result",
          "data": {
            "text/latex": "$\\displaystyle - \\sin^{2}{\\left(x \\right)} + \\cos^{2}{\\left(x \\right)}$",
            "text/plain": [
              "-sin(x)**2 + cos(x)**2"
            ]
          },
          "metadata": {},
          "execution_count": 31
        }
      ]
    },
    {
      "cell_type": "markdown",
      "source": [
        "Thực hành 11: Tìm cực đại, cực tiểu của hàm số"
      ],
      "metadata": {
        "id": "q7SopQh2S3BS"
      }
    },
    {
      "cell_type": "code",
      "source": [
        "from sympy import Symbol, solve, Derivative \n",
        "x = Symbol('x') \n",
        "f = 3*x**5-35*x**3+50*x \n",
        "d1 = Derivative(f, x).doit() "
      ],
      "metadata": {
        "id": "KPbKk8RSS8Qp"
      },
      "execution_count": 32,
      "outputs": []
    },
    {
      "cell_type": "code",
      "source": [
        "d1 = Derivative(f, x).doit() \n",
        "cuctri = solve(d1) "
      ],
      "metadata": {
        "id": "nOThX64_TLn9"
      },
      "execution_count": 33,
      "outputs": []
    },
    {
      "cell_type": "code",
      "source": [
        "A = cuctri[0] \n",
        "A = cuctri[2]\n",
        "B = cuctri[0] \n",
        "C = cuctri[1]\n",
        "D = cuctri[3]"
      ],
      "metadata": {
        "id": "aoBqfOYaTQqX"
      },
      "execution_count": 34,
      "outputs": []
    },
    {
      "cell_type": "code",
      "source": [
        "d2 = Derivative(d1, x, 2).doit()"
      ],
      "metadata": {
        "id": "5TJsGG7ETaGj"
      },
      "execution_count": 35,
      "outputs": []
    },
    {
      "cell_type": "code",
      "source": [
        "d2.subs({x:B}).evalf() "
      ],
      "metadata": {
        "colab": {
          "base_uri": "https://localhost:8080/",
          "height": 38
        },
        "id": "8OGn4l-zTcBQ",
        "outputId": "cf600d40-a26c-4613-f3c4-5f7d4e536289"
      },
      "execution_count": 36,
      "outputs": [
        {
          "output_type": "execute_result",
          "data": {
            "text/latex": "$\\displaystyle -117.494186015068$",
            "text/plain": [
              "-117.494186015068"
            ]
          },
          "metadata": {},
          "execution_count": 36
        }
      ]
    },
    {
      "cell_type": "code",
      "source": [
        "d2.subs({x:B}).evalf() "
      ],
      "metadata": {
        "colab": {
          "base_uri": "https://localhost:8080/",
          "height": 38
        },
        "id": "BvdmiUKxTfEK",
        "outputId": "83553e5a-7558-4648-b3f9-c041d9780272"
      },
      "execution_count": 37,
      "outputs": [
        {
          "output_type": "execute_result",
          "data": {
            "text/latex": "$\\displaystyle -117.494186015068$",
            "text/plain": [
              "-117.494186015068"
            ]
          },
          "metadata": {},
          "execution_count": 37
        }
      ]
    },
    {
      "cell_type": "code",
      "source": [
        " d2.subs({x:A}).evalf() "
      ],
      "metadata": {
        "colab": {
          "base_uri": "https://localhost:8080/",
          "height": 38
        },
        "id": "_2Wx4688TgQb",
        "outputId": "a4065b28-9081-4c2c-ca16-d7e7cca5aa8d"
      },
      "execution_count": 38,
      "outputs": [
        {
          "output_type": "execute_result",
          "data": {
            "text/latex": "$\\displaystyle 957.494186015067$",
            "text/plain": [
              "957.494186015067"
            ]
          },
          "metadata": {},
          "execution_count": 38
        }
      ]
    },
    {
      "cell_type": "code",
      "source": [
        "d2.subs({x:D}).evalf() "
      ],
      "metadata": {
        "colab": {
          "base_uri": "https://localhost:8080/",
          "height": 38
        },
        "id": "ENkV5mp3ThpK",
        "outputId": "bfd34c9f-7391-4ae5-d092-8a54a8470277"
      },
      "execution_count": 39,
      "outputs": [
        {
          "output_type": "execute_result",
          "data": {
            "text/latex": "$\\displaystyle 957.494186015067$",
            "text/plain": [
              "957.494186015067"
            ]
          },
          "metadata": {},
          "execution_count": 39
        }
      ]
    },
    {
      "cell_type": "markdown",
      "source": [
        "**CHƯƠNG 3: ĐẠO HÀM VÀ ỨNG DỤNG**"
      ],
      "metadata": {
        "id": "znjDFDA9Tk_N"
      }
    },
    {
      "cell_type": "markdown",
      "source": [
        "  Thực hành 1: Viết hàm từ dấu nhắc lệnh >>> của trình IDLE"
      ],
      "metadata": {
        "id": "Ck-MPrezTvma"
      }
    },
    {
      "cell_type": "code",
      "source": [
        "def luythua(x, n): \n",
        "  ketqua = 1 \n",
        "  for i in range(n): \n",
        "    ketqua = ketqua *x \n",
        "  return ketqua "
      ],
      "metadata": {
        "id": "qYFcetgWTx5d"
      },
      "execution_count": 40,
      "outputs": []
    },
    {
      "cell_type": "code",
      "source": [
        "luythua(2,1)"
      ],
      "metadata": {
        "colab": {
          "base_uri": "https://localhost:8080/"
        },
        "id": "SdTbvjyyT2bg",
        "outputId": "d7866f49-6c21-497d-ac61-5fbe11d6a66b"
      },
      "execution_count": 41,
      "outputs": [
        {
          "output_type": "execute_result",
          "data": {
            "text/plain": [
              "2"
            ]
          },
          "metadata": {},
          "execution_count": 41
        }
      ]
    },
    {
      "cell_type": "code",
      "source": [
        "luythua(2,0) "
      ],
      "metadata": {
        "colab": {
          "base_uri": "https://localhost:8080/"
        },
        "id": "sLRn7ygVUFE7",
        "outputId": "973ea105-346b-4795-ce82-5f1c6fe4e1a0"
      },
      "execution_count": 42,
      "outputs": [
        {
          "output_type": "execute_result",
          "data": {
            "text/plain": [
              "1"
            ]
          },
          "metadata": {},
          "execution_count": 42
        }
      ]
    },
    {
      "cell_type": "markdown",
      "source": [
        "Thực hành 2:  Lỗi và cơ chế bắt lỗi trong Python "
      ],
      "metadata": {
        "id": "AC6GLuFnUI1c"
      }
    },
    {
      "cell_type": "markdown",
      "source": [
        "while 1 = 2: \n",
        ">>>> lỗi: invalid syntax"
      ],
      "metadata": {
        "id": "hlaWrTi8Z48c"
      }
    },
    {
      "cell_type": "markdown",
      "source": [
        " 10 * (1/0)\n",
        " Lỗi: zeroDivisionError: division by zero"
      ],
      "metadata": {
        "id": "yYHiLfDfaGtC"
      }
    },
    {
      "cell_type": "markdown",
      "source": [
        "Thực hành 5:\n"
      ],
      "metadata": {
        "id": "TQS3uSLUhzD0"
      }
    },
    {
      "cell_type": "code",
      "source": [
        "def frange(batdau, ketthuc, buocnhay):\n",
        "  day_ketqua = [] \n",
        "  while batdau < ketthuc: \n",
        "    day_ketqua.append(batdau) \n",
        "    batdau = batdau + buocnhay \n",
        "  return day_ketqua"
      ],
      "metadata": {
        "id": "q8tVbx4Xh0t8"
      },
      "execution_count": 43,
      "outputs": []
    },
    {
      "cell_type": "code",
      "source": [
        "x = frange( 0, 3, 0.2)\n",
        "x"
      ],
      "metadata": {
        "id": "5IBbnyf2jR_5",
        "outputId": "d822bfdb-cc83-4687-f7c8-e407223a231b",
        "colab": {
          "base_uri": "https://localhost:8080/"
        }
      },
      "execution_count": 44,
      "outputs": [
        {
          "output_type": "execute_result",
          "data": {
            "text/plain": [
              "[0,\n",
              " 0.2,\n",
              " 0.4,\n",
              " 0.6000000000000001,\n",
              " 0.8,\n",
              " 1.0,\n",
              " 1.2,\n",
              " 1.4,\n",
              " 1.5999999999999999,\n",
              " 1.7999999999999998,\n",
              " 1.9999999999999998,\n",
              " 2.1999999999999997,\n",
              " 2.4,\n",
              " 2.6,\n",
              " 2.8000000000000003]"
            ]
          },
          "metadata": {},
          "execution_count": 44
        }
      ]
    },
    {
      "cell_type": "markdown",
      "source": [
        "Thuc hanh 6:\n"
      ],
      "metadata": {
        "id": "gDFqVbArj8vQ"
      }
    },
    {
      "cell_type": "code",
      "source": [
        "from matplotlib import pyplot as plt \n",
        "import math"
      ],
      "metadata": {
        "id": "-tXnYeScj-FG"
      },
      "execution_count": 45,
      "outputs": []
    },
    {
      "cell_type": "code",
      "source": [
        "def draw_graph(x, y): \n",
        " plt.plot(x, y) \n",
        " plt.xlabel('Truc X') \n",
        " plt.ylabel('Truc Y') \n",
        " plt.title('Do thi bai toan nem qua bong')"
      ],
      "metadata": {
        "id": "GUz1dVbUkDeJ"
      },
      "execution_count": 46,
      "outputs": []
    },
    {
      "cell_type": "code",
      "source": [
        "def frange(start, final, interval): \n",
        " numbers = [] \n",
        " while start < final: \n",
        "  numbers.append(start) \n",
        "  start = start + interval \n",
        " return numbers"
      ],
      "metadata": {
        "id": "2LbZpJgXkGBc"
      },
      "execution_count": 47,
      "outputs": []
    }
  ]
}