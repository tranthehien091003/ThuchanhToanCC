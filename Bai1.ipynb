{
  "nbformat": 4,
  "nbformat_minor": 0,
  "metadata": {
    "colab": {
      "name": "Bai1.ipynb",
      "provenance": [],
      "authorship_tag": "ABX9TyPY710jkgvOMYiRc7ydz7lK",
      "include_colab_link": true
    },
    "kernelspec": {
      "name": "python3",
      "display_name": "Python 3"
    },
    "language_info": {
      "name": "python"
    }
  },
  "cells": [
    {
      "cell_type": "markdown",
      "metadata": {
        "id": "view-in-github",
        "colab_type": "text"
      },
      "source": [
        "<a href=\"https://colab.research.google.com/github/tranthehien091003/ThuchanhToanCC/blob/main/Bai1.ipynb\" target=\"_parent\"><img src=\"https://colab.research.google.com/assets/colab-badge.svg\" alt=\"Open In Colab\"/></a>"
      ]
    },
    {
      "cell_type": "markdown",
      "source": [
        "Thực hành bài 1"
      ],
      "metadata": {
        "id": "uM42ES-LHH4y"
      }
    },
    {
      "cell_type": "code",
      "source": [
        "n = 100000000\n",
        "\n",
        "X = [(2-0)*k/n for k in range(0, n+1)]"
      ],
      "metadata": {
        "id": "FRARHt-hHK3_"
      },
      "execution_count": null,
      "outputs": []
    },
    {
      "cell_type": "code",
      "source": [
        "S = 0\n",
        "\n",
        "for k in range(1, n + 1):\n",
        "\n",
        "  S = S + X[k]**2 * (X[k] - X[k-1])\n",
        "\n",
        "print (S)"
      ],
      "metadata": {
        "colab": {
          "base_uri": "https://localhost:8080/"
        },
        "id": "1mddmUcZHh5B",
        "outputId": "d5a3ac46-511f-4c27-f7e0-9faddcfdfe4d"
      },
      "execution_count": null,
      "outputs": [
        {
          "output_type": "stream",
          "name": "stdout",
          "text": [
            "2.666667066666659\n"
          ]
        }
      ]
    },
    {
      "cell_type": "code",
      "source": [
        "from sympy.solvers.solvers import denoms\n",
        "from sympy import *\n",
        "x = Symbol('x')\n",
        "eq = (1/x) * 1/(x-3)\n",
        "dd = denoms(eq)\n",
        "print(dd)"
      ],
      "metadata": {
        "id": "WeoXzrE0No1s",
        "outputId": "a2b0a4b3-0f80-4396-df9e-514068b60ef4",
        "colab": {
          "base_uri": "https://localhost:8080/"
        }
      },
      "execution_count": null,
      "outputs": [
        {
          "output_type": "stream",
          "name": "stdout",
          "text": [
            "{x, x - 3}\n"
          ]
        }
      ]
    },
    {
      "cell_type": "code",
      "source": [
        "# thuchanh_5b\n",
        "pt = (1 +1/x) / (x-1)\n",
        "from sympy.solvers.solvers import denoms\n",
        "loai_tru = set()\n",
        "for i in denoms(pt):\n",
        "  for s in solve(i):\n",
        "    loai_tru.add(s)\n",
        "print(loai_tru)"
      ],
      "metadata": {
        "id": "TFfZoVpmPi-t",
        "outputId": "330b45af-41bc-44ea-94ee-586a61347638",
        "colab": {
          "base_uri": "https://localhost:8080/"
        }
      },
      "execution_count": null,
      "outputs": [
        {
          "output_type": "stream",
          "name": "stdout",
          "text": [
            "{0, 1}\n"
          ]
        }
      ]
    },
    {
      "cell_type": "code",
      "source": [
        "# thuchanh_6\n",
        "from sympy import Symbol\n",
        "x = Symbol('x', positive = True)\n",
        "if(x+3) > 0:\n",
        "  print('Chắc chắn x + 3 dương')\n",
        "else:\n",
        "  print('x + 3 chưa chắc là số dương')"
      ],
      "metadata": {
        "colab": {
          "base_uri": "https://localhost:8080/"
        },
        "id": "IrV-wm_GE_-h",
        "outputId": "bc554c9c-7880-4a81-b3eb-9b9feae97b16"
      },
      "execution_count": null,
      "outputs": [
        {
          "output_type": "stream",
          "name": "stdout",
          "text": [
            "Chắc chắn x + 3 dương\n"
          ]
        }
      ]
    },
    {
      "cell_type": "code",
      "source": [
        "# thuchanh_7\n",
        "import math\n",
        "math.sin(math.pi/2)\n",
        "\n"
      ],
      "metadata": {
        "colab": {
          "base_uri": "https://localhost:8080/"
        },
        "id": "6t7DVlJLGSFG",
        "outputId": "e1ef7c16-05d0-408b-9ebb-595784282dd1"
      },
      "execution_count": null,
      "outputs": [
        {
          "output_type": "execute_result",
          "data": {
            "text/plain": [
              "1.0"
            ]
          },
          "metadata": {},
          "execution_count": 6
        }
      ]
    },
    {
      "cell_type": "code",
      "source": [
        "# thuchanh_8\n",
        "from sympy import sin, solve, Symbol\n",
        "u = Symbol('u')\n",
        "t = Symbol('t')\n",
        "g = Symbol('g')\n",
        "theta = Symbol('theta')\n",
        "solve(u*sin(theta)- g*t, t)\n"
      ],
      "metadata": {
        "colab": {
          "base_uri": "https://localhost:8080/"
        },
        "id": "BishkPXQHmCA",
        "outputId": "ea6eb89c-ee5c-4ea9-c258-ab01e21c228a"
      },
      "execution_count": null,
      "outputs": [
        {
          "output_type": "execute_result",
          "data": {
            "text/plain": [
              "[u*sin(theta)/g]"
            ]
          },
          "metadata": {},
          "execution_count": 7
        }
      ]
    },
    {
      "cell_type": "code",
      "source": [
        "# thuchanh_9\n",
        "from sympy import Symbol, Limit, S\n",
        "x = Symbol('x')\n",
        "Limit(1/x, x, S.Infinity)"
      ],
      "metadata": {
        "colab": {
          "base_uri": "https://localhost:8080/",
          "height": 51
        },
        "id": "RP21wpCeITlP",
        "outputId": "f6757797-8700-4121-9e1d-e15de913447a"
      },
      "execution_count": null,
      "outputs": [
        {
          "output_type": "execute_result",
          "data": {
            "text/latex": "$\\displaystyle \\lim_{x \\to \\infty} \\frac{1}{x}$",
            "text/plain": [
              "Limit(1/x, x, oo, dir='-')"
            ]
          },
          "metadata": {},
          "execution_count": 8
        }
      ]
    },
    {
      "cell_type": "code",
      "source": [
        "gioihan = Limit(1/x, x, S.Infinity)\n",
        "gioihan.doit()"
      ],
      "metadata": {
        "colab": {
          "base_uri": "https://localhost:8080/",
          "height": 37
        },
        "id": "fZ_nU0XcKFUd",
        "outputId": "5717cdb0-4d8e-4d3e-8c49-acf804744b15"
      },
      "execution_count": null,
      "outputs": [
        {
          "output_type": "execute_result",
          "data": {
            "text/latex": "$\\displaystyle 0$",
            "text/plain": [
              "0"
            ]
          },
          "metadata": {},
          "execution_count": 9
        }
      ]
    },
    {
      "cell_type": "code",
      "source": [
        "# thuchanh_10a\n",
        "from sympy import Limit\n",
        "Limit(1/x, x, 0, dir = '-').doit() "
      ],
      "metadata": {
        "colab": {
          "base_uri": "https://localhost:8080/",
          "height": 37
        },
        "id": "Ehu5bC_gKYDo",
        "outputId": "e117077d-63d4-4c4f-c361-dbc6ced7eda2"
      },
      "execution_count": null,
      "outputs": [
        {
          "output_type": "execute_result",
          "data": {
            "text/latex": "$\\displaystyle -\\infty$",
            "text/plain": [
              "-oo"
            ]
          },
          "metadata": {},
          "execution_count": 10
        }
      ]
    },
    {
      "cell_type": "code",
      "source": [
        "Limit(1/x, x, 0, dir = '+').doit() "
      ],
      "metadata": {
        "colab": {
          "base_uri": "https://localhost:8080/",
          "height": 37
        },
        "id": "k3-FFrYRLext",
        "outputId": "1a6c1eaa-353e-4ae4-c13e-bd5fc31269a6"
      },
      "execution_count": null,
      "outputs": [
        {
          "output_type": "execute_result",
          "data": {
            "text/latex": "$\\displaystyle \\infty$",
            "text/plain": [
              "oo"
            ]
          },
          "metadata": {},
          "execution_count": 11
        }
      ]
    },
    {
      "cell_type": "code",
      "source": [
        "# thuchanh_10b\n"
      ],
      "metadata": {
        "id": "h_GLtjtQLoJG"
      },
      "execution_count": null,
      "outputs": []
    },
    {
      "cell_type": "code",
      "source": [
        "from sympy import Symbol, sin, Limit\n",
        "x = Symbol('x')\n",
        "Limit(sin(x)/x, x, 0).doit()"
      ],
      "metadata": {
        "colab": {
          "base_uri": "https://localhost:8080/",
          "height": 37
        },
        "id": "qxEUbrno9Vnn",
        "outputId": "eb1b06b0-dd07-479d-d6de-75327dcce531"
      },
      "execution_count": null,
      "outputs": [
        {
          "output_type": "execute_result",
          "data": {
            "text/latex": "$\\displaystyle 1$",
            "text/plain": [
              "1"
            ]
          },
          "metadata": {},
          "execution_count": 3
        }
      ]
    }
  ]
}