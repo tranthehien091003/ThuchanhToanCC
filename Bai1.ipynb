{
  "nbformat": 4,
  "nbformat_minor": 0,
  "metadata": {
    "colab": {
      "name": "Bai1.ipynb",
      "provenance": [],
      "authorship_tag": "ABX9TyM/z0a1wusIZknXK4ldzYV4",
      "include_colab_link": true
    },
    "kernelspec": {
      "name": "python3",
      "display_name": "Python 3"
    },
    "language_info": {
      "name": "python"
    }
  },
  "cells": [
    {
      "cell_type": "markdown",
      "metadata": {
        "id": "view-in-github",
        "colab_type": "text"
      },
      "source": [
        "<a href=\"https://colab.research.google.com/github/tranthehien091003/ThuchanhToanCC/blob/main/Bai1.ipynb\" target=\"_parent\"><img src=\"https://colab.research.google.com/assets/colab-badge.svg\" alt=\"Open In Colab\"/></a>"
      ]
    },
    {
      "cell_type": "markdown",
      "source": [
        "Thực hành bài 1"
      ],
      "metadata": {
        "id": "uM42ES-LHH4y"
      }
    },
    {
      "cell_type": "code",
      "source": [
        "n = 100000000\n",
        "\n",
        "X = [(2-0)*k/n for k in range(0, n+1)]"
      ],
      "metadata": {
        "id": "FRARHt-hHK3_"
      },
      "execution_count": null,
      "outputs": []
    },
    {
      "cell_type": "code",
      "source": [
        "S = 0\n",
        "\n",
        "for k in range(1, n + 1):\n",
        "\n",
        "  S = S + X[k]**2 * (X[k] - X[k-1])\n",
        "\n",
        "print (S)"
      ],
      "metadata": {
        "colab": {
          "base_uri": "https://localhost:8080/"
        },
        "id": "1mddmUcZHh5B",
        "outputId": "00ffdf08-ff3c-495b-9127-a0fed3aa7fad"
      },
      "execution_count": null,
      "outputs": [
        {
          "output_type": "stream",
          "name": "stdout",
          "text": [
            "2.6666667066667187\n"
          ]
        }
      ]
    },
    {
      "cell_type": "code",
      "source": [
        "from sympy.solvers.solvers import denoms\n",
        "from sympy import *\n",
        "x = Symbol('x')\n",
        "eq = (1/x) * 1/(x-3)\n",
        "dd = denoms(eq)\n",
        "print(dd)"
      ],
      "metadata": {
        "id": "WeoXzrE0No1s",
        "outputId": "a2b0a4b3-0f80-4396-df9e-514068b60ef4",
        "colab": {
          "base_uri": "https://localhost:8080/"
        }
      },
      "execution_count": null,
      "outputs": [
        {
          "output_type": "stream",
          "name": "stdout",
          "text": [
            "{x, x - 3}\n"
          ]
        }
      ]
    },
    {
      "cell_type": "code",
      "source": [
        "# thuchanh_5b\n",
        "pt = (1 +1/x) / (x-1)\n",
        "from sympy.solvers.solvers import denoms\n",
        "loai_tru = set()\n",
        "for i in denoms(pt):\n",
        "  for s in solve(i):\n",
        "    loai_tru.add(s)\n",
        "print(loai_tru)"
      ],
      "metadata": {
        "id": "TFfZoVpmPi-t",
        "outputId": "330b45af-41bc-44ea-94ee-586a61347638",
        "colab": {
          "base_uri": "https://localhost:8080/"
        }
      },
      "execution_count": null,
      "outputs": [
        {
          "output_type": "stream",
          "name": "stdout",
          "text": [
            "{0, 1}\n"
          ]
        }
      ]
    },
    {
      "cell_type": "code",
      "source": [
        "# thuchanh_6\n",
        "from sympy import Symbol\n",
        "x = Symbol('x', positive = True)\n",
        "if(x+3) > 0:\n",
        "  print('Chắc chắn x + 3 dương')\n",
        "else:\n",
        "  print('x + 3 chưa chắc là số dương')"
      ],
      "metadata": {
        "colab": {
          "base_uri": "https://localhost:8080/"
        },
        "id": "IrV-wm_GE_-h",
        "outputId": "bc554c9c-7880-4a81-b3eb-9b9feae97b16"
      },
      "execution_count": null,
      "outputs": [
        {
          "output_type": "stream",
          "name": "stdout",
          "text": [
            "Chắc chắn x + 3 dương\n"
          ]
        }
      ]
    },
    {
      "cell_type": "code",
      "source": [
        "# thuchanh_7\n",
        "import math\n",
        "math.sin(math.pi/2)\n",
        "\n"
      ],
      "metadata": {
        "colab": {
          "base_uri": "https://localhost:8080/"
        },
        "id": "6t7DVlJLGSFG",
        "outputId": "e1ef7c16-05d0-408b-9ebb-595784282dd1"
      },
      "execution_count": null,
      "outputs": [
        {
          "output_type": "execute_result",
          "data": {
            "text/plain": [
              "1.0"
            ]
          },
          "metadata": {},
          "execution_count": 6
        }
      ]
    },
    {
      "cell_type": "code",
      "source": [
        "# thuchanh_8\n",
        "from sympy import sin, solve, Symbol\n",
        "u = Symbol('u')\n",
        "t = Symbol('t')\n",
        "g = Symbol('g')\n",
        "theta = Symbol('theta')\n",
        "solve(u*sin(theta)- g*t, t)\n"
      ],
      "metadata": {
        "colab": {
          "base_uri": "https://localhost:8080/"
        },
        "id": "BishkPXQHmCA",
        "outputId": "ea6eb89c-ee5c-4ea9-c258-ab01e21c228a"
      },
      "execution_count": null,
      "outputs": [
        {
          "output_type": "execute_result",
          "data": {
            "text/plain": [
              "[u*sin(theta)/g]"
            ]
          },
          "metadata": {},
          "execution_count": 7
        }
      ]
    },
    {
      "cell_type": "code",
      "source": [
        "# thuchanh_9\n",
        "from sympy import Symbol, Limit, S\n",
        "x = Symbol('x')\n",
        "Limit(1/x, x, S.Infinity)"
      ],
      "metadata": {
        "colab": {
          "base_uri": "https://localhost:8080/",
          "height": 51
        },
        "id": "RP21wpCeITlP",
        "outputId": "f6757797-8700-4121-9e1d-e15de913447a"
      },
      "execution_count": null,
      "outputs": [
        {
          "output_type": "execute_result",
          "data": {
            "text/latex": "$\\displaystyle \\lim_{x \\to \\infty} \\frac{1}{x}$",
            "text/plain": [
              "Limit(1/x, x, oo, dir='-')"
            ]
          },
          "metadata": {},
          "execution_count": 8
        }
      ]
    },
    {
      "cell_type": "code",
      "source": [
        "gioihan = Limit(1/x, x, S.Infinity)\n",
        "gioihan.doit()"
      ],
      "metadata": {
        "colab": {
          "base_uri": "https://localhost:8080/",
          "height": 37
        },
        "id": "fZ_nU0XcKFUd",
        "outputId": "5717cdb0-4d8e-4d3e-8c49-acf804744b15"
      },
      "execution_count": null,
      "outputs": [
        {
          "output_type": "execute_result",
          "data": {
            "text/latex": "$\\displaystyle 0$",
            "text/plain": [
              "0"
            ]
          },
          "metadata": {},
          "execution_count": 9
        }
      ]
    },
    {
      "cell_type": "code",
      "source": [
        "# thuchanh_10a\n",
        "from sympy import Limit\n",
        "Limit(1/x, x, 0, dir = '-').doit() "
      ],
      "metadata": {
        "colab": {
          "base_uri": "https://localhost:8080/",
          "height": 37
        },
        "id": "Ehu5bC_gKYDo",
        "outputId": "e117077d-63d4-4c4f-c361-dbc6ced7eda2"
      },
      "execution_count": null,
      "outputs": [
        {
          "output_type": "execute_result",
          "data": {
            "text/latex": "$\\displaystyle -\\infty$",
            "text/plain": [
              "-oo"
            ]
          },
          "metadata": {},
          "execution_count": 10
        }
      ]
    },
    {
      "cell_type": "code",
      "source": [
        "Limit(1/x, x, 0, dir = '+').doit() "
      ],
      "metadata": {
        "colab": {
          "base_uri": "https://localhost:8080/",
          "height": 37
        },
        "id": "k3-FFrYRLext",
        "outputId": "1a6c1eaa-353e-4ae4-c13e-bd5fc31269a6"
      },
      "execution_count": null,
      "outputs": [
        {
          "output_type": "execute_result",
          "data": {
            "text/latex": "$\\displaystyle \\infty$",
            "text/plain": [
              "oo"
            ]
          },
          "metadata": {},
          "execution_count": 11
        }
      ]
    },
    {
      "cell_type": "code",
      "source": [
        "# thuchanh_10b\n",
        "from sympy import sin, Symbol\n",
        "Limit(sin(x)/x, x, 0).doit()"
      ],
      "metadata": {
        "colab": {
          "base_uri": "https://localhost:8080/",
          "height": 37
        },
        "id": "h_GLtjtQLoJG",
        "outputId": "9c8ae67e-976f-4259-b01b-8b844c7d1304"
      },
      "execution_count": null,
      "outputs": [
        {
          "output_type": "execute_result",
          "data": {
            "text/latex": "$\\displaystyle 1$",
            "text/plain": [
              "1"
            ]
          },
          "metadata": {},
          "execution_count": 12
        }
      ]
    },
    {
      "cell_type": "code",
      "source": [
        "# thuchanh_11\n",
        "from sympy import sin, Symbol\n",
        "Limit(x*sin(1/x), x, S.Infinity)"
      ],
      "metadata": {
        "id": "P-sDLi_hMdX9",
        "outputId": "08a6872a-edf5-4fca-9c15-7015989b7803",
        "colab": {
          "base_uri": "https://localhost:8080/",
          "height": 58
        }
      },
      "execution_count": null,
      "outputs": [
        {
          "output_type": "execute_result",
          "data": {
            "text/latex": "$\\displaystyle \\lim_{x \\to \\infty}\\left(x \\sin{\\left(\\frac{1}{x} \\right)}\\right)$",
            "text/plain": [
              "Limit(x*sin(1/x), x, oo, dir='-')"
            ]
          },
          "metadata": {},
          "execution_count": 14
        }
      ]
    },
    {
      "cell_type": "code",
      "source": [
        "# thuchanh_12\n",
        "from sympy import Symbol, Limit, S\n",
        "p = Symbol('p', positive = True)\n",
        "r = Symbol('r', positive = True)\n",
        "t = Symbol('t', positive = True)\n",
        "n = Symbol('n')\n",
        "Limit(p*(1+r/n) **(n*t) , n , S.Infinity).doit()"
      ],
      "metadata": {
        "id": "ESwDlDEkM-zC",
        "outputId": "5a4fca5b-47af-4a25-98f2-9285216564d7",
        "colab": {
          "base_uri": "https://localhost:8080/",
          "height": 38
        }
      },
      "execution_count": 3,
      "outputs": [
        {
          "output_type": "execute_result",
          "data": {
            "text/latex": "$\\displaystyle p e^{r t}$",
            "text/plain": [
              "p*exp(r*t)"
            ]
          },
          "metadata": {},
          "execution_count": 3
        }
      ]
    },
    {
      "cell_type": "code",
      "source": [
        "#thuchanh_13\n",
        "from sympy import Symbol, Limit\n",
        "t = Symbol('t')\n",
        "St = 5*t**2 + 2*t + 8\n",
        "\n",
        "t1 = Symbol('t1')\n",
        "delta_t = Symbol ('delta_t')\n",
        "\n",
        "St1 = St.subs({t: t1})\n",
        "St1_delta = St.subs ({t : t1 + delta_t})\n",
        "Limit ((St1_delta - St1) / delta_t, delta_t, 0).doit()"
      ],
      "metadata": {
        "id": "7Cn7w45QTIpc",
        "outputId": "9bf10958-a3b9-4394-ad7a-0ce6bbfeb2fd",
        "colab": {
          "base_uri": "https://localhost:8080/",
          "height": 38
        }
      },
      "execution_count": 6,
      "outputs": [
        {
          "output_type": "execute_result",
          "data": {
            "text/latex": "$\\displaystyle 10 t_{1} + 2$",
            "text/plain": [
              "10*t1 + 2"
            ]
          },
          "metadata": {},
          "execution_count": 6
        }
      ]
    },
    {
      "cell_type": "code",
      "source": [
        "# bài tập 1 - chương 1 \n",
        "a = 3.1; b = 3.0; i = -1\n",
        "while (a != b):\n",
        "  print (a, \"!=\", b)\n",
        "  a_new = a - 0.9 *10 ** (i)\n",
        "  if (a_new != a):\n",
        "    a = a_new\n",
        "    i = i - 1\n",
        "  else:\n",
        "    print (i)\n",
        "    a = b"
      ],
      "metadata": {
        "id": "arMWF2F6Uh5X",
        "outputId": "c004cf6d-75bb-46de-daaa-5a209b0d6385",
        "colab": {
          "base_uri": "https://localhost:8080/"
        }
      },
      "execution_count": 9,
      "outputs": [
        {
          "output_type": "stream",
          "name": "stdout",
          "text": [
            "3.1 != 3.0\n",
            "3.0100000000000002 != 3.0\n",
            "3.0010000000000003 != 3.0\n",
            "3.0001 != 3.0\n",
            "3.00001 != 3.0\n",
            "3.000001 != 3.0\n",
            "3.0000001000000003 != 3.0\n",
            "3.0000000100000004 != 3.0\n",
            "3.0000000010000005 != 3.0\n",
            "3.0000000001000005 != 3.0\n",
            "3.0000000000100004 != 3.0\n",
            "3.0000000000010005 != 3.0\n",
            "3.0000000000001004 != 3.0\n",
            "3.00000000000001 != 3.0\n",
            "3.0000000000000013 != 3.0\n",
            "3.0000000000000004 != 3.0\n",
            "-16\n"
          ]
        }
      ]
    },
    {
      "cell_type": "code",
      "source": [
        "from sympy import Symbol, sin, Limit\n",
        "x = Symbol('x')\n",
        "Limit(sin(x)/x, x, 0).doit()"
      ],
      "metadata": {
        "colab": {
          "base_uri": "https://localhost:8080/",
          "height": 37
        },
        "id": "qxEUbrno9Vnn",
        "outputId": "eb1b06b0-dd07-479d-d6de-75327dcce531"
      },
      "execution_count": null,
      "outputs": [
        {
          "output_type": "execute_result",
          "data": {
            "text/latex": "$\\displaystyle 1$",
            "text/plain": [
              "1"
            ]
          },
          "metadata": {},
          "execution_count": 3
        }
      ]
    }
  ]
}