{
  "nbformat": 4,
  "nbformat_minor": 0,
  "metadata": {
    "colab": {
      "name": "Chương 8.ipynb",
      "provenance": [],
      "authorship_tag": "ABX9TyNwJqGAC+YzdS3w+25OKMxU",
      "include_colab_link": true
    },
    "kernelspec": {
      "name": "python3",
      "display_name": "Python 3"
    },
    "language_info": {
      "name": "python"
    }
  },
  "cells": [
    {
      "cell_type": "markdown",
      "metadata": {
        "id": "view-in-github",
        "colab_type": "text"
      },
      "source": [
        "<a href=\"https://colab.research.google.com/github/tranthehien091003/ThuchanhToanCC/blob/main/Ch%C6%B0%C6%A1ng_8.ipynb\" target=\"_parent\"><img src=\"https://colab.research.google.com/assets/colab-badge.svg\" alt=\"Open In Colab\"/></a>"
      ]
    },
    {
      "cell_type": "markdown",
      "source": [
        "**Chương 8:**"
      ],
      "metadata": {
        "id": "yxzFGPF8qFzk"
      }
    },
    {
      "cell_type": "markdown",
      "source": [
        "**Thực hành 1:**"
      ],
      "metadata": {
        "id": "cDHDSvFkqLo1"
      }
    },
    {
      "cell_type": "markdown",
      "source": [
        "câu a:"
      ],
      "metadata": {
        "id": "lYR2G_dBuBYZ"
      }
    },
    {
      "cell_type": "code",
      "execution_count": 1,
      "metadata": {
        "colab": {
          "base_uri": "https://localhost:8080/"
        },
        "id": "FZICaJ4iqCg9",
        "outputId": "64e0f253-54cc-47f3-ad14-fdf51d1d5ea8"
      },
      "outputs": [
        {
          "output_type": "execute_result",
          "data": {
            "text/plain": [
              "(3, 5, 7)"
            ]
          },
          "metadata": {},
          "execution_count": 1
        }
      ],
      "source": [
        "y = (3,5,7)\n",
        "y"
      ]
    },
    {
      "cell_type": "code",
      "source": [
        "y[1]"
      ],
      "metadata": {
        "colab": {
          "base_uri": "https://localhost:8080/"
        },
        "id": "WTky2N3C0uPV",
        "outputId": "e319fa41-40a3-4901-96fa-49912bfd2976"
      },
      "execution_count": 2,
      "outputs": [
        {
          "output_type": "execute_result",
          "data": {
            "text/plain": [
              "5"
            ]
          },
          "metadata": {},
          "execution_count": 2
        }
      ]
    },
    {
      "cell_type": "markdown",
      "source": [
        "câu b:"
      ],
      "metadata": {
        "id": "Z_tClXGs0xq-"
      }
    },
    {
      "cell_type": "code",
      "source": [
        "from __future__ import division\n",
        "10/3"
      ],
      "metadata": {
        "colab": {
          "base_uri": "https://localhost:8080/"
        },
        "id": "qIYZ7slH0ywj",
        "outputId": "8e85025e-5581-4da4-bcd9-d813efa24a46"
      },
      "execution_count": 3,
      "outputs": [
        {
          "output_type": "execute_result",
          "data": {
            "text/plain": [
              "3.3333333333333335"
            ]
          },
          "metadata": {},
          "execution_count": 3
        }
      ]
    },
    {
      "cell_type": "markdown",
      "source": [
        "câu c:"
      ],
      "metadata": {
        "id": "65TX8HCa00zm"
      }
    },
    {
      "cell_type": "code",
      "source": [
        "import sympy\n",
        "from sympy import Symbol\n",
        "x = Symbol('x')\n",
        "y = x + 1\n",
        "y.subs(x,14)"
      ],
      "metadata": {
        "colab": {
          "base_uri": "https://localhost:8080/",
          "height": 37
        },
        "id": "I0xTKawl016H",
        "outputId": "421b5717-6d50-412a-fd45-b4c17a6e2d94"
      },
      "execution_count": 5,
      "outputs": [
        {
          "output_type": "execute_result",
          "data": {
            "text/plain": [
              "15"
            ],
            "text/latex": "$\\displaystyle 15$"
          },
          "metadata": {},
          "execution_count": 5
        }
      ]
    },
    {
      "cell_type": "markdown",
      "source": [
        "câu d:"
      ],
      "metadata": {
        "id": "9WCPYLRg03NZ"
      }
    },
    {
      "cell_type": "code",
      "source": [
        "import sympy  \n",
        "from sympy import Symbol  \n",
        "x = Symbol('x')\n",
        "from sympy import pi\n",
        "z = pi - 18*x\n",
        "z.subs(x, y)"
      ],
      "metadata": {
        "colab": {
          "base_uri": "https://localhost:8080/",
          "height": 38
        },
        "id": "hB_nWmiC04Jl",
        "outputId": "833ad89a-5d03-4484-8657-6738542d672f"
      },
      "execution_count": 6,
      "outputs": [
        {
          "output_type": "execute_result",
          "data": {
            "text/plain": [
              "-18*x - 18 + pi"
            ],
            "text/latex": "$\\displaystyle - 18 x - 18 + \\pi$"
          },
          "metadata": {},
          "execution_count": 6
        }
      ]
    },
    {
      "cell_type": "code",
      "source": [
        "t = Symbol('t')  \n",
        "z = pi - 18*x  \n",
        "z.subs(x, t)"
      ],
      "metadata": {
        "colab": {
          "base_uri": "https://localhost:8080/",
          "height": 38
        },
        "id": "PNbKu_6D06a_",
        "outputId": "6f2a69d3-9af6-4493-dc4f-25970361d2da"
      },
      "execution_count": 7,
      "outputs": [
        {
          "output_type": "execute_result",
          "data": {
            "text/plain": [
              "pi - 18*t"
            ],
            "text/latex": "$\\displaystyle \\pi - 18 t$"
          },
          "metadata": {},
          "execution_count": 7
        }
      ]
    },
    {
      "cell_type": "markdown",
      "source": [
        "Thực hành 2:"
      ],
      "metadata": {
        "id": "jiuR3nGQ1De0"
      }
    },
    {
      "cell_type": "code",
      "source": [
        "from sympy import solve, sin  \n",
        "x = Symbol('x') \n",
        "y = Symbol('y') \n",
        "solve(x-1,x)"
      ],
      "metadata": {
        "colab": {
          "base_uri": "https://localhost:8080/"
        },
        "id": "lorZ7Tb03Cjo",
        "outputId": "b7ed9f19-36bd-4456-8d58-f8754cd5779b"
      },
      "execution_count": 8,
      "outputs": [
        {
          "output_type": "execute_result",
          "data": {
            "text/plain": [
              "[1]"
            ]
          },
          "metadata": {},
          "execution_count": 8
        }
      ]
    },
    {
      "cell_type": "code",
      "source": [
        "solve(x**2-1,x)"
      ],
      "metadata": {
        "colab": {
          "base_uri": "https://localhost:8080/"
        },
        "id": "tCWqmTza3E1Z",
        "outputId": "cc321262-f717-4964-9af4-a3258561c8e3"
      },
      "execution_count": 9,
      "outputs": [
        {
          "output_type": "execute_result",
          "data": {
            "text/plain": [
              "[-1, 1]"
            ]
          },
          "metadata": {},
          "execution_count": 9
        }
      ]
    },
    {
      "cell_type": "code",
      "source": [
        "solve(x**2+1,x)"
      ],
      "metadata": {
        "colab": {
          "base_uri": "https://localhost:8080/"
        },
        "id": "ItLJJst13FTd",
        "outputId": "3bab43fe-da9c-4ab1-f2ad-2ce52ec1ccf0"
      },
      "execution_count": 10,
      "outputs": [
        {
          "output_type": "execute_result",
          "data": {
            "text/plain": [
              "[-I, I]"
            ]
          },
          "metadata": {},
          "execution_count": 10
        }
      ]
    },
    {
      "cell_type": "code",
      "source": [
        "solve(sin(x),x)"
      ],
      "metadata": {
        "colab": {
          "base_uri": "https://localhost:8080/"
        },
        "id": "vSdtf1i03IlU",
        "outputId": "83e6b380-1a0d-4734-ab31-469159a8a14f"
      },
      "execution_count": 11,
      "outputs": [
        {
          "output_type": "execute_result",
          "data": {
            "text/plain": [
              "[0, pi]"
            ]
          },
          "metadata": {},
          "execution_count": 11
        }
      ]
    },
    {
      "cell_type": "markdown",
      "source": [
        "**Thực hành 3:**"
      ],
      "metadata": {
        "id": "lLUrERvB3KNp"
      }
    },
    {
      "cell_type": "code",
      "source": [
        "from sympy import solveset\n",
        "solveset(sin(x),x)"
      ],
      "metadata": {
        "colab": {
          "base_uri": "https://localhost:8080/",
          "height": 38
        },
        "id": "N3vkS2Z23Lth",
        "outputId": "6bbc4984-6f2b-4f8f-b237-8b89e12a0d98"
      },
      "execution_count": 12,
      "outputs": [
        {
          "output_type": "execute_result",
          "data": {
            "text/plain": [
              "Union(ImageSet(Lambda(_n, 2*_n*pi + pi), Integers), ImageSet(Lambda(_n, 2*_n*pi), Integers))"
            ],
            "text/latex": "$\\displaystyle \\left\\{2 n \\pi\\; |\\; n \\in \\mathbb{Z}\\right\\} \\cup \\left\\{2 n \\pi + \\pi\\; |\\; n \\in \\mathbb{Z}\\right\\}$"
          },
          "metadata": {},
          "execution_count": 12
        }
      ]
    },
    {
      "cell_type": "code",
      "source": [
        "solveset(x**2+1,x)"
      ],
      "metadata": {
        "colab": {
          "base_uri": "https://localhost:8080/",
          "height": 38
        },
        "id": "MhP3VOuo5UAa",
        "outputId": "b42c5527-1a0c-4b87-e8dc-c00445107694"
      },
      "execution_count": 13,
      "outputs": [
        {
          "output_type": "execute_result",
          "data": {
            "text/plain": [
              "FiniteSet(I, -I)"
            ],
            "text/latex": "$\\displaystyle \\left\\{- i, i\\right\\}$"
          },
          "metadata": {},
          "execution_count": 13
        }
      ]
    },
    {
      "cell_type": "markdown",
      "source": [
        "**Thực hành 4:**"
      ],
      "metadata": {
        "id": "xl6Ol4tP5VZT"
      }
    },
    {
      "cell_type": "code",
      "source": [
        "from sympy import solveset, S\n",
        "from sympy.abc import x, y, z\n",
        "solveset(x**2 + 1, x)"
      ],
      "metadata": {
        "colab": {
          "base_uri": "https://localhost:8080/",
          "height": 38
        },
        "id": "t81ENK435WsU",
        "outputId": "5a5dafb2-7fa8-4c20-fe34-61e826ecccf8"
      },
      "execution_count": 14,
      "outputs": [
        {
          "output_type": "execute_result",
          "data": {
            "text/plain": [
              "FiniteSet(I, -I)"
            ],
            "text/latex": "$\\displaystyle \\left\\{- i, i\\right\\}$"
          },
          "metadata": {},
          "execution_count": 14
        }
      ]
    },
    {
      "cell_type": "code",
      "source": [
        "solveset(x**2 + 1, x, domain = S.Reals)"
      ],
      "metadata": {
        "colab": {
          "base_uri": "https://localhost:8080/",
          "height": 37
        },
        "id": "z6sA_1KC5Y9h",
        "outputId": "d1da8074-abb9-4265-b32d-89d2ed62fbec"
      },
      "execution_count": 15,
      "outputs": [
        {
          "output_type": "execute_result",
          "data": {
            "text/plain": [
              "EmptySet"
            ],
            "text/latex": "$\\displaystyle \\emptyset$"
          },
          "metadata": {},
          "execution_count": 15
        }
      ]
    },
    {
      "cell_type": "markdown",
      "source": [
        "**Thực hành 5:**"
      ],
      "metadata": {
        "id": "uILjJ3WA5gBT"
      }
    },
    {
      "cell_type": "code",
      "source": [
        "from sympy import solveset, S\n",
        "from sympy.abc import x,y,z\n",
        "from sympy import E\n",
        "solveset(E**x-1, x)"
      ],
      "metadata": {
        "colab": {
          "base_uri": "https://localhost:8080/",
          "height": 38
        },
        "id": "QWBzx_Tc5hg1",
        "outputId": "8bc77f0c-86e7-4596-b0a5-f1b50ead25c8"
      },
      "execution_count": 17,
      "outputs": [
        {
          "output_type": "execute_result",
          "data": {
            "text/plain": [
              "ImageSet(Lambda(_n, 2*_n*I*pi), Integers)"
            ],
            "text/latex": "$\\displaystyle \\left\\{2 n i \\pi\\; |\\; n \\in \\mathbb{Z}\\right\\}$"
          },
          "metadata": {},
          "execution_count": 17
        }
      ]
    },
    {
      "cell_type": "code",
      "source": [
        "solveset(E**x-1, x, domain = S.Reals)"
      ],
      "metadata": {
        "colab": {
          "base_uri": "https://localhost:8080/",
          "height": 37
        },
        "id": "-EytnprC5ra6",
        "outputId": "fc2ab991-6471-445a-c7f4-7f3b6c1f924f"
      },
      "execution_count": 18,
      "outputs": [
        {
          "output_type": "execute_result",
          "data": {
            "text/plain": [
              "FiniteSet(0)"
            ],
            "text/latex": "$\\displaystyle \\left\\{0\\right\\}$"
          },
          "metadata": {},
          "execution_count": 18
        }
      ]
    },
    {
      "cell_type": "markdown",
      "source": [
        "**Thực hành 6:**"
      ],
      "metadata": {
        "id": "bSUT7jhe5tKy"
      }
    },
    {
      "cell_type": "code",
      "source": [
        "from sympy import solveset, sin, S\n",
        "from sympy.abc import x,y,z\n",
        "solveset((sin(x)+x)*(x**2-9),x,domain = S.Reals)"
      ],
      "metadata": {
        "colab": {
          "base_uri": "https://localhost:8080/",
          "height": 38
        },
        "id": "UDstUQ0k5uW3",
        "outputId": "e1263e66-eb50-462c-8994-815aca48081a"
      },
      "execution_count": 20,
      "outputs": [
        {
          "output_type": "execute_result",
          "data": {
            "text/plain": [
              "Union(ConditionSet(x, Eq(x + sin(x), 0), Reals), FiniteSet(-3, 3))"
            ],
            "text/latex": "$\\displaystyle \\left\\{-3, 3\\right\\} \\cup \\left\\{x \\mid x \\in \\mathbb{R} \\wedge x + \\sin{\\left(x \\right)} = 0 \\right\\}$"
          },
          "metadata": {},
          "execution_count": 20
        }
      ]
    },
    {
      "cell_type": "markdown",
      "source": [
        "**Thực hành 7:**"
      ],
      "metadata": {
        "id": "OwuSQhig5yiB"
      }
    },
    {
      "cell_type": "code",
      "source": [
        "from sympy import S, exp\n",
        "solveset (exp(x) > 1, x, domain = S.Reals)"
      ],
      "metadata": {
        "colab": {
          "base_uri": "https://localhost:8080/",
          "height": 37
        },
        "id": "27SDDkUD5zzu",
        "outputId": "de057ddf-e68a-43e0-df5e-d4f7625aa701"
      },
      "execution_count": 21,
      "outputs": [
        {
          "output_type": "execute_result",
          "data": {
            "text/plain": [
              "Interval.open(0, oo)"
            ],
            "text/latex": "$\\displaystyle \\left(0, \\infty\\right)$"
          },
          "metadata": {},
          "execution_count": 21
        }
      ]
    },
    {
      "cell_type": "code",
      "source": [
        "solveset(E**x > 1, x, domain = S.Reals)"
      ],
      "metadata": {
        "colab": {
          "base_uri": "https://localhost:8080/",
          "height": 37
        },
        "id": "c_hnMNdB6DtS",
        "outputId": "489a8f2a-e582-4dcc-f9c2-b8319af276e4"
      },
      "execution_count": 23,
      "outputs": [
        {
          "output_type": "execute_result",
          "data": {
            "text/plain": [
              "Interval.open(0, oo)"
            ],
            "text/latex": "$\\displaystyle \\left(0, \\infty\\right)$"
          },
          "metadata": {},
          "execution_count": 23
        }
      ]
    },
    {
      "cell_type": "code",
      "source": [
        "solveset(E**x > E, x, domain = S.Reals)"
      ],
      "metadata": {
        "colab": {
          "base_uri": "https://localhost:8080/",
          "height": 37
        },
        "id": "7rR1MBdJ6ICG",
        "outputId": "a0b72a9f-a5d6-4c65-ea82-e5d26ef48ca7"
      },
      "execution_count": 24,
      "outputs": [
        {
          "output_type": "execute_result",
          "data": {
            "text/plain": [
              "Interval.open(1, oo)"
            ],
            "text/latex": "$\\displaystyle \\left(1, \\infty\\right)$"
          },
          "metadata": {},
          "execution_count": 24
        }
      ]
    },
    {
      "cell_type": "code",
      "source": [
        "R = S.Reals  \n",
        "solveset(E**x > E, x, R)"
      ],
      "metadata": {
        "colab": {
          "base_uri": "https://localhost:8080/",
          "height": 37
        },
        "id": "0bv988bp6KUM",
        "outputId": "d5e31241-331e-4bbe-c7e7-c6d69823bc5e"
      },
      "execution_count": 25,
      "outputs": [
        {
          "output_type": "execute_result",
          "data": {
            "text/plain": [
              "Interval.open(1, oo)"
            ],
            "text/latex": "$\\displaystyle \\left(1, \\infty\\right)$"
          },
          "metadata": {},
          "execution_count": 25
        }
      ]
    },
    {
      "cell_type": "markdown",
      "source": [
        "**Thực hành 8:**"
      ],
      "metadata": {
        "id": "0zMJ5IL066_Z"
      }
    },
    {
      "cell_type": "code",
      "source": [
        "from sympy import Symbol, Derivative, solve\n",
        "x = Symbol('x')\n",
        "y = Symbol('y')\n",
        "z = Symbol('z')\n",
        "f = 4*x*y - 8*x - 5 + z*(x + y - 50)\n",
        "dx = Derivative(f,x).doit()\n",
        "dy = Derivative(f,y).doit()\n",
        "dz = Derivative(f,z).doit()"
      ],
      "metadata": {
        "id": "NdbHUZ5F68l1"
      },
      "execution_count": 26,
      "outputs": []
    },
    {
      "cell_type": "code",
      "source": [
        "nghiem = solve ([dx,dy,dz], (x,y,z))\n",
        "print(nghiem)"
      ],
      "metadata": {
        "colab": {
          "base_uri": "https://localhost:8080/"
        },
        "id": "Z7N2zbQ-7pZf",
        "outputId": "dcc5a3f5-f0a6-4674-878a-68bae05f5e7b"
      },
      "execution_count": 29,
      "outputs": [
        {
          "output_type": "stream",
          "name": "stdout",
          "text": [
            "{x: 24, y: 26, z: -96}\n"
          ]
        }
      ]
    },
    {
      "cell_type": "code",
      "source": [
        "xx = nghiem[x]\n",
        "yy = nghiem[y]\n",
        "4*xx*yy - 8*xx - 5"
      ],
      "metadata": {
        "colab": {
          "base_uri": "https://localhost:8080/",
          "height": 37
        },
        "id": "Eh8iRAnF74FH",
        "outputId": "7135c275-d0c5-4264-f1d2-9f23c3cfba60"
      },
      "execution_count": 30,
      "outputs": [
        {
          "output_type": "execute_result",
          "data": {
            "text/plain": [
              "2299"
            ],
            "text/latex": "$\\displaystyle 2299$"
          },
          "metadata": {},
          "execution_count": 30
        }
      ]
    },
    {
      "cell_type": "code",
      "source": [
        "ketqua = 4*nghiem[x]*nghiem[y] - 8*nghiem[x] - 5\n",
        "print(ketqua)"
      ],
      "metadata": {
        "colab": {
          "base_uri": "https://localhost:8080/"
        },
        "id": "k-glA6EO7_Gu",
        "outputId": "b0408d4c-3582-49a0-f192-6492155cb410"
      },
      "execution_count": 31,
      "outputs": [
        {
          "output_type": "stream",
          "name": "stdout",
          "text": [
            "2299\n"
          ]
        }
      ]
    },
    {
      "cell_type": "markdown",
      "source": [
        "**Bài tập chương 8**"
      ],
      "metadata": {
        "id": "woThEJ4u8Hb5"
      }
    },
    {
      "cell_type": "markdown",
      "source": [
        "**Bài tập 1:**"
      ],
      "metadata": {
        "id": "Yxhft5t58JTp"
      }
    },
    {
      "cell_type": "code",
      "source": [
        "from sympy import Derivative, Symbol, solve\n",
        "x = Symbol('x')\n",
        "y = Symbol('y')\n",
        "z = Symbol('z')\n",
        "v = Symbol('v')\n",
        "m = x + y + z - 5\n",
        "f = x*y**2*z**2 + v*(x + y + z - 5)\n",
        "fx = Derivative(f,x).doit()\n",
        "fy = Derivative(f,y).doit()\n",
        "fz = Derivative(f,z).doit()"
      ],
      "metadata": {
        "id": "bqj9uxlM8Iqt"
      },
      "execution_count": 32,
      "outputs": []
    },
    {
      "cell_type": "code",
      "source": [
        "nghiem = solve([fx,fy,fz,m], (x,y,z,v), domain = S.Reals)\n",
        "print(nghiem)"
      ],
      "metadata": {
        "colab": {
          "base_uri": "https://localhost:8080/"
        },
        "id": "-CbkA_lW8qsY",
        "outputId": "150f0fdc-697f-4def-b1c0-9a252627ce39"
      },
      "execution_count": 33,
      "outputs": [
        {
          "output_type": "stream",
          "name": "stdout",
          "text": [
            "[(0, 0, 5, 0), (1, 2, 2, -16), (5/3, 10/3, 0, 0), (5 - y, y, 0, 0), (5 - z, 0, z, 0)]\n"
          ]
        }
      ]
    },
    {
      "cell_type": "code",
      "source": [
        "x = 0\n",
        "y = 0\n",
        "z = 0\n",
        "f = x*y**2*z**2\n",
        "f"
      ],
      "metadata": {
        "colab": {
          "base_uri": "https://localhost:8080/"
        },
        "id": "E0BOh6GB81xu",
        "outputId": "31c10890-b546-4aa7-ed63-896fafffc346"
      },
      "execution_count": 34,
      "outputs": [
        {
          "output_type": "execute_result",
          "data": {
            "text/plain": [
              "0"
            ]
          },
          "metadata": {},
          "execution_count": 34
        }
      ]
    },
    {
      "cell_type": "code",
      "source": [
        "x = 5/3\n",
        "y = 10/3\n",
        "z = 0\n",
        "f =x*y**2*z**2\n",
        "f"
      ],
      "metadata": {
        "colab": {
          "base_uri": "https://localhost:8080/"
        },
        "id": "xmllcxMX871r",
        "outputId": "3c98abfe-f86b-4f64-b022-48bb4050520b"
      },
      "execution_count": 35,
      "outputs": [
        {
          "output_type": "execute_result",
          "data": {
            "text/plain": [
              "0.0"
            ]
          },
          "metadata": {},
          "execution_count": 35
        }
      ]
    },
    {
      "cell_type": "code",
      "source": [
        "x = 1\n",
        "y = 2\n",
        "z = 2\n",
        "f =x*y**2*z**2\n",
        "f"
      ],
      "metadata": {
        "colab": {
          "base_uri": "https://localhost:8080/"
        },
        "id": "79Kmp3xM9C1Q",
        "outputId": "bfb9145e-eced-44c6-fba6-73674cfa6d62"
      },
      "execution_count": 36,
      "outputs": [
        {
          "output_type": "execute_result",
          "data": {
            "text/plain": [
              "16"
            ]
          },
          "metadata": {},
          "execution_count": 36
        }
      ]
    },
    {
      "cell_type": "markdown",
      "source": [
        "**Bài tập 2:**"
      ],
      "metadata": {
        "id": "_NC-QTZV9c7d"
      }
    },
    {
      "cell_type": "code",
      "source": [
        "from sympy import Derivative, Symbol, solve\n",
        "x = Symbol('x')\n",
        "y = Symbol('y')\n",
        "f1 = 500*(y-x)/365\n",
        "f2 = (45000+500*(x-2*y))/365\n",
        "nghiem = solve([f1,f2], (x,y), domain = S.Reals)\n",
        "print(nghiem)"
      ],
      "metadata": {
        "colab": {
          "base_uri": "https://localhost:8080/"
        },
        "id": "j6BWAIPf9exX",
        "outputId": "98c94062-27d9-47c5-f46c-dec216ebda48"
      },
      "execution_count": 42,
      "outputs": [
        {
          "output_type": "stream",
          "name": "stdout",
          "text": [
            "{x: 90, y: 90}\n"
          ]
        }
      ]
    }
  ]
}